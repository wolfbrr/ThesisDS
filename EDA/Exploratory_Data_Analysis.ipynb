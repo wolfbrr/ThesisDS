{
 "cells": [
  {
   "cell_type": "markdown",
   "id": "5e25ea09-74d6-47e6-bad6-e922f52c3532",
   "metadata": {},
   "source": [
    "# Personal Information\n",
    "Name: **Boris Wolfson**\n",
    "\n",
    "StudentID: **13551884**\n",
    "\n",
    "Email: [**boris.wolfson@student.uva.nl**](boris.wolfson@student.uva.nl)\n",
    "\n",
    "Submitted on: **23.03.2024**"
   ]
  },
  {
   "cell_type": "markdown",
   "id": "c81b7e23",
   "metadata": {},
   "source": [
    "### Github\n",
    "https://github.com/wolfbrr/ThesisDS"
   ]
  },
  {
   "cell_type": "markdown",
   "id": "e3cf6243-adfe-4eb8-bba3-bb2835079abd",
   "metadata": {},
   "source": [
    "# Data Context\n",
    "<!-- **In this section you should introduce the datasources and datasets which you will be working with. Explain where they are from as well as their domain. Give an overview of what the context of the data is. You should not spend more than 1 to 2 paragraphs here as the core information will be in the next section.**\n",
    "From kaggle site:\n",
    "There is a lack of public available datasets on financial services and specially in the emerging mobile money transactions domain. Financial datasets are important to many researchers and in particular to us performing research in the domain of fraud detection. Part of the problem is the intrinsically private nature of financial transactions, that leads to no publicly available datasets.\n",
    "\n",
    "We present a synthetic dataset generated using the simulator called PaySim as an approach to such a problem. PaySim uses aggregated data from the private dataset to generate a synthetic dataset that resembles the normal operation of transactions and injects malicious behaviour to later evaluate the performance of fraud detection methods. -->\n",
    "\n",
    "In the fraud detection domain, mostly due to the privacy of financial transaction restrictions, the available financial data are absent. A considerable amount of research was done on a simulated scenario available on Kaggle https://www.kaggle.com/datasets/ealaxi/paysim1. In this dataset, the fraudulent behavior of the agents aims to profit by taking control of customers' accounts and trying to empty the funds by transferring them to another account and then cashing out of the system. \n",
    "\n",
    "\n",
    "The data set is based on the work of \n",
    "E. A. Lopez-Rojas , A. Elmir, and S. Axelsson. \"PaySim: A financial mobile money simulator for fraud detection\". In: The 28th European Modeling and Simulation Symposium-EMSS, Larnaca, Cyprus. 2016\n",
    "\n",
    "\n",
    "\n"
   ]
  },
  {
   "cell_type": "markdown",
   "id": "a833d964-56e1-49c7-8172-7435357624aa",
   "metadata": {},
   "source": [
    "# Data Description\n",
    "<!-- \n",
    "**Present here the results of your exploratory data analysis. Note that there is no need to have a \"story line\" - it is more important that you show your understanding of the data and the methods that you will be using in your experiments (i.e. your methodology).**\n",
    "\n",
    "**As an example, you could show data, label, or group balances, skewness, and basic characterizations of the data. Information about data frequency and distributions as well as results from reduction mechanisms such as PCA could be useful. Furthermore, indicate outliers and how/why you are taking them out of your samples, if you do so.**\n",
    "\n",
    "**The idea is, that you conduct this analysis to a) understand the data better but b) also to verify the shapes of the distributions and whether they meet the assumptions of the methods that you will attempt to use. Finally, make good use of images, diagrams, and tables to showcase what information you have extracted from your data.**\n",
    "\n",
    "As you can see, you are in a jupyter notebook environment here. This means that you should focus little on writing text and more on actually exploring your data. If you need to, you can use the amsmath environment in-line: $e=mc^2$ or also in separate equations such as here:\n",
    "\n",
    "\\begin{equation}\n",
    "    e=mc^2 \\mathrm{\\space where \\space} e,m,c\\in \\mathbb{R}\n",
    "\\end{equation}\n",
    "\n",
    "Furthermore, you can insert images such as your data aggregation diagrams like this:\n",
    "\n",
    "![image](example.png) -->\n",
    "\n",
    "\n",
    "The dataset consists of the following columns:\n",
    "\n",
    "step - maps a unit of time in the real world. In this case 1 step is 1 hour of time. Total steps 744 (30 days simulation).\n",
    "\n",
    "type - CASH-IN, CASH-OUT, DEBIT, PAYMENT and TRANSFER.\n",
    "\n",
    "amount -\n",
    "amount of the transaction in local currency.\n",
    "\n",
    "nameOrig - customer who started the transaction\n",
    "\n",
    "oldbalanceOrg - initial balance before the transaction\n",
    "\n",
    "newbalanceOrig - new balance after the transaction.\n",
    "\n",
    "nameDest - customer who is the recipient of the transaction\n",
    "\n",
    "oldbalanceDest - initial balance recipient before the transaction. Note that there is not information for customers that start with M (Merchants).\n",
    "\n",
    "newbalanceDest - new balance recipient after the transaction. Note that there is not information for customers that start with M (Merchants).\n",
    "\n",
    "isFraud - This is the transactions made by the fraudulent agents inside the simulation. In this specific dataset the fraudulent behavior of the agents aims to profit by taking control or customers accounts and try to empty the funds by transferring to another account and then cashing out of the system.\n",
    "\n",
    "isFlaggedFraud - The business model aims to control massive transfers from one account to another and flags illegal attempts. An illegal attempt in this dataset is an attempt to transfer more than 200.000 in a single transaction."
   ]
  },
  {
   "cell_type": "code",
   "execution_count": 1,
   "id": "534317db-d881-4e33-a358-754e2881e8bd",
   "metadata": {},
   "outputs": [],
   "source": [
    "# Imports\n",
    "import os\n",
    "import numpy as np\n",
    "import pandas as pd\n",
    "import matplotlib.pyplot as plt \n",
    "import matplotlib.ticker as mticker \n",
    "import seaborn as sns "
   ]
  },
  {
   "cell_type": "markdown",
   "id": "b582b299-f599-4140-a454-bcbfdeeb273f",
   "metadata": {},
   "source": [
    "### Data Loading"
   ]
  },
  {
   "cell_type": "code",
   "execution_count": 2,
   "id": "9f0cf9be-2cac-4227-957f-ad893212e70c",
   "metadata": {},
   "outputs": [
    {
     "data": {
      "text/html": [
       "<div>\n",
       "<style scoped>\n",
       "    .dataframe tbody tr th:only-of-type {\n",
       "        vertical-align: middle;\n",
       "    }\n",
       "\n",
       "    .dataframe tbody tr th {\n",
       "        vertical-align: top;\n",
       "    }\n",
       "\n",
       "    .dataframe thead th {\n",
       "        text-align: right;\n",
       "    }\n",
       "</style>\n",
       "<table border=\"1\" class=\"dataframe\">\n",
       "  <thead>\n",
       "    <tr style=\"text-align: right;\">\n",
       "      <th></th>\n",
       "      <th>step</th>\n",
       "      <th>type</th>\n",
       "      <th>amount</th>\n",
       "      <th>nameOrig</th>\n",
       "      <th>oldbalanceOrg</th>\n",
       "      <th>newbalanceOrig</th>\n",
       "      <th>nameDest</th>\n",
       "      <th>oldbalanceDest</th>\n",
       "      <th>newbalanceDest</th>\n",
       "      <th>isFraud</th>\n",
       "      <th>isFlaggedFraud</th>\n",
       "    </tr>\n",
       "  </thead>\n",
       "  <tbody>\n",
       "    <tr>\n",
       "      <th>0</th>\n",
       "      <td>1</td>\n",
       "      <td>PAYMENT</td>\n",
       "      <td>9839.64</td>\n",
       "      <td>C1231006815</td>\n",
       "      <td>170136.00</td>\n",
       "      <td>160296.36</td>\n",
       "      <td>M1979787155</td>\n",
       "      <td>0.00</td>\n",
       "      <td>0.00</td>\n",
       "      <td>0</td>\n",
       "      <td>0</td>\n",
       "    </tr>\n",
       "    <tr>\n",
       "      <th>1</th>\n",
       "      <td>1</td>\n",
       "      <td>PAYMENT</td>\n",
       "      <td>1864.28</td>\n",
       "      <td>C1666544295</td>\n",
       "      <td>21249.00</td>\n",
       "      <td>19384.72</td>\n",
       "      <td>M2044282225</td>\n",
       "      <td>0.00</td>\n",
       "      <td>0.00</td>\n",
       "      <td>0</td>\n",
       "      <td>0</td>\n",
       "    </tr>\n",
       "    <tr>\n",
       "      <th>2</th>\n",
       "      <td>1</td>\n",
       "      <td>TRANSFER</td>\n",
       "      <td>181.00</td>\n",
       "      <td>C1305486145</td>\n",
       "      <td>181.00</td>\n",
       "      <td>0.00</td>\n",
       "      <td>C553264065</td>\n",
       "      <td>0.00</td>\n",
       "      <td>0.00</td>\n",
       "      <td>1</td>\n",
       "      <td>0</td>\n",
       "    </tr>\n",
       "    <tr>\n",
       "      <th>3</th>\n",
       "      <td>1</td>\n",
       "      <td>CASH_OUT</td>\n",
       "      <td>181.00</td>\n",
       "      <td>C840083671</td>\n",
       "      <td>181.00</td>\n",
       "      <td>0.00</td>\n",
       "      <td>C38997010</td>\n",
       "      <td>21182.00</td>\n",
       "      <td>0.00</td>\n",
       "      <td>1</td>\n",
       "      <td>0</td>\n",
       "    </tr>\n",
       "    <tr>\n",
       "      <th>4</th>\n",
       "      <td>1</td>\n",
       "      <td>PAYMENT</td>\n",
       "      <td>11668.14</td>\n",
       "      <td>C2048537720</td>\n",
       "      <td>41554.00</td>\n",
       "      <td>29885.86</td>\n",
       "      <td>M1230701703</td>\n",
       "      <td>0.00</td>\n",
       "      <td>0.00</td>\n",
       "      <td>0</td>\n",
       "      <td>0</td>\n",
       "    </tr>\n",
       "    <tr>\n",
       "      <th>...</th>\n",
       "      <td>...</td>\n",
       "      <td>...</td>\n",
       "      <td>...</td>\n",
       "      <td>...</td>\n",
       "      <td>...</td>\n",
       "      <td>...</td>\n",
       "      <td>...</td>\n",
       "      <td>...</td>\n",
       "      <td>...</td>\n",
       "      <td>...</td>\n",
       "      <td>...</td>\n",
       "    </tr>\n",
       "    <tr>\n",
       "      <th>6362615</th>\n",
       "      <td>743</td>\n",
       "      <td>CASH_OUT</td>\n",
       "      <td>339682.13</td>\n",
       "      <td>C786484425</td>\n",
       "      <td>339682.13</td>\n",
       "      <td>0.00</td>\n",
       "      <td>C776919290</td>\n",
       "      <td>0.00</td>\n",
       "      <td>339682.13</td>\n",
       "      <td>1</td>\n",
       "      <td>0</td>\n",
       "    </tr>\n",
       "    <tr>\n",
       "      <th>6362616</th>\n",
       "      <td>743</td>\n",
       "      <td>TRANSFER</td>\n",
       "      <td>6311409.28</td>\n",
       "      <td>C1529008245</td>\n",
       "      <td>6311409.28</td>\n",
       "      <td>0.00</td>\n",
       "      <td>C1881841831</td>\n",
       "      <td>0.00</td>\n",
       "      <td>0.00</td>\n",
       "      <td>1</td>\n",
       "      <td>0</td>\n",
       "    </tr>\n",
       "    <tr>\n",
       "      <th>6362617</th>\n",
       "      <td>743</td>\n",
       "      <td>CASH_OUT</td>\n",
       "      <td>6311409.28</td>\n",
       "      <td>C1162922333</td>\n",
       "      <td>6311409.28</td>\n",
       "      <td>0.00</td>\n",
       "      <td>C1365125890</td>\n",
       "      <td>68488.84</td>\n",
       "      <td>6379898.11</td>\n",
       "      <td>1</td>\n",
       "      <td>0</td>\n",
       "    </tr>\n",
       "    <tr>\n",
       "      <th>6362618</th>\n",
       "      <td>743</td>\n",
       "      <td>TRANSFER</td>\n",
       "      <td>850002.52</td>\n",
       "      <td>C1685995037</td>\n",
       "      <td>850002.52</td>\n",
       "      <td>0.00</td>\n",
       "      <td>C2080388513</td>\n",
       "      <td>0.00</td>\n",
       "      <td>0.00</td>\n",
       "      <td>1</td>\n",
       "      <td>0</td>\n",
       "    </tr>\n",
       "    <tr>\n",
       "      <th>6362619</th>\n",
       "      <td>743</td>\n",
       "      <td>CASH_OUT</td>\n",
       "      <td>850002.52</td>\n",
       "      <td>C1280323807</td>\n",
       "      <td>850002.52</td>\n",
       "      <td>0.00</td>\n",
       "      <td>C873221189</td>\n",
       "      <td>6510099.11</td>\n",
       "      <td>7360101.63</td>\n",
       "      <td>1</td>\n",
       "      <td>0</td>\n",
       "    </tr>\n",
       "  </tbody>\n",
       "</table>\n",
       "<p>6362620 rows × 11 columns</p>\n",
       "</div>"
      ],
      "text/plain": [
       "         step      type      amount     nameOrig  oldbalanceOrg  \\\n",
       "0           1   PAYMENT     9839.64  C1231006815      170136.00   \n",
       "1           1   PAYMENT     1864.28  C1666544295       21249.00   \n",
       "2           1  TRANSFER      181.00  C1305486145         181.00   \n",
       "3           1  CASH_OUT      181.00   C840083671         181.00   \n",
       "4           1   PAYMENT    11668.14  C2048537720       41554.00   \n",
       "...       ...       ...         ...          ...            ...   \n",
       "6362615   743  CASH_OUT   339682.13   C786484425      339682.13   \n",
       "6362616   743  TRANSFER  6311409.28  C1529008245     6311409.28   \n",
       "6362617   743  CASH_OUT  6311409.28  C1162922333     6311409.28   \n",
       "6362618   743  TRANSFER   850002.52  C1685995037      850002.52   \n",
       "6362619   743  CASH_OUT   850002.52  C1280323807      850002.52   \n",
       "\n",
       "         newbalanceOrig     nameDest  oldbalanceDest  newbalanceDest  isFraud  \\\n",
       "0             160296.36  M1979787155            0.00            0.00        0   \n",
       "1              19384.72  M2044282225            0.00            0.00        0   \n",
       "2                  0.00   C553264065            0.00            0.00        1   \n",
       "3                  0.00    C38997010        21182.00            0.00        1   \n",
       "4              29885.86  M1230701703            0.00            0.00        0   \n",
       "...                 ...          ...             ...             ...      ...   \n",
       "6362615            0.00   C776919290            0.00       339682.13        1   \n",
       "6362616            0.00  C1881841831            0.00            0.00        1   \n",
       "6362617            0.00  C1365125890        68488.84      6379898.11        1   \n",
       "6362618            0.00  C2080388513            0.00            0.00        1   \n",
       "6362619            0.00   C873221189      6510099.11      7360101.63        1   \n",
       "\n",
       "         isFlaggedFraud  \n",
       "0                     0  \n",
       "1                     0  \n",
       "2                     0  \n",
       "3                     0  \n",
       "4                     0  \n",
       "...                 ...  \n",
       "6362615               0  \n",
       "6362616               0  \n",
       "6362617               0  \n",
       "6362618               0  \n",
       "6362619               0  \n",
       "\n",
       "[6362620 rows x 11 columns]"
      ]
     },
     "metadata": {},
     "output_type": "display_data"
    }
   ],
   "source": [
    "df_fraud=pd.read_csv('../DATA/paysim1/PS_20174392719_1491204439457_log.csv')\n",
    "display(df_fraud)"
   ]
  },
  {
   "cell_type": "markdown",
   "id": "79ff269e",
   "metadata": {},
   "source": [
    "## Columns statistics"
   ]
  },
  {
   "cell_type": "code",
   "execution_count": 3,
   "id": "1d805fb9",
   "metadata": {},
   "outputs": [
    {
     "data": {
      "text/html": [
       "<div>\n",
       "<style scoped>\n",
       "    .dataframe tbody tr th:only-of-type {\n",
       "        vertical-align: middle;\n",
       "    }\n",
       "\n",
       "    .dataframe tbody tr th {\n",
       "        vertical-align: top;\n",
       "    }\n",
       "\n",
       "    .dataframe thead th {\n",
       "        text-align: right;\n",
       "    }\n",
       "</style>\n",
       "<table border=\"1\" class=\"dataframe\">\n",
       "  <thead>\n",
       "    <tr style=\"text-align: right;\">\n",
       "      <th></th>\n",
       "      <th>step</th>\n",
       "      <th>amount</th>\n",
       "      <th>oldbalanceOrg</th>\n",
       "      <th>newbalanceOrig</th>\n",
       "      <th>oldbalanceDest</th>\n",
       "      <th>newbalanceDest</th>\n",
       "      <th>isFraud</th>\n",
       "      <th>isFlaggedFraud</th>\n",
       "    </tr>\n",
       "  </thead>\n",
       "  <tbody>\n",
       "    <tr>\n",
       "      <th>count</th>\n",
       "      <td>6362620.000</td>\n",
       "      <td>6362620.000</td>\n",
       "      <td>6362620.000</td>\n",
       "      <td>6362620.000</td>\n",
       "      <td>6362620.000</td>\n",
       "      <td>6362620.000</td>\n",
       "      <td>6362620.000</td>\n",
       "      <td>6362620.000</td>\n",
       "    </tr>\n",
       "    <tr>\n",
       "      <th>mean</th>\n",
       "      <td>243.397</td>\n",
       "      <td>179861.904</td>\n",
       "      <td>833883.104</td>\n",
       "      <td>855113.669</td>\n",
       "      <td>1100701.667</td>\n",
       "      <td>1224996.398</td>\n",
       "      <td>0.001</td>\n",
       "      <td>0.000</td>\n",
       "    </tr>\n",
       "    <tr>\n",
       "      <th>std</th>\n",
       "      <td>142.332</td>\n",
       "      <td>603858.231</td>\n",
       "      <td>2888242.673</td>\n",
       "      <td>2924048.503</td>\n",
       "      <td>3399180.113</td>\n",
       "      <td>3674128.942</td>\n",
       "      <td>0.036</td>\n",
       "      <td>0.002</td>\n",
       "    </tr>\n",
       "    <tr>\n",
       "      <th>min</th>\n",
       "      <td>1.000</td>\n",
       "      <td>0.000</td>\n",
       "      <td>0.000</td>\n",
       "      <td>0.000</td>\n",
       "      <td>0.000</td>\n",
       "      <td>0.000</td>\n",
       "      <td>0.000</td>\n",
       "      <td>0.000</td>\n",
       "    </tr>\n",
       "    <tr>\n",
       "      <th>25%</th>\n",
       "      <td>156.000</td>\n",
       "      <td>13389.570</td>\n",
       "      <td>0.000</td>\n",
       "      <td>0.000</td>\n",
       "      <td>0.000</td>\n",
       "      <td>0.000</td>\n",
       "      <td>0.000</td>\n",
       "      <td>0.000</td>\n",
       "    </tr>\n",
       "    <tr>\n",
       "      <th>50%</th>\n",
       "      <td>239.000</td>\n",
       "      <td>74871.940</td>\n",
       "      <td>14208.000</td>\n",
       "      <td>0.000</td>\n",
       "      <td>132705.665</td>\n",
       "      <td>214661.440</td>\n",
       "      <td>0.000</td>\n",
       "      <td>0.000</td>\n",
       "    </tr>\n",
       "    <tr>\n",
       "      <th>75%</th>\n",
       "      <td>335.000</td>\n",
       "      <td>208721.478</td>\n",
       "      <td>107315.175</td>\n",
       "      <td>144258.410</td>\n",
       "      <td>943036.708</td>\n",
       "      <td>1111909.250</td>\n",
       "      <td>0.000</td>\n",
       "      <td>0.000</td>\n",
       "    </tr>\n",
       "    <tr>\n",
       "      <th>max</th>\n",
       "      <td>743.000</td>\n",
       "      <td>92445516.640</td>\n",
       "      <td>59585040.370</td>\n",
       "      <td>49585040.370</td>\n",
       "      <td>356015889.350</td>\n",
       "      <td>356179278.920</td>\n",
       "      <td>1.000</td>\n",
       "      <td>1.000</td>\n",
       "    </tr>\n",
       "  </tbody>\n",
       "</table>\n",
       "</div>"
      ],
      "text/plain": [
       "             step       amount  oldbalanceOrg  newbalanceOrig  oldbalanceDest  \\\n",
       "count 6362620.000  6362620.000    6362620.000     6362620.000     6362620.000   \n",
       "mean      243.397   179861.904     833883.104      855113.669     1100701.667   \n",
       "std       142.332   603858.231    2888242.673     2924048.503     3399180.113   \n",
       "min         1.000        0.000          0.000           0.000           0.000   \n",
       "25%       156.000    13389.570          0.000           0.000           0.000   \n",
       "50%       239.000    74871.940      14208.000           0.000      132705.665   \n",
       "75%       335.000   208721.478     107315.175      144258.410      943036.708   \n",
       "max       743.000 92445516.640   59585040.370    49585040.370   356015889.350   \n",
       "\n",
       "       newbalanceDest     isFraud  isFlaggedFraud  \n",
       "count     6362620.000 6362620.000     6362620.000  \n",
       "mean      1224996.398       0.001           0.000  \n",
       "std       3674128.942       0.036           0.002  \n",
       "min             0.000       0.000           0.000  \n",
       "25%             0.000       0.000           0.000  \n",
       "50%        214661.440       0.000           0.000  \n",
       "75%       1111909.250       0.000           0.000  \n",
       "max     356179278.920       1.000           1.000  "
      ]
     },
     "execution_count": 3,
     "metadata": {},
     "output_type": "execute_result"
    }
   ],
   "source": [
    "pd.set_option('display.float_format', lambda x: '%.3f' % x) # showing format up to 3 digits after comma\n",
    "df_fraud.describe()\n"
   ]
  },
  {
   "cell_type": "code",
   "execution_count": 4,
   "id": "75b12bde",
   "metadata": {},
   "outputs": [
    {
     "name": "stdout",
     "output_type": "stream",
     "text": [
      "# of raws 6362620\n",
      "Amount \t \t min, max (0, 92445517) \n",
      "oldbalanceOrg \t min, max (0, 59585040) \n",
      "newbalanceOrig \t min, max (0, 49585040) \n",
      "oldbalanceDest \t min, max (0, 356015889)\n",
      "newbalanceDest \t min, max (0, 356179279)\n"
     ]
    }
   ],
   "source": [
    "print('# of raws %d' % df_fraud['amount'].count())\n",
    "\n",
    "print('Amount \\t \\t min, max (%.0f, %.0f) ' % (df_fraud['amount'].min(), df_fraud['amount'].max()))\n",
    "print('oldbalanceOrg \\t min, max (%.0f, %.0f) ' % (df_fraud['oldbalanceOrg'].min(), df_fraud['oldbalanceOrg'].max()))\n",
    "print('newbalanceOrig \\t min, max (%.0f, %.0f) ' % (df_fraud['newbalanceOrig'].min(),df_fraud['newbalanceOrig'].max()))\n",
    "print('oldbalanceDest \\t min, max (%.0f, %.0f)' % (df_fraud['oldbalanceDest'].min(), df_fraud['oldbalanceDest'].max()))\n",
    "print('newbalanceDest \\t min, max (%.0f, %.0f)' % (df_fraud['newbalanceDest'].min(), df_fraud['newbalanceDest'].max()))\n"
   ]
  },
  {
   "cell_type": "markdown",
   "id": "968e606a",
   "metadata": {},
   "source": [
    "## Missing Values\n"
   ]
  },
  {
   "cell_type": "code",
   "execution_count": 5,
   "id": "91055d46",
   "metadata": {},
   "outputs": [
    {
     "data": {
      "text/plain": [
       "step              0\n",
       "type              0\n",
       "amount            0\n",
       "nameOrig          0\n",
       "oldbalanceOrg     0\n",
       "newbalanceOrig    0\n",
       "nameDest          0\n",
       "oldbalanceDest    0\n",
       "newbalanceDest    0\n",
       "isFraud           0\n",
       "isFlaggedFraud    0\n",
       "dtype: int64"
      ]
     },
     "execution_count": 5,
     "metadata": {},
     "output_type": "execute_result"
    }
   ],
   "source": [
    "df_fraud.isna().sum()"
   ]
  },
  {
   "cell_type": "markdown",
   "id": "dfcc05de",
   "metadata": {},
   "source": [
    "Although, from the output above, there are no missing values in the table. The values that require a special treatments are the transactions with zero values for the old and new balances, but not a zero for the amount of the transaction. Those are transactions to the bank, that has to be imputed later"
   ]
  },
  {
   "cell_type": "code",
   "execution_count": 6,
   "id": "5112ca75",
   "metadata": {},
   "outputs": [
    {
     "name": "stdout",
     "output_type": "stream",
     "text": [
      "# transactions to a bank 2317276\n",
      "Percentage of transactions to a bank: 36.42\n",
      "# transactions from a bank 2088969\n",
      "Percentage of transactions from a bank: 32.83\n"
     ]
    }
   ],
   "source": [
    "## Transactions with both zero old and new balances\n",
    "x = np.sum((df_fraud['amount']!=0)&(df_fraud['oldbalanceDest']==0)&(df_fraud['newbalanceDest']==0))\n",
    "print(f'# transactions to a bank %d' % x)\n",
    "print(f'Percentage of transactions to a bank: %.2f' % (x/len(df_fraud)*100))\n",
    "x = np.sum((df_fraud['amount']!=0)&(df_fraud['oldbalanceOrg']==0)&(df_fraud['newbalanceOrig']==0))\n",
    "print(f'# transactions from a bank %d'% x)\n",
    "print(f'Percentage of transactions from a bank: %.2f' % (x/len(df_fraud)*100))"
   ]
  },
  {
   "cell_type": "code",
   "execution_count": 7,
   "id": "46b5b714",
   "metadata": {},
   "outputs": [
    {
     "data": {
      "text/plain": [
       "2317282"
      ]
     },
     "execution_count": 7,
     "metadata": {},
     "output_type": "execute_result"
    }
   ],
   "source": [
    "np.sum((df_fraud['oldbalanceDest']==0)&(df_fraud['newbalanceDest']==0))"
   ]
  },
  {
   "cell_type": "markdown",
   "id": "b4df9546-a6d7-4678-aca6-cd13d5f3c79a",
   "metadata": {},
   "source": [
    "### Payments type distribution: \n"
   ]
  },
  {
   "cell_type": "code",
   "execution_count": 8,
   "id": "bfa8841d",
   "metadata": {},
   "outputs": [
    {
     "name": "stdout",
     "output_type": "stream",
     "text": [
      "['PAYMENT' 'TRANSFER' 'CASH_OUT' 'DEBIT' 'CASH_IN']\n"
     ]
    }
   ],
   "source": [
    "#unique type\n",
    "print(df_fraud[\"type\"].unique())"
   ]
  },
  {
   "cell_type": "code",
   "execution_count": 9,
   "id": "a889a6c7-aed8-4a0f-9925-c4f8e2fce1d5",
   "metadata": {},
   "outputs": [
    {
     "data": {
      "text/plain": [
       "<Axes: >"
      ]
     },
     "execution_count": 9,
     "metadata": {},
     "output_type": "execute_result"
    },
    {
     "data": {
      "image/png": "[encoded data removed]",
      "text/plain": [
       "<Figure size 640x480 with 1 Axes>"
      ]
     },
     "metadata": {},
     "output_type": "display_data"
    }
   ],
   "source": [
    "df_fraud.groupby('type').size().plot(kind='pie',autopct='%1.0f%%')"
   ]
  },
  {
   "cell_type": "markdown",
   "id": "642d8bd1",
   "metadata": {},
   "source": [
    "## Recipient/Custumer Analysis"
   ]
  },
  {
   "cell_type": "code",
   "execution_count": 10,
   "id": "3cba6415",
   "metadata": {},
   "outputs": [
    {
     "name": "stdout",
     "output_type": "stream",
     "text": [
      "recipients participated in more than 1 transaction 17%\n",
      "custumers participated in more than 1 transaction 0.15%\n"
     ]
    }
   ],
   "source": [
    "recipients = df_fraud.groupby('nameDest')['amount'].count()\n",
    "x = np.sum(recipients>1)/len(recipients)*100\n",
    "print(f\"recipients participated in more than 1 transaction %.0f%%\" % x)\n",
    "custumers = df_fraud.groupby('nameOrig')['amount'].count()\n",
    "x = np.sum(custumers>1)/len(custumers)*100\n",
    "print(f\"custumers participated in more than 1 transaction %.2f%%\" % x)"
   ]
  },
  {
   "cell_type": "markdown",
   "id": "ee63fdfc",
   "metadata": {},
   "source": [
    "### Number of unique Customer (nameOrig) and Recipient (nameDest)"
   ]
  },
  {
   "cell_type": "code",
   "execution_count": 11,
   "id": "803391b2",
   "metadata": {},
   "outputs": [
    {
     "name": "stdout",
     "output_type": "stream",
     "text": [
      "# unique nameOrig 6353307\n",
      "# unique nameDest 2722362\n"
     ]
    }
   ],
   "source": [
    "print('# unique nameOrig %d' % len(df_fraud[\"nameOrig\"].unique()))\n",
    "print('# unique nameDest %d' % len(df_fraud[\"nameDest\"].unique()))\n"
   ]
  },
  {
   "cell_type": "markdown",
   "id": "c2b796dc-f69d-4686-b802-bd0d8f679ee8",
   "metadata": {},
   "source": [
    "### Destination type distribution\n",
    "the columns starting with C meaning private custumers, and with M meaning Merchants"
   ]
  },
  {
   "cell_type": "code",
   "execution_count": 12,
   "id": "c33b453f-1bc2-4cad-8021-e548d307f154",
   "metadata": {},
   "outputs": [
    {
     "data": {
      "text/plain": [
       "Text(0.5, 1.0, 'Custumers / Merchants ratio\\nname destination')"
      ]
     },
     "execution_count": 12,
     "metadata": {},
     "output_type": "execute_result"
    },
    {
     "data": {
      "image/png": "[encoded data removed]",
      "text/plain": [
       "<Figure size 640x480 with 1 Axes>"
      ]
     },
     "metadata": {},
     "output_type": "display_data"
    }
   ],
   "source": [
    "df_fraud['distType'] = df_fraud[\"nameDest\"].str[0]\n",
    "\n",
    "a = df_fraud.groupby('nameDest').count().reset_index()\n",
    "a['distType'] = a[\"nameDest\"].str[0]\n",
    "axs = a.groupby('distType').size().plot(kind='pie',autopct='%1.0f%%')\n",
    "plt.title(f\"Custumers / Merchants ratio\\n\" + \"name destination\", bbox={'facecolor':'0.8', 'pad':5})"
   ]
  },
  {
   "cell_type": "markdown",
   "id": "09e40913",
   "metadata": {},
   "source": [
    "### Heat map between columns"
   ]
  },
  {
   "cell_type": "code",
   "execution_count": 13,
   "id": "96369b1b",
   "metadata": {},
   "outputs": [
    {
     "data": {
      "image/png": "[encoded data removed]",
      "text/plain": [
       "<Figure size 600x400 with 2 Axes>"
      ]
     },
     "metadata": {},
     "output_type": "display_data"
    }
   ],
   "source": [
    "def heatmap_eda(data):\n",
    "    \"\"\"coppied from  https://www.kaggle.com/code/anastasiakorotkova/exploratory-data-analysis-ml-fraud-detection \"\"\"\n",
    "    data_h = data[['step', 'amount','oldbalanceOrg', 'newbalanceOrig',\n",
    "       'oldbalanceDest', 'newbalanceDest', 'isFraud',\n",
    "       ]]\n",
    "    \n",
    "    plt.figure(figsize=(6, 4))\n",
    "    heatmap = sns.heatmap(data_h.corr(), vmin=-1, vmax=1, center=0, annot=False, cmap='viridis')\n",
    "    heatmap.set_title('Correlation Heatmap', pad=12)\n",
    "    \n",
    "heatmap_eda(df_fraud)"
   ]
  },
  {
   "cell_type": "markdown",
   "id": "f1f364bc",
   "metadata": {},
   "source": [
    "from the heatmap it seems that there is a small dependency between fraud and the amount transferred, to be examined further with fraud transaction amount distribution. The dependencies between the origin balances and the destination balances are obvious"
   ]
  },
  {
   "cell_type": "markdown",
   "id": "7e829320",
   "metadata": {},
   "source": [
    "## Fraudulent Statistics\n"
   ]
  },
  {
   "cell_type": "code",
   "execution_count": 14,
   "id": "f73fc50c",
   "metadata": {},
   "outputs": [
    {
     "name": "stdout",
     "output_type": "stream",
     "text": [
      "# Fraudulent transactions 8213 \n",
      "# Legitimate transactions 6354407\n",
      "Fraudulent ratio 0.13%\n"
     ]
    }
   ],
   "source": [
    "print('# Fraudulent transactions %.0f ' % df_fraud['isFraud'].sum())\n",
    "print('# Legitimate transactions %d' % df_fraud[df_fraud['isFraud']==0][\"isFraud\"].count())\n",
    "x = df_fraud['isFraud'].sum()/df_fraud['isFraud'].count()*100\n",
    "print('Fraudulent ratio %.2f%%' % x)"
   ]
  },
  {
   "cell_type": "code",
   "execution_count": 15,
   "id": "c1e1b1f9",
   "metadata": {},
   "outputs": [
    {
     "name": "stdout",
     "output_type": "stream",
     "text": [
      "average, median fraud transaction amount 1467967, 441423\n",
      "average, median valid transaction amoun 178197, 74684\n"
     ]
    }
   ],
   "source": [
    "x = df_fraud[df_fraud['isFraud']==True]['amount']\n",
    "fraud_median, fraud_average = (x.mean(),x.median())\n",
    "\n",
    "print(f'average, median fraud transaction amount %d, %d' % (fraud_median, fraud_average))\n",
    "x = df_fraud[df_fraud['isFraud']==False]['amount']\n",
    "valid_median, valid_average = (x.mean(),x.median())\n",
    "\n",
    "print(f'average, median valid transaction amoun %d, %d' % (valid_median, valid_average))\n"
   ]
  },
  {
   "cell_type": "markdown",
   "id": "1b093e7e",
   "metadata": {},
   "source": [
    "### Transaction amount distributions"
   ]
  },
  {
   "cell_type": "code",
   "execution_count": 16,
   "id": "54d2547e",
   "metadata": {},
   "outputs": [
    {
     "data": {
      "image/png": "[encoded data removed]",
      "text/plain": [
       "<Figure size 500x300 with 1 Axes>"
      ]
     },
     "metadata": {},
     "output_type": "display_data"
    }
   ],
   "source": [
    "import warnings\n",
    "warnings.filterwarnings('ignore')\n",
    "\n",
    "def histplot_eda(data):\n",
    "    plt.figure(figsize=(5, 3))\n",
    "    palette = sns.color_palette(\"pastel\")\n",
    "    df=data.copy()\n",
    "    df['amount'] +=0.001\n",
    "    sns.histplot(data=df, \n",
    "                            x='amount', \n",
    "                            kde=True,\n",
    "                            hue='isFraud',\n",
    "                            stat=\"density\",\n",
    "                            common_norm=False,\n",
    "                            palette=palette, log_scale=True)\n",
    "\n",
    "    plt.ylabel('density')\n",
    "    plt.xlabel('transaction amount')\n",
    "    plt.xlim(100,10**8)\n",
    "    plt.ylim(0,1)\n",
    "\n",
    "    plt.axvline(x = fraud_median, color = 'r', linestyle='--', label = 'Fraud median')\n",
    "    plt.axvline(x = fraud_average, color = 'r', label = 'Fraud average')    \n",
    "    plt.axvline(x = valid_median, color = 'b', linestyle='--', label = 'not Fraud median')\n",
    "    plt.axvline(x = valid_average, color = 'b', label = 'not Fraud average')\n",
    "    plt.legend(labels=['Fraud','Not Fraud','Fraud Median','Fraud Average','Not Fraud Median','Not Fraud Average'])\n",
    "histplot_eda(df_fraud)\n"
   ]
  },
  {
   "cell_type": "markdown",
   "id": "1c3c9593",
   "metadata": {},
   "source": [
    "### Fraud distribuition per transaction type"
   ]
  },
  {
   "cell_type": "code",
   "execution_count": 17,
   "id": "f493dfa1-38c4-40ca-af48-77c43074d3df",
   "metadata": {},
   "outputs": [],
   "source": [
    "df_fraud=df_fraud.astype({'isFraud': 'string'})"
   ]
  },
  {
   "cell_type": "code",
   "execution_count": 18,
   "id": "5d6e8ce8",
   "metadata": {},
   "outputs": [
    {
     "data": {
      "image/png": "[encoded data removed]",
      "text/plain": [
       "<Figure size 500x200 with 1 Axes>"
      ]
     },
     "metadata": {},
     "output_type": "display_data"
    }
   ],
   "source": [
    "def countplot_eda(df):\n",
    "    sns.set_style('whitegrid')\n",
    "    sns.set_context('paper')\n",
    "    plt.figure(figsize=(5, 2))\n",
    "    axs = sns.countplot(data=df, x='type', hue='isFraud')\n",
    "    axs.set_xlabel('Transaction Type ')\n",
    "    axs.set_ylabel('#')\n",
    "    axs.set_yscale('log')\n",
    "    axs.yaxis.set_major_formatter(mticker.ScalarFormatter())\n",
    "    plt.show()\n",
    "\n",
    "countplot_eda(df_fraud)"
   ]
  },
  {
   "cell_type": "code",
   "execution_count": 25,
   "id": "868d85be-6a4f-459b-a50c-39a0f18a9e2b",
   "metadata": {},
   "outputs": [],
   "source": [
    "df_fraud=df_fraud.astype({'isFraud': 'int'})"
   ]
  },
  {
   "cell_type": "code",
   "execution_count": 26,
   "id": "60074a1b-1ae5-46e8-971f-100199861c9c",
   "metadata": {},
   "outputs": [
    {
     "name": "stdout",
     "output_type": "stream",
     "text": [
      "amount of fraud in Merchants transactions 0\n"
     ]
    }
   ],
   "source": [
    "print(\"amount of fraud in Merchants transactions %d\" % df_fraud[df_fraud['distType']=='M']['isFraud'].sum())"
   ]
  },
  {
   "cell_type": "markdown",
   "id": "e3163389",
   "metadata": {},
   "source": [
    "Therefore no fraud transaction occured in the trasnaction to merchants"
   ]
  },
  {
   "cell_type": "markdown",
   "id": "eda38cf7-c47d-46d6-947d-e2e5583adb00",
   "metadata": {},
   "source": [
    "## All transactions per nameDest who performed at least one fraud operation"
   ]
  },
  {
   "cell_type": "code",
   "execution_count": 91,
   "id": "d497b73f-e852-459f-b623-38ae37af83fe",
   "metadata": {},
   "outputs": [],
   "source": [
    "df_fraudsters = df_fraud.merge(df_fraud[df_fraud['isFraud']==1]['nameDest'], how='inner', on='nameDest').drop_duplicates()"
   ]
  },
  {
   "cell_type": "code",
   "execution_count": 103,
   "id": "3ff1b474-f1dc-416f-8e82-66bea2c79c78",
   "metadata": {},
   "outputs": [
    {
     "data": {
      "text/plain": [
       "sum       2\n",
       "count    89\n",
       "dtype: int64"
      ]
     },
     "execution_count": 103,
     "metadata": {},
     "output_type": "execute_result"
    }
   ],
   "source": [
    "df_fraudsters.groupby('nameDest')['isFraud'].agg(['sum','count']).max()"
   ]
  },
  {
   "cell_type": "code",
   "execution_count": 96,
   "id": "10bf7901-adbf-4ce5-bc30-42d3fcfc498e",
   "metadata": {},
   "outputs": [],
   "source": [
    "x,y = np.histogram(df_fraudsters.groupby('nameDest')['isFraud'].sum(), bins=range(1,10))"
   ]
  },
  {
   "cell_type": "code",
   "execution_count": 97,
   "id": "7aeca2ad-6622-43f6-be3d-5a6bc4dc7202",
   "metadata": {},
   "outputs": [
    {
     "name": "stdout",
     "output_type": "stream",
     "text": [
      "[8125   44    0    0    0    0    0    0] [1 2 3 4 5 6 7 8 9]\n"
     ]
    }
   ],
   "source": [
    "print(x,y)"
   ]
  },
  {
   "cell_type": "code",
   "execution_count": 98,
   "id": "01517747-dc65-40c6-b958-bde11e211fa2",
   "metadata": {},
   "outputs": [],
   "source": [
    "assert np.sum(x*y[:-1])==df_fraud[df_fraud['isFraud']==1]['isFraud'].sum(), \"numbers do not align with total fraud amount\""
   ]
  },
  {
   "cell_type": "code",
   "execution_count": 104,
   "id": "97e9f3f7-cf9b-4b35-a202-48fdfe88770e",
   "metadata": {},
   "outputs": [
    {
     "data": {
      "text/html": [
       "<div>\n",
       "<style scoped>\n",
       "    .dataframe tbody tr th:only-of-type {\n",
       "        vertical-align: middle;\n",
       "    }\n",
       "\n",
       "    .dataframe tbody tr th {\n",
       "        vertical-align: top;\n",
       "    }\n",
       "\n",
       "    .dataframe thead th {\n",
       "        text-align: right;\n",
       "    }\n",
       "</style>\n",
       "<table border=\"1\" class=\"dataframe\">\n",
       "  <thead>\n",
       "    <tr style=\"text-align: right;\">\n",
       "      <th></th>\n",
       "      <th>sum</th>\n",
       "      <th>count</th>\n",
       "    </tr>\n",
       "    <tr>\n",
       "      <th>nameDest</th>\n",
       "      <th></th>\n",
       "      <th></th>\n",
       "    </tr>\n",
       "  </thead>\n",
       "  <tbody>\n",
       "    <tr>\n",
       "      <th>C1000039615</th>\n",
       "      <td>1</td>\n",
       "      <td>3</td>\n",
       "    </tr>\n",
       "    <tr>\n",
       "      <th>C1000367306</th>\n",
       "      <td>1</td>\n",
       "      <td>1</td>\n",
       "    </tr>\n",
       "    <tr>\n",
       "      <th>C1000407130</th>\n",
       "      <td>1</td>\n",
       "      <td>1</td>\n",
       "    </tr>\n",
       "    <tr>\n",
       "      <th>C1000836187</th>\n",
       "      <td>1</td>\n",
       "      <td>1</td>\n",
       "    </tr>\n",
       "    <tr>\n",
       "      <th>C1000855680</th>\n",
       "      <td>1</td>\n",
       "      <td>2</td>\n",
       "    </tr>\n",
       "    <tr>\n",
       "      <th>...</th>\n",
       "      <td>...</td>\n",
       "      <td>...</td>\n",
       "    </tr>\n",
       "    <tr>\n",
       "      <th>C998514614</th>\n",
       "      <td>1</td>\n",
       "      <td>1</td>\n",
       "    </tr>\n",
       "    <tr>\n",
       "      <th>C999409522</th>\n",
       "      <td>1</td>\n",
       "      <td>8</td>\n",
       "    </tr>\n",
       "    <tr>\n",
       "      <th>C999470580</th>\n",
       "      <td>1</td>\n",
       "      <td>1</td>\n",
       "    </tr>\n",
       "    <tr>\n",
       "      <th>C999708230</th>\n",
       "      <td>1</td>\n",
       "      <td>2</td>\n",
       "    </tr>\n",
       "    <tr>\n",
       "      <th>C999955448</th>\n",
       "      <td>1</td>\n",
       "      <td>1</td>\n",
       "    </tr>\n",
       "  </tbody>\n",
       "</table>\n",
       "<p>8169 rows × 2 columns</p>\n",
       "</div>"
      ],
      "text/plain": [
       "             sum  count\n",
       "nameDest               \n",
       "C1000039615    1      3\n",
       "C1000367306    1      1\n",
       "C1000407130    1      1\n",
       "C1000836187    1      1\n",
       "C1000855680    1      2\n",
       "...          ...    ...\n",
       "C998514614     1      1\n",
       "C999409522     1      8\n",
       "C999470580     1      1\n",
       "C999708230     1      2\n",
       "C999955448     1      1\n",
       "\n",
       "[8169 rows x 2 columns]"
      ]
     },
     "execution_count": 104,
     "metadata": {},
     "output_type": "execute_result"
    }
   ],
   "source": [
    "df_fraudsters.groupby('nameDest')['isFraud'].agg(['sum','count'])"
   ]
  },
  {
   "cell_type": "code",
   "execution_count": 111,
   "id": "1a699d1d-e183-49b7-af98-b4d61887985f",
   "metadata": {},
   "outputs": [],
   "source": [
    "df_losers = df_fraud.merge(df_fraud[df_fraud['isFraud']==1]['nameOrig'], how='inner', on='nameOrig').drop_duplicates()"
   ]
  },
  {
   "cell_type": "code",
   "execution_count": 112,
   "id": "f316acae-750d-45fc-99f7-0854e095c978",
   "metadata": {},
   "outputs": [
    {
     "data": {
      "text/plain": [
       "1"
      ]
     },
     "execution_count": 112,
     "metadata": {},
     "output_type": "execute_result"
    }
   ],
   "source": [
    "df_losers.groupby('nameOrig')['isFraud'].sum().max()"
   ]
  },
  {
   "cell_type": "code",
   "execution_count": 113,
   "id": "7a71251a-5342-4dc0-be79-27ad71be5ad1",
   "metadata": {},
   "outputs": [
    {
     "data": {
      "text/plain": [
       "sum      1\n",
       "count    2\n",
       "dtype: int64"
      ]
     },
     "execution_count": 113,
     "metadata": {},
     "output_type": "execute_result"
    }
   ],
   "source": [
    "df_losers.groupby('nameOrig')['isFraud'].agg(['sum','count']).max()"
   ]
  },
  {
   "cell_type": "code",
   "execution_count": null,
   "id": "b003387f-b7b8-4bba-bab8-13dd61fccdc3",
   "metadata": {},
   "outputs": [],
   "source": []
  }
 ],
 "metadata": {
  "kernelspec": {
   "display_name": "Python 3 (ipykernel)",
   "language": "python",
   "name": "python3"
  },
  "language_info": {
   "codemirror_mode": {
    "name": "ipython",
    "version": 3
   },
   "file_extension": ".py",
   "mimetype": "text/x-python",
   "name": "python",
   "nbconvert_exporter": "python",
   "pygments_lexer": "ipython3",
   "version": "3.11.7"
  },
  "vscode": {
   "interpreter": {
    "hash": "f4bc7a400e35f160b13ed52195005e41b219907c1be09b125a1c17e685484faa"
   }
  }
 },
 "nbformat": 4,
 "nbformat_minor": 5
}
