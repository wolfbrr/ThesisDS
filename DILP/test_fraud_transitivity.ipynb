{
 "cells": [
  {
   "cell_type": "code",
   "execution_count": 2,
   "id": "9bf1e6b4",
   "metadata": {},
   "outputs": [
    {
     "name": "stderr",
     "output_type": "stream",
     "text": [
      "2024-05-31 18:29:25.832012: I tensorflow/core/platform/cpu_feature_guard.cc:210] This TensorFlow binary is optimized to use available CPU instructions in performance-critical operations.\n",
      "To enable the following instructions: AVX2 FMA, in other operations, rebuild TensorFlow with the appropriate compiler flags.\n",
      "2024-05-31 18:29:26.904321: W tensorflow/compiler/tf2tensorrt/utils/py_utils.cc:38] TF-TRT Warning: Could not find TensorRT\n"
     ]
    }
   ],
   "source": [
    "import sys\n",
    "sys.path.append(\"../utils/\") \n",
    "from utilities import performance_metrics\n",
    "import time\n",
    "\n",
    "from src.core import Term, Atom\n",
    "from src.ilp import Language_Frame, Program_Template, Rule_Template\n",
    "from src.dilp import DILP\n",
    "import tensorflow as tf\n",
    "import numpy as np\n",
    "from src.utils import process_file, process_dir, create_table, output_rules, test_rule, train, test\n",
    "from src.generate_template import create_templates\n",
    "import duckdb\n",
    "tf.random.set_seed(1000)\n",
    "np.random.seed(1000)\n"
   ]
  },
  {
   "cell_type": "code",
   "execution_count": 3,
   "id": "a2422095-0fdc-44d1-8255-9e1946087ae7",
   "metadata": {},
   "outputs": [
    {
     "data": {
      "text/plain": [
       "<duckdb.duckdb.DuckDBPyConnection at 0x7f7ad3b27af0>"
      ]
     },
     "execution_count": 3,
     "metadata": {},
     "output_type": "execute_result"
    }
   ],
   "source": [
    "con = duckdb.connect(':memory:')\n",
    "# enable automatic query parallelization\n",
    "con.execute(\"PRAGMA threads=2\")\n",
    "# enable caching of parquet metadata\n",
    "con.execute(\"PRAGMA enable_object_cache\")"
   ]
  },
  {
   "cell_type": "markdown",
   "id": "f7420fd6-0706-4eb7-b397-b44167bdb018",
   "metadata": {},
   "source": [
    "\n"
   ]
  },
  {
   "cell_type": "code",
   "execution_count": 16,
   "id": "c151c2b8-0dea-4de3-a70b-ccb32f93894e",
   "metadata": {},
   "outputs": [
    {
     "name": "stdout",
     "output_type": "stream",
     "text": [
      "previous table dropped\n",
      "ratio of positives 50.000000\n",
      "65\n",
      "end of facts processing\n",
      "5\n",
      "end of positive examples processing\n",
      "21\n",
      "end negative examples processing\n",
      "data is in order\n",
      "[To->destination(X_0,X_1), From->orig(X_0,X_1), Fraud(X_0)]\n"
     ]
    }
   ],
   "source": [
    "term_x_0 = Term(True, 'X_0')\n",
    "term_x_1 = Term(True, 'X_1')\n",
    "input_dir = \"../examples/transitivity-fraud-rule/\"\n",
    "input_table = create_table(con, input_dir)\n",
    "print(f'ratio of positives %f' % (100*input_table['Fraud'].sum()/len(input_table)))\n",
    "target, p_e, constants, B, P, N = process_dir(input_dir)"
   ]
  },
  {
   "cell_type": "markdown",
   "id": "0f644a8f-1c8e-4d31-b09e-35af10c99438",
   "metadata": {},
   "source": [
    "## Templates to describe Rules to describe:\n",
    "\n",
    "Fraud_transaction(u1, u2):- Fraud(X), pred_trans(U1, U2) #v=1 (X)\n",
    "\n",
    "pred_trans(u1, u2) :-  Orig(Y, U1), Dest(Y, U2) #v=1 (Y)\n",
    "\n",
    "Fraud_Chain(u1, u3) :-Fraud_transaction(u1, u2), Fraud_transaction(u2, u3)\n",
    "\n"
   ]
  },
  {
   "cell_type": "code",
   "execution_count": 17,
   "id": "f4ed661a-cb1b-4fbd-8c2b-e542e234c1e4",
   "metadata": {},
   "outputs": [
    {
     "name": "stdout",
     "output_type": "stream",
     "text": [
      "[To->destination(X_0,X_1), From->orig(X_0,X_1), Fraud(X_0)]\n"
     ]
    }
   ],
   "source": [
    "print(p_e)"
   ]
  },
  {
   "cell_type": "code",
   "execution_count": 18,
   "id": "d5c43d73-55ba-4662-b225-c6ea8cfca56c",
   "metadata": {},
   "outputs": [
    {
     "name": "stdout",
     "output_type": "stream",
     "text": [
      "Fraud_chain->orig->destination(X_0,X_1)\n"
     ]
    }
   ],
   "source": [
    "print(target)"
   ]
  },
  {
   "cell_type": "code",
   "execution_count": 25,
   "id": "20e75d91-d1a0-4572-865f-1b1e8c9ec387",
   "metadata": {},
   "outputs": [],
   "source": [
    "p_a, rules = create_templates(p_e[:2], target, term_x_0)\n",
    "rules[target][0], Rule_Template(v=1, allow_intensional=True)#Fraud(Y) :- Fraud_chain(u1, u2), Orig(Y, u2)\n",
    "\n",
    "Fraud_trans = Atom([term_x_0, term_x_1], 'Fraud_trans')\n",
    "Pred_Transaction = Atom([term_x_0, term_x_1], 'Pred_Transaction')\n",
    "\n",
    "p_a.append(Fraud_trans)\n",
    "p_a.append(Pred_Transaction)\n",
    "\n",
    "rules[Fraud_trans] = (Rule_Template(v=1, allow_intensional=True), None) #Fraud_trans(X, U2):-  Dest(X, U2), Fraud(X).\n",
    "rules[Pred_Transaction] = (Rule_Template(v=1, allow_intensional=False), None) #Orig(Y, U1), Dest(Y, U2) #v=1 (Y)\n",
    "\n",
    "language_frame = Language_Frame(target, p_e, constants)\n",
    "program_template = Program_Template(p_a, rules, T=6)"
   ]
  },
  {
   "cell_type": "code",
   "execution_count": 26,
   "id": "88575e36-a36b-473b-b563-fb31055883bc",
   "metadata": {},
   "outputs": [
    {
     "data": {
      "text/plain": [
       "{Fraud_chain->orig->destination(X_0,X_1): (<src.ilp.template.rule_template.Rule_Template at 0x7f7ad394c110>,\n",
       "  None),\n",
       " Fraud_trans(X_0,X_1): (<src.ilp.template.rule_template.Rule_Template at 0x7f7ad394c850>,\n",
       "  None),\n",
       " Pred_Transaction(X_0,X_1): (<src.ilp.template.rule_template.Rule_Template at 0x7f7a80a03c10>,\n",
       "  None)}"
      ]
     },
     "execution_count": 26,
     "metadata": {},
     "output_type": "execute_result"
    }
   ],
   "source": [
    "print(rules)"
   ]
  },
  {
   "cell_type": "code",
   "execution_count": null,
   "id": "baf3aec0-13d6-48af-ac46-cd0bf675fe7b",
   "metadata": {},
   "outputs": [
    {
     "name": "stdout",
     "output_type": "stream",
     "text": [
      "DILP initialisation\n"
     ]
    }
   ],
   "source": [
    "print(\"DILP initialisation\")\n",
    "dilp = DILP(language_frame, B, P, N, program_template, allow_target_recursion=True)\n",
    "start_time = time.time()\n",
    "dilp.train()\n",
    "finish_time = time.time()\n",
    "print(\"execution time %d\" % (finish_time - start_time))"
   ]
  },
  {
   "cell_type": "code",
   "execution_count": null,
   "id": "5a18e003-147d-4276-b8c5-0898b93114ec",
   "metadata": {},
   "outputs": [],
   "source": []
  }
 ],
 "metadata": {
  "kernelspec": {
   "display_name": "Python 3 (ipykernel)",
   "language": "python",
   "name": "python3"
  },
  "language_info": {
   "codemirror_mode": {
    "name": "ipython",
    "version": 3
   },
   "file_extension": ".py",
   "mimetype": "text/x-python",
   "name": "python",
   "nbconvert_exporter": "python",
   "pygments_lexer": "ipython3",
   "version": "3.11.7"
  }
 },
 "nbformat": 4,
 "nbformat_minor": 5
}
