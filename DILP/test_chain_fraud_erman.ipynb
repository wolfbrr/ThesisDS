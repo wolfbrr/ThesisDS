{
 "cells": [
  {
   "cell_type": "code",
   "execution_count": 1,
   "id": "9bf1e6b4",
   "metadata": {},
   "outputs": [
    {
     "name": "stderr",
     "output_type": "stream",
     "text": [
      "2024-05-30 18:28:32.996281: I tensorflow/core/platform/cpu_feature_guard.cc:210] This TensorFlow binary is optimized to use available CPU instructions in performance-critical operations.\n",
      "To enable the following instructions: AVX2 FMA, in other operations, rebuild TensorFlow with the appropriate compiler flags.\n",
      "2024-05-30 18:28:34.672907: W tensorflow/compiler/tf2tensorrt/utils/py_utils.cc:38] TF-TRT Warning: Could not find TensorRT\n"
     ]
    }
   ],
   "source": [
    "import sys\n",
    "sys.path.append(\"../utils/\") \n",
    "from utilities import performance_metrics\n",
    "import time\n",
    "\n",
    "from src.core import Term, Atom\n",
    "from src.ilp import Language_Frame, Program_Template, Rule_Template\n",
    "from src.dilp import DILP\n",
    "import tensorflow as tf\n",
    "import numpy as np\n",
    "from src.utils import process_file, process_dir, create_table, output_rules, test_rule, train, test\n",
    "from src.generate_template import create_templates\n",
    "import duckdb\n",
    "tf.random.set_seed(1000)\n",
    "np.random.seed(1000)\n",
    "import dill\n"
   ]
  },
  {
   "cell_type": "code",
   "execution_count": 2,
   "id": "a2422095-0fdc-44d1-8255-9e1946087ae7",
   "metadata": {},
   "outputs": [
    {
     "data": {
      "text/plain": [
       "<duckdb.duckdb.DuckDBPyConnection at 0x7f83b4d58270>"
      ]
     },
     "execution_count": 2,
     "metadata": {},
     "output_type": "execute_result"
    }
   ],
   "source": [
    "con = duckdb.connect(':memory:')\n",
    "# enable automatic query parallelization\n",
    "con.execute(\"PRAGMA threads=2\")\n",
    "# enable caching of parquet metadata\n",
    "con.execute(\"PRAGMA enable_object_cache\")"
   ]
  },
  {
   "cell_type": "markdown",
   "id": "9fdfc550-b580-4b3d-bca8-e5ad15511265",
   "metadata": {},
   "source": [
    "Main idea: We need to learn a rule: \n",
    "\n",
    "Fraud_trans(U1, U2):- Transaction(X), Orig(X, U1), Dest(X, U2),  Fraud(X).\n",
    "\n",
    "Fraud_chain(U1, U2):- Fraud_trans(U1, Y), Fraud_chain(Y, U2),"
   ]
  },
  {
   "cell_type": "markdown",
   "id": "f7420fd6-0706-4eb7-b397-b44167bdb018",
   "metadata": {},
   "source": [
    "\n"
   ]
  },
  {
   "cell_type": "code",
   "execution_count": 4,
   "id": "c151c2b8-0dea-4de3-a70b-ccb32f93894e",
   "metadata": {},
   "outputs": [
    {
     "name": "stdout",
     "output_type": "stream",
     "text": [
      "ratio of positives 20.000000\n",
      "113\n",
      "end of facts processing\n",
      "6\n",
      "end of positive examples processing\n",
      "24\n",
      "end negative examples processing\n",
      "data is in order\n"
     ]
    },
    {
     "data": {
      "text/plain": [
       "[From->orig(X_0,X_1),\n",
       " Cons->orig(X_0,X_1),\n",
       " To->destination(X_0,X_1),\n",
       " B(X_0),\n",
       " C(X_0),\n",
       " A(X_0)]"
      ]
     },
     "execution_count": 4,
     "metadata": {},
     "output_type": "execute_result"
    }
   ],
   "source": [
    "term_x_0 = Term(True, 'X_0')\n",
    "term_x_1 = Term(True, 'X_1')\n",
    "input_dir = \"../examples/chain-fraud/\"\n",
    "input_table = create_table(con, input_dir)\n",
    "print(f'ratio of positives %f' % (100*input_table['Target'].sum()/len(input_table)))\n",
    "target, p_e, constants, B, P, N = process_dir(input_dir)\n",
    "p_e"
   ]
  },
  {
   "cell_type": "markdown",
   "id": "0f644a8f-1c8e-4d31-b09e-35af10c99438",
   "metadata": {},
   "source": [
    "Fraud(Y) :- Fraud_chain(u1, u2), Orig(Y, u2) # v=2 (u1, u2)\n",
    "\n",
    "Fraud_chain(u1, u2):- Fraud_trans(X, U2), pred_trans(U1, U2) #v=1 (X)\n",
    "\n",
    "pred_trans(u1, u2) :-  Orig(Y, U1), Dest(Y, U2) #v=1 (Y)\n",
    "\n",
    "Fraud_trans(X, U2):-  Dest(X, U2), Fraud(X). #v=1 (U2)"
   ]
  },
  {
   "cell_type": "code",
   "execution_count": 5,
   "id": "20e75d91-d1a0-4572-865f-1b1e8c9ec387",
   "metadata": {},
   "outputs": [],
   "source": [
    "p_a, rules = create_templates(p_e, target, term_x_0)\n",
    "rules[target] = (rules[target][0], Rule_Template(v=2, allow_intensional=True))#Fraud(Y) :- Fraud_chain(u1, u2), Orig(Y, u2)\n",
    "\n",
    "Fraud_trans = Atom([term_x_0, term_x_1], 'Fraud_trans')\n",
    "Fraud_chain = Atom([term_x_0, term_x_1], 'Fraud_chain')\n",
    "Pred_Transaction = Atom([term_x_0, term_x_1], 'Pred_Transaction')\n",
    "\n",
    "p_a.append(Fraud_trans)\n",
    "p_a.append(Fraud_chain)\n",
    "p_a.append(Pred_Transaction)\n",
    "\n",
    "rules[Fraud_chain] = (Rule_Template(v=1, allow_intensional=True), None) #Fraud_chain(u1, u2):- Fraud_trans(X, U2), pred_trans(U1, U2),pred_trans(u1, u2) :-  Orig(Y, U1), Dest(Y, U2) \n",
    "rules[Fraud_trans] = (Rule_Template(v=1, allow_intensional=True), None) #Fraud_trans(X, U2):-  Dest(X, U2), Fraud(X).\n",
    "rules[Pred_Transaction] = (Rule_Template(v=1, allow_intensional=False), None) #Orig(Y, U1), Dest(Y, U2) #v=1 (Y)\n",
    "\n",
    "language_frame = Language_Frame(target, p_e, constants)\n",
    "# program_template = Program_Template(p_a, rules, T=10)\n",
    "program_template = Program_Template(p_a, rules, T=6)"
   ]
  },
  {
   "cell_type": "code",
   "execution_count": 7,
   "id": "baf3aec0-13d6-48af-ac46-cd0bf675fe7b",
   "metadata": {},
   "outputs": [
    {
     "name": "stdout",
     "output_type": "stream",
     "text": [
      "DILP initialisation\n"
     ]
    },
    {
     "ename": "KeyboardInterrupt",
     "evalue": "",
     "output_type": "error",
     "traceback": [
      "\u001b[0;31m---------------------------------------------------------------------------\u001b[0m",
      "\u001b[0;31mKeyboardInterrupt\u001b[0m                         Traceback (most recent call last)",
      "Cell \u001b[0;32mIn[7], line 2\u001b[0m\n\u001b[1;32m      1\u001b[0m \u001b[38;5;28mprint\u001b[39m(\u001b[38;5;124m\"\u001b[39m\u001b[38;5;124mDILP initialisation\u001b[39m\u001b[38;5;124m\"\u001b[39m)\n\u001b[0;32m----> 2\u001b[0m dilp \u001b[38;5;241m=\u001b[39m DILP(language_frame, B, P, N, program_template, allow_target_recursion\u001b[38;5;241m=\u001b[39m\u001b[38;5;28;01mTrue\u001b[39;00m)\n\u001b[1;32m      3\u001b[0m start_time \u001b[38;5;241m=\u001b[39m time\u001b[38;5;241m.\u001b[39mtime()\n\u001b[1;32m      4\u001b[0m dilp\u001b[38;5;241m.\u001b[39mtrain()\n",
      "File \u001b[0;32m~/project/ThesisDS/DILP/src/dilp/dilp.py:33\u001b[0m, in \u001b[0;36mDILP.__init__\u001b[0;34m(self, language_frame, background, positive, negative, program_template, allow_target_recursion)\u001b[0m\n\u001b[1;32m     31\u001b[0m \u001b[38;5;28mself\u001b[39m\u001b[38;5;241m.\u001b[39mtraining_data \u001b[38;5;241m=\u001b[39m OrderedDict()  \u001b[38;5;66;03m# index to label\u001b[39;00m\n\u001b[1;32m     32\u001b[0m \u001b[38;5;28mself\u001b[39m\u001b[38;5;241m.\u001b[39mallow_target_recursion \u001b[38;5;241m=\u001b[39m allow_target_recursion\n\u001b[0;32m---> 33\u001b[0m \u001b[38;5;28mself\u001b[39m\u001b[38;5;241m.\u001b[39m__init__parameters()\n",
      "File \u001b[0;32m~/project/ThesisDS/DILP/src/dilp/dilp.py:69\u001b[0m, in \u001b[0;36mDILP.__init__parameters\u001b[0;34m(self)\u001b[0m\n\u001b[1;32m     67\u001b[0m elm2 \u001b[38;5;241m=\u001b[39m []\n\u001b[1;32m     68\u001b[0m \u001b[38;5;28;01mfor\u001b[39;00m clause2 \u001b[38;5;129;01min\u001b[39;00m generated[\u001b[38;5;241m1\u001b[39m]:\n\u001b[0;32m---> 69\u001b[0m     elm2\u001b[38;5;241m.\u001b[39mappend(Inference\u001b[38;5;241m.\u001b[39mx_c(\n\u001b[1;32m     70\u001b[0m         clause2, valuation_mapping, \u001b[38;5;28mself\u001b[39m\u001b[38;5;241m.\u001b[39mlanguage_frame\u001b[38;5;241m.\u001b[39mconstants))\n\u001b[1;32m     71\u001b[0m deduction_matrices\u001b[38;5;241m.\u001b[39mappend((elm1, elm2))\n\u001b[1;32m     72\u001b[0m \u001b[38;5;28mself\u001b[39m\u001b[38;5;241m.\u001b[39mdeduction_map[p] \u001b[38;5;241m=\u001b[39m deduction_matrices\n",
      "File \u001b[0;32m~/project/ThesisDS/DILP/src/ilp/inference.py:87\u001b[0m, in \u001b[0;36mInference.x_c\u001b[0;34m(clause, dict_valuation, constants)\u001b[0m\n\u001b[1;32m     85\u001b[0m derived \u001b[38;5;241m=\u001b[39m []\n\u001b[1;32m     86\u001b[0m \u001b[38;5;28;01mfor\u001b[39;00m atom \u001b[38;5;129;01min\u001b[39;00m clause\u001b[38;5;241m.\u001b[39mbody:\n\u001b[0;32m---> 87\u001b[0m     substituted_body \u001b[38;5;241m=\u001b[39m Atom([subs[term]\n\u001b[1;32m     88\u001b[0m                              \u001b[38;5;28;01mfor\u001b[39;00m term \u001b[38;5;129;01min\u001b[39;00m atom\u001b[38;5;241m.\u001b[39mterms], atom\u001b[38;5;241m.\u001b[39mpredicate)\n\u001b[1;32m     89\u001b[0m     derived\u001b[38;5;241m.\u001b[39mappend(\u001b[38;5;28mint\u001b[39m(dict_valuation[substituted_body]))\n\u001b[1;32m     90\u001b[0m derived_valuation[substituted_head]\u001b[38;5;241m.\u001b[39mappend(derived)\n",
      "File \u001b[0;32m~/project/ThesisDS/DILP/src/ilp/inference.py:87\u001b[0m, in \u001b[0;36m<listcomp>\u001b[0;34m(.0)\u001b[0m\n\u001b[1;32m     85\u001b[0m derived \u001b[38;5;241m=\u001b[39m []\n\u001b[1;32m     86\u001b[0m \u001b[38;5;28;01mfor\u001b[39;00m atom \u001b[38;5;129;01min\u001b[39;00m clause\u001b[38;5;241m.\u001b[39mbody:\n\u001b[0;32m---> 87\u001b[0m     substituted_body \u001b[38;5;241m=\u001b[39m Atom([subs[term]\n\u001b[1;32m     88\u001b[0m                              \u001b[38;5;28;01mfor\u001b[39;00m term \u001b[38;5;129;01min\u001b[39;00m atom\u001b[38;5;241m.\u001b[39mterms], atom\u001b[38;5;241m.\u001b[39mpredicate)\n\u001b[1;32m     89\u001b[0m     derived\u001b[38;5;241m.\u001b[39mappend(\u001b[38;5;28mint\u001b[39m(dict_valuation[substituted_body]))\n\u001b[1;32m     90\u001b[0m derived_valuation[substituted_head]\u001b[38;5;241m.\u001b[39mappend(derived)\n",
      "File \u001b[0;32m~/project/ThesisDS/DILP/src/core/term.py:22\u001b[0m, in \u001b[0;36mTerm.__eq__\u001b[0;34m(self, other)\u001b[0m\n\u001b[1;32m     19\u001b[0m \u001b[38;5;28;01mdef\u001b[39;00m \u001b[38;5;21m__repr__\u001b[39m(\u001b[38;5;28mself\u001b[39m):\n\u001b[1;32m     20\u001b[0m     \u001b[38;5;28;01mreturn\u001b[39;00m \u001b[38;5;28mself\u001b[39m\u001b[38;5;241m.\u001b[39m\u001b[38;5;21m__str__\u001b[39m()\n\u001b[0;32m---> 22\u001b[0m \u001b[38;5;28;01mdef\u001b[39;00m \u001b[38;5;21m__eq__\u001b[39m(\u001b[38;5;28mself\u001b[39m, other):\n\u001b[1;32m     23\u001b[0m     \u001b[38;5;28;01mreturn\u001b[39;00m \u001b[38;5;28mself\u001b[39m\u001b[38;5;241m.\u001b[39m_isVariable \u001b[38;5;241m==\u001b[39m other\u001b[38;5;241m.\u001b[39misVariable \u001b[38;5;129;01mand\u001b[39;00m \u001b[38;5;28mself\u001b[39m\u001b[38;5;241m.\u001b[39m_name \u001b[38;5;241m==\u001b[39m other\u001b[38;5;241m.\u001b[39mname\n\u001b[1;32m     25\u001b[0m \u001b[38;5;28;01mdef\u001b[39;00m \u001b[38;5;21m__hash__\u001b[39m(\u001b[38;5;28mself\u001b[39m):\n",
      "\u001b[0;31mKeyboardInterrupt\u001b[0m: "
     ]
    }
   ],
   "source": [
    "print(\"DILP initialisation\")\n",
    "dilp = DILP(language_frame, B, P, N, program_template, allow_target_recursion=True)\n",
    "start_time = time.time()\n",
    "dilp.train()\n",
    "finish_time = time.time()\n",
    "print(\"execution time %d\" % (finish_time - start_time))"
   ]
  },
  {
   "cell_type": "code",
   "execution_count": 8,
   "id": "ed217d82",
   "metadata": {},
   "outputs": [
    {
     "ename": "NameError",
     "evalue": "name 'dilp' is not defined",
     "output_type": "error",
     "traceback": [
      "\u001b[0;31m---------------------------------------------------------------------------\u001b[0m",
      "\u001b[0;31mNameError\u001b[0m                                 Traceback (most recent call last)",
      "Cell \u001b[0;32mIn[8], line 1\u001b[0m\n\u001b[0;32m----> 1\u001b[0m abcd_rules \u001b[38;5;241m=\u001b[39m dilp\u001b[38;5;241m.\u001b[39mshow_definition()\n\u001b[1;32m      2\u001b[0m sql_str \u001b[38;5;241m=\u001b[39m output_rules(abcd_rules)\n",
      "\u001b[0;31mNameError\u001b[0m: name 'dilp' is not defined"
     ]
    }
   ],
   "source": [
    "abcd_rules = dilp.show_definition()\n",
    "sql_str = output_rules(abcd_rules)\n",
    "# input_table = create_table(con, input_dir)\n",
    "# predicted_table = test_rule(con, sql_str, target_predicate=\"Target\")\n",
    "# performance_metrics(predicted_table[\"Target\"],input_table[\"Target\"], labels=[True,False])"
   ]
  },
  {
   "cell_type": "code",
   "execution_count": null,
   "id": "5a18e003-147d-4276-b8c5-0898b93114ec",
   "metadata": {},
   "outputs": [],
   "source": []
  }
 ],
 "metadata": {
  "kernelspec": {
   "display_name": "Python 3 (ipykernel)",
   "language": "python",
   "name": "python3"
  },
  "language_info": {
   "codemirror_mode": {
    "name": "ipython",
    "version": 3
   },
   "file_extension": ".py",
   "mimetype": "text/x-python",
   "name": "python",
   "nbconvert_exporter": "python",
   "pygments_lexer": "ipython3",
   "version": "3.11.7"
  }
 },
 "nbformat": 4,
 "nbformat_minor": 5
}
