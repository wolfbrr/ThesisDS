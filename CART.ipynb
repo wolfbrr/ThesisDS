{
 "cells": [
  {
   "cell_type": "code",
   "execution_count": 1,
   "metadata": {},
   "outputs": [],
   "source": [
    "#install dependencies\n",
    "# !pip install pyarrow\n",
    "# !pip install  duckdb --upgrade --pre\n",
    "# !pip install wittgenstein\n"
   ]
  },
  {
   "cell_type": "code",
   "execution_count": 2,
   "metadata": {
    "_cell_guid": "b1076dfc-b9ad-4769-8c92-a6c4dae69d19",
    "_uuid": "8f2839f25d086af736a60e9eeb907d3b93b6e0e5"
   },
   "outputs": [],
   "source": [
    "import numpy as np \n",
    "import pandas as pd \n",
    "import matplotlib.pyplot as plt \n",
    "\n",
    "from sklearn.model_selection import train_test_split,  GroupShuffleSplit\n",
    "from sklearn.metrics import precision_score, recall_score, accuracy_score, f1_score, matthews_corrcoef\n",
    "\n",
    "from sklearn.tree import DecisionTreeClassifier, plot_tree\n",
    "from sklearn.linear_model import LogisticRegression\n",
    "from sklearn.preprocessing import KBinsDiscretizer, StandardScaler\n",
    "from sklearn.model_selection import GridSearchCV\n",
    "\n",
    "import os\n",
    "import time\n",
    "\n",
    "## Duck Db imports\n",
    "import pyarrow.parquet as pq\n",
    "import duckdb\n",
    "\n",
    "# developed packages\n",
    "from utils import create_facts_and_examples, performance_metrics\n"
   ]
  },
  {
   "cell_type": "markdown",
   "metadata": {},
   "source": [
    "\n",
    "## Import Data¶\n"
   ]
  },
  {
   "cell_type": "markdown",
   "metadata": {},
   "source": [
    "#### create duck db connection"
   ]
  },
  {
   "cell_type": "code",
   "execution_count": 3,
   "metadata": {},
   "outputs": [
    {
     "data": {
      "text/plain": [
       "<duckdb.duckdb.DuckDBPyConnection at 0x7fc2e87e5070>"
      ]
     },
     "execution_count": 3,
     "metadata": {},
     "output_type": "execute_result"
    }
   ],
   "source": [
    "con = duckdb.connect(':memory:')\n",
    "# enable automatic query parallelization\n",
    "con.execute(\"PRAGMA threads=2\")\n",
    "# enable caching of parquet metadata\n",
    "con.execute(\"PRAGMA enable_object_cache\")"
   ]
  },
  {
   "cell_type": "markdown",
   "metadata": {},
   "source": [
    "#### Reading PAYSIM1 data and creating parquet file"
   ]
  },
  {
   "cell_type": "code",
   "execution_count": 4,
   "metadata": {},
   "outputs": [
    {
     "data": {
      "application/vnd.jupyter.widget-view+json": {
       "model_id": "c00ff73e446a44168496e7144e5282c4",
       "version_major": 2,
       "version_minor": 0
      },
      "text/plain": [
       "FloatProgress(value=0.0, layout=Layout(width='auto'), style=ProgressStyle(bar_color='black'))"
      ]
     },
     "metadata": {},
     "output_type": "display_data"
    }
   ],
   "source": [
    "try:\n",
    "    con.sql('DROP TABLE df_fraud_tbl')\n",
    "    print(\"previous table dropped\")\n",
    "except:\n",
    "    pass\n",
    "\n",
    "try:\n",
    "    con.sql(\"\"\"CREATE TABLE fraud_tbl AS SELECT * FROM 'fraud.parquet';\"\"\")\n",
    "except:\n",
    "    con.sql(\n",
    "    \"\"\"\n",
    "    copy 'DATA/paysim1/PS_20174392719_1491204439457_log.csv' to 'fraud.parquet';\n",
    "\"\"\")\n",
    "    con.sql(\"\"\"CREATE TABLE fraud_tbl AS SELECT * FROM 'fraud.parquet';\"\"\")"
   ]
  },
  {
   "cell_type": "markdown",
   "metadata": {},
   "source": [
    "#### Creating externarl origin and destination, Imputing zero values for external accounts"
   ]
  },
  {
   "cell_type": "code",
   "execution_count": 5,
   "metadata": {},
   "outputs": [],
   "source": [
    "df_fraud = con.sql(\"\"\" \n",
    "SELECT *,\n",
    "-- evaluating external accounts\n",
    "    oldbalanceOrg==0 and newbalanceOrig==0 as external_orig,\n",
    "    oldbalanceDest==0 and newbalanceDest==0 as external_dest,\n",
    "-- Imputing zero values for external accounts\n",
    "    CASE WHEN external_orig==True \n",
    "        THEN  amount\n",
    "        ELSE oldbalanceOrg\n",
    "    END AS oldbalanceOrg_imputed,\n",
    "    CASE WHEN external_dest==True \n",
    "        THEN  amount\n",
    "        ELSE newbalanceDest\n",
    "    END AS newbalanceDest_imputed, \n",
    "FROM fraud_tbl\n",
    "\"\"\").df()\n",
    "\n",
    "# testing\n",
    "slice_index = df_fraud['external_orig']==True\n",
    "\n",
    "assert np.sum(df_fraud[slice_index]['amount'] != df_fraud[slice_index]['oldbalanceOrg_imputed'] )==0, \"Wrong imputation for external origin\"\n",
    "\n",
    "slice_index = df_fraud['external_dest']==True\n",
    "\n",
    "assert np.sum(df_fraud[slice_index]['amount'] != df_fraud[slice_index]['newbalanceDest_imputed'] )==0, \"Wrong imputation for external destination\"\n"
   ]
  },
  {
   "cell_type": "markdown",
   "metadata": {},
   "source": [
    "## Split data to train/test/val "
   ]
  },
  {
   "cell_type": "markdown",
   "metadata": {},
   "source": [
    "#### train and test sets"
   ]
  },
  {
   "cell_type": "code",
   "execution_count": 6,
   "metadata": {},
   "outputs": [],
   "source": [
    "gss = GroupShuffleSplit(n_splits=1, test_size=0.15, random_state=42)\n",
    "for train_index, test_index in gss.split(df_fraud, groups=df_fraud['nameDest']):\n",
    "    df_train_total = df_fraud.loc[train_index]\n",
    "    df_test_       = df_fraud.loc[test_index]"
   ]
  },
  {
   "cell_type": "markdown",
   "metadata": {},
   "source": [
    "#### validation set is a part of train set"
   ]
  },
  {
   "cell_type": "code",
   "execution_count": 7,
   "metadata": {},
   "outputs": [],
   "source": [
    "df_train_total = df_train_total.reset_index(drop=True)\n",
    "\n",
    "gss = GroupShuffleSplit(n_splits=1, test_size=0.15, random_state=42)\n",
    "for train_index, val_index in gss.split(df_train_total, groups=df_train_total['nameDest']):\n",
    "    df_train_ = df_train_total.loc[train_index]\n",
    "    df_val_   = df_train_total.loc[val_index]"
   ]
  },
  {
   "cell_type": "markdown",
   "metadata": {},
   "source": [
    "# Preprocessing"
   ]
  },
  {
   "cell_type": "markdown",
   "metadata": {},
   "source": [
    "#### aggregation definition\n",
    "compute average, and maximum amount of transfer for the last 3, and 7 days for the destination "
   ]
  },
  {
   "cell_type": "code",
   "execution_count": 8,
   "metadata": {},
   "outputs": [],
   "source": [
    "def aggregates(df):\n",
    "    \"\"\" runs aggregations on pandas dataframe with help of duckdb\"\"\"\n",
    "    data = df.copy()\n",
    "    data = data.sort_values(by='step')\n",
    "    data=data.reset_index(drop=True).reset_index()\n",
    "    data = con.sql(\"\"\"\n",
    "        SELECT \n",
    "            *,\n",
    "\n",
    "-- calculate aggregetions (Average and Max) for last 7 including the current row for each name Destination\n",
    "            AVG(amount) OVER (PARTITION BY nameDest ORDER BY index ROWS BETWEEN 6 PRECEDING AND CURRENT ROW) AS mean_last_7,\n",
    "            MAX(amount) OVER (PARTITION BY nameDest ORDER BY index ROWS BETWEEN 6 PRECEDING AND CURRENT ROW) AS max_last_7,\n",
    "       \n",
    "-- calculate aggregetions (Average and Max) for last 3 including the current row for each name Destination\n",
    "            AVG(amount) OVER (PARTITION BY nameDest ORDER BY index ROWS BETWEEN 2 PRECEDING AND CURRENT ROW) AS mean_last_3,\n",
    "            MAX(amount) OVER (PARTITION BY nameDest ORDER BY index ROWS BETWEEN 2 PRECEDING AND CURRENT ROW) AS max_last_3,\n",
    "\n",
    "-- deviation from the aggregated values\n",
    "            amount-mean_last_7 as deviation_from_mean_7_days,\n",
    "            amount-mean_last_3 as deviation_from_mean_3_days,\n",
    "            amount-max_last_7 as deviation_from_max_7_days,\n",
    "            amount-max_last_3 as deviation_from_max_3_days,\n",
    "\n",
    "        FROM \n",
    "            data\n",
    "            ORDER BY index\n",
    "            \"\"\").df()\n",
    "    \n",
    "    return data"
   ]
  },
  {
   "cell_type": "markdown",
   "metadata": {},
   "source": [
    "#### Preprocessing class fit on train data and processes "
   ]
  },
  {
   "cell_type": "code",
   "execution_count": 9,
   "metadata": {},
   "outputs": [],
   "source": [
    "class Preprocess:\n",
    "    def __init__(self, scaler_columns):\n",
    "\n",
    "        self.scaler = StandardScaler()\n",
    "\n",
    "        self.scaler_columns = scaler_columns\n",
    "        \n",
    "    def fit(self, train_data_frame):\n",
    "        \n",
    "        self.scaler.fit(train_data_frame[self.scaler_columns])\n",
    "        \n",
    "    def transform(self, data_frame):\n",
    "        \n",
    "        df = data_frame.copy()\n",
    "        \n",
    "        #scale numerical columns \n",
    "        df[self.scaler_columns] = self.scaler.transform(df[self.scaler_columns])\n",
    "        \n",
    "        ### run aggregation\n",
    "        df = aggregates(df)\n",
    "        \n",
    "        # one hot encoding and drop columns \n",
    "        df['distType'] = df[\"nameDest\"].str[0]\n",
    "        df = pd.get_dummies(df, columns=['type', \"distType\"])\n",
    "        df.drop(columns=[\"step\", \"nameOrig\", \"nameDest\", \"isFlaggedFraud\"], inplace=True)\n",
    "\n",
    "        \n",
    "        return df\n",
    "\n",
    "    \n",
    "columns = ['amount', 'oldbalanceOrg_imputed', 'newbalanceOrig', 'oldbalanceDest',\n",
    "   'newbalanceDest_imputed']\n",
    "\n",
    "preprocessor = Preprocess(scaler_columns=columns)\n",
    "\n",
    "preprocessor.fit(df_train_)"
   ]
  },
  {
   "cell_type": "markdown",
   "metadata": {},
   "source": [
    "#### prerocessing "
   ]
  },
  {
   "cell_type": "code",
   "execution_count": 10,
   "metadata": {
    "scrolled": true
   },
   "outputs": [
    {
     "data": {
      "application/vnd.jupyter.widget-view+json": {
       "model_id": "4b8cd61556d340b2a8812a438f5e63fa",
       "version_major": 2,
       "version_minor": 0
      },
      "text/plain": [
       "FloatProgress(value=0.0, layout=Layout(width='auto'), style=ProgressStyle(bar_color='black'))"
      ]
     },
     "metadata": {},
     "output_type": "display_data"
    }
   ],
   "source": [
    "df_train = preprocessor.transform(df_train_)\n",
    "df_test = preprocessor.transform(df_test_)\n",
    "df_val = preprocessor.transform(df_val_)"
   ]
  },
  {
   "cell_type": "markdown",
   "metadata": {},
   "source": [
    "#### performance"
   ]
  },
  {
   "cell_type": "code",
   "execution_count": 11,
   "metadata": {},
   "outputs": [],
   "source": [
    "def performance(model, x_test, y_test):\n",
    "    \"\"\" evaluetes performance of the model\"\"\"\n",
    "    y_pred = model.predict(x_test)\n",
    "    performance_metrics(y_pred, y_test, labels=model.classes_)"
   ]
  },
  {
   "cell_type": "markdown",
   "metadata": {},
   "source": [
    "## Decision Tree"
   ]
  },
  {
   "cell_type": "code",
   "execution_count": 12,
   "metadata": {},
   "outputs": [],
   "source": [
    "X_train = df_train.drop(columns=['isFraud'])\n",
    "y_train = df_train['isFraud']\n",
    "X_test = df_test.drop(columns=['isFraud'])\n",
    "y_test = df_test['isFraud']\n",
    "\n",
    "X_val = df_val.drop(columns=['isFraud'])\n",
    "y_val = df_val['isFraud']"
   ]
  },
  {
   "cell_type": "code",
   "execution_count": 13,
   "metadata": {
    "scrolled": true
   },
   "outputs": [
    {
     "data": {
      "text/html": [
       "<style>#sk-container-id-1 {color: black;background-color: white;}#sk-container-id-1 pre{padding: 0;}#sk-container-id-1 div.sk-toggleable {background-color: white;}#sk-container-id-1 label.sk-toggleable__label {cursor: pointer;display: block;width: 100%;margin-bottom: 0;padding: 0.3em;box-sizing: border-box;text-align: center;}#sk-container-id-1 label.sk-toggleable__label-arrow:before {content: \"▸\";float: left;margin-right: 0.25em;color: #696969;}#sk-container-id-1 label.sk-toggleable__label-arrow:hover:before {color: black;}#sk-container-id-1 div.sk-estimator:hover label.sk-toggleable__label-arrow:before {color: black;}#sk-container-id-1 div.sk-toggleable__content {max-height: 0;max-width: 0;overflow: hidden;text-align: left;background-color: #f0f8ff;}#sk-container-id-1 div.sk-toggleable__content pre {margin: 0.2em;color: black;border-radius: 0.25em;background-color: #f0f8ff;}#sk-container-id-1 input.sk-toggleable__control:checked~div.sk-toggleable__content {max-height: 200px;max-width: 100%;overflow: auto;}#sk-container-id-1 input.sk-toggleable__control:checked~label.sk-toggleable__label-arrow:before {content: \"▾\";}#sk-container-id-1 div.sk-estimator input.sk-toggleable__control:checked~label.sk-toggleable__label {background-color: #d4ebff;}#sk-container-id-1 div.sk-label input.sk-toggleable__control:checked~label.sk-toggleable__label {background-color: #d4ebff;}#sk-container-id-1 input.sk-hidden--visually {border: 0;clip: rect(1px 1px 1px 1px);clip: rect(1px, 1px, 1px, 1px);height: 1px;margin: -1px;overflow: hidden;padding: 0;position: absolute;width: 1px;}#sk-container-id-1 div.sk-estimator {font-family: monospace;background-color: #f0f8ff;border: 1px dotted black;border-radius: 0.25em;box-sizing: border-box;margin-bottom: 0.5em;}#sk-container-id-1 div.sk-estimator:hover {background-color: #d4ebff;}#sk-container-id-1 div.sk-parallel-item::after {content: \"\";width: 100%;border-bottom: 1px solid gray;flex-grow: 1;}#sk-container-id-1 div.sk-label:hover label.sk-toggleable__label {background-color: #d4ebff;}#sk-container-id-1 div.sk-serial::before {content: \"\";position: absolute;border-left: 1px solid gray;box-sizing: border-box;top: 0;bottom: 0;left: 50%;z-index: 0;}#sk-container-id-1 div.sk-serial {display: flex;flex-direction: column;align-items: center;background-color: white;padding-right: 0.2em;padding-left: 0.2em;position: relative;}#sk-container-id-1 div.sk-item {position: relative;z-index: 1;}#sk-container-id-1 div.sk-parallel {display: flex;align-items: stretch;justify-content: center;background-color: white;position: relative;}#sk-container-id-1 div.sk-item::before, #sk-container-id-1 div.sk-parallel-item::before {content: \"\";position: absolute;border-left: 1px solid gray;box-sizing: border-box;top: 0;bottom: 0;left: 50%;z-index: -1;}#sk-container-id-1 div.sk-parallel-item {display: flex;flex-direction: column;z-index: 1;position: relative;background-color: white;}#sk-container-id-1 div.sk-parallel-item:first-child::after {align-self: flex-end;width: 50%;}#sk-container-id-1 div.sk-parallel-item:last-child::after {align-self: flex-start;width: 50%;}#sk-container-id-1 div.sk-parallel-item:only-child::after {width: 0;}#sk-container-id-1 div.sk-dashed-wrapped {border: 1px dashed gray;margin: 0 0.4em 0.5em 0.4em;box-sizing: border-box;padding-bottom: 0.4em;background-color: white;}#sk-container-id-1 div.sk-label label {font-family: monospace;font-weight: bold;display: inline-block;line-height: 1.2em;}#sk-container-id-1 div.sk-label-container {text-align: center;}#sk-container-id-1 div.sk-container {/* jupyter's `normalize.less` sets `[hidden] { display: none; }` but bootstrap.min.css set `[hidden] { display: none !important; }` so we also need the `!important` here to be able to override the default hidden behavior on the sphinx rendered scikit-learn.org. See: https://github.com/scikit-learn/scikit-learn/issues/21755 */display: inline-block !important;position: relative;}#sk-container-id-1 div.sk-text-repr-fallback {display: none;}</style><div id=\"sk-container-id-1\" class=\"sk-top-container\"><div class=\"sk-text-repr-fallback\"><pre>GridSearchCV(cv=5, estimator=DecisionTreeClassifier(random_state=42),\n",
       "             param_grid={&#x27;max_leaf_nodes&#x27;: range(3, 9)},\n",
       "             scoring=&#x27;matthews_corrcoef&#x27;)</pre><b>In a Jupyter environment, please rerun this cell to show the HTML representation or trust the notebook. <br />On GitHub, the HTML representation is unable to render, please try loading this page with nbviewer.org.</b></div><div class=\"sk-container\" hidden><div class=\"sk-item sk-dashed-wrapped\"><div class=\"sk-label-container\"><div class=\"sk-label sk-toggleable\"><input class=\"sk-toggleable__control sk-hidden--visually\" id=\"sk-estimator-id-1\" type=\"checkbox\" ><label for=\"sk-estimator-id-1\" class=\"sk-toggleable__label sk-toggleable__label-arrow\">GridSearchCV</label><div class=\"sk-toggleable__content\"><pre>GridSearchCV(cv=5, estimator=DecisionTreeClassifier(random_state=42),\n",
       "             param_grid={&#x27;max_leaf_nodes&#x27;: range(3, 9)},\n",
       "             scoring=&#x27;matthews_corrcoef&#x27;)</pre></div></div></div><div class=\"sk-parallel\"><div class=\"sk-parallel-item\"><div class=\"sk-item\"><div class=\"sk-label-container\"><div class=\"sk-label sk-toggleable\"><input class=\"sk-toggleable__control sk-hidden--visually\" id=\"sk-estimator-id-2\" type=\"checkbox\" ><label for=\"sk-estimator-id-2\" class=\"sk-toggleable__label sk-toggleable__label-arrow\">estimator: DecisionTreeClassifier</label><div class=\"sk-toggleable__content\"><pre>DecisionTreeClassifier(random_state=42)</pre></div></div></div><div class=\"sk-serial\"><div class=\"sk-item\"><div class=\"sk-estimator sk-toggleable\"><input class=\"sk-toggleable__control sk-hidden--visually\" id=\"sk-estimator-id-3\" type=\"checkbox\" ><label for=\"sk-estimator-id-3\" class=\"sk-toggleable__label sk-toggleable__label-arrow\">DecisionTreeClassifier</label><div class=\"sk-toggleable__content\"><pre>DecisionTreeClassifier(random_state=42)</pre></div></div></div></div></div></div></div></div></div></div>"
      ],
      "text/plain": [
       "GridSearchCV(cv=5, estimator=DecisionTreeClassifier(random_state=42),\n",
       "             param_grid={'max_leaf_nodes': range(3, 9)},\n",
       "             scoring='matthews_corrcoef')"
      ]
     },
     "execution_count": 13,
     "metadata": {},
     "output_type": "execute_result"
    }
   ],
   "source": [
    "# hyper parameter tuning\n",
    "\n",
    "dtc_model=DecisionTreeClassifier(random_state=42)\n",
    "\n",
    "parameters = {'max_leaf_nodes': range(3,9,1)}\n",
    "gs_clf = GridSearchCV(dtc_model, parameters, cv=5, scoring='matthews_corrcoef')\n",
    "\n",
    "features = ['amount', 'external_dest', 'oldbalanceOrg_imputed', 'newbalanceOrig', 'oldbalanceDest',\n",
    "       'newbalanceDest_imputed', 'deviation_from_max_7_days',\n",
    "       'deviation_from_max_3_days', 'type_CASH_IN', 'type_CASH_OUT', 'type_DEBIT',\n",
    "       'type_PAYMENT', 'type_TRANSFER']\n",
    "\n",
    "gs_clf.fit(X_val[features], y_val)"
   ]
  },
  {
   "cell_type": "code",
   "execution_count": 14,
   "metadata": {},
   "outputs": [
    {
     "name": "stdout",
     "output_type": "stream",
     "text": [
      "max_leaf_nodes: 8\n",
      "grid search score, cv=5, 0.5061408455889455\n"
     ]
    }
   ],
   "source": [
    "for param_name in sorted(parameters.keys()):\n",
    "    print(\"%s: %r\" % (param_name, gs_clf.best_params_[param_name]))\n",
    "print('grid search score, cv=5,', gs_clf.best_score_)"
   ]
  },
  {
   "cell_type": "code",
   "execution_count": 15,
   "metadata": {},
   "outputs": [],
   "source": [
    "dtc_model=gs_clf.best_estimator_\n",
    "dtc_model.fit(X_train[features],y_train)\n",
    "dtc_prediction=dtc_model.predict(X_test[features])"
   ]
  },
  {
   "cell_type": "code",
   "execution_count": 16,
   "metadata": {},
   "outputs": [
    {
     "name": "stdout",
     "output_type": "stream",
     "text": [
      "Accuracy: 0.999528\n",
      "Precision TP/(TP+FP): 0.971098\n",
      "Recall TP/(TP+FN): 0.665083\n",
      "F1 Score: 0.789474\n",
      "MCC Score: 0.803454\n"
     ]
    },
    {
     "data": {
      "image/png": "[encoded data removed]",
      "text/plain": [
       "<Figure size 640x480 with 2 Axes>"
      ]
     },
     "metadata": {},
     "output_type": "display_data"
    }
   ],
   "source": [
    "performance(dtc_model, x_test=X_test[features], y_test=y_test)"
   ]
  },
  {
   "cell_type": "code",
   "execution_count": 17,
   "metadata": {},
   "outputs": [
    {
     "data": {
      "text/plain": [
       "[Text(0.5769230769230769, 0.9, 'amount <= 3.079\\ngini = 0.003\\nsamples = 4599530\\nvalue = [4593585, 5945]\\nclass = y[0]'),\n",
       " Text(0.3076923076923077, 0.7, 'type_TRANSFER <= 0.5\\ngini = 0.002\\nsamples = 4568369\\nvalue = [4563640, 4729]\\nclass = y[0]'),\n",
       " Text(0.15384615384615385, 0.5, 'amount <= 1.297\\ngini = 0.001\\nsamples = 4213050\\nvalue = [4210651, 2399]\\nclass = y[0]'),\n",
       " Text(0.07692307692307693, 0.3, 'gini = 0.001\\nsamples = 4212296\\nvalue = [4210301, 1995]\\nclass = y[0]'),\n",
       " Text(0.23076923076923078, 0.3, 'oldbalanceDest <= -0.007\\ngini = 0.497\\nsamples = 754\\nvalue = [350, 404]\\nclass = y[1]'),\n",
       " Text(0.15384615384615385, 0.1, 'gini = 0.138\\nsamples = 348\\nvalue = [26, 322]\\nclass = y[1]'),\n",
       " Text(0.3076923076923077, 0.1, 'gini = 0.322\\nsamples = 406\\nvalue = [324, 82]\\nclass = y[0]'),\n",
       " Text(0.46153846153846156, 0.5, 'external_dest <= 0.5\\ngini = 0.013\\nsamples = 355319\\nvalue = [352989, 2330]\\nclass = y[0]'),\n",
       " Text(0.38461538461538464, 0.3, 'gini = 0.0\\nsamples = 352934\\nvalue = [352914, 20]\\nclass = y[0]'),\n",
       " Text(0.5384615384615384, 0.3, 'gini = 0.061\\nsamples = 2385\\nvalue = [75, 2310]\\nclass = y[1]'),\n",
       " Text(0.8461538461538461, 0.7, 'external_dest <= 0.5\\ngini = 0.075\\nsamples = 31161\\nvalue = [29945, 1216]\\nclass = y[0]'),\n",
       " Text(0.7692307692307693, 0.5, 'type_TRANSFER <= 0.5\\ngini = 0.038\\nsamples = 30536\\nvalue = [29945, 591]\\nclass = y[0]'),\n",
       " Text(0.6923076923076923, 0.3, 'gini = 0.069\\nsamples = 612\\nvalue = [22, 590]\\nclass = y[1]'),\n",
       " Text(0.8461538461538461, 0.3, 'gini = 0.0\\nsamples = 29924\\nvalue = [29923, 1]\\nclass = y[0]'),\n",
       " Text(0.9230769230769231, 0.5, 'gini = 0.0\\nsamples = 625\\nvalue = [0, 625]\\nclass = y[1]')]"
      ]
     },
     "execution_count": 17,
     "metadata": {},
     "output_type": "execute_result"
    },
    {
     "data": {
      "image/png": "[encoded data removed]",
      "text/plain": [
       "<Figure size 640x480 with 1 Axes>"
      ]
     },
     "metadata": {},
     "output_type": "display_data"
    }
   ],
   "source": [
    "plot_tree(dtc_model, feature_names=dtc_model.feature_names_in_, filled=True, fontsize=4, class_names=True)"
   ]
  },
  {
   "cell_type": "code",
   "execution_count": 31,
   "metadata": {},
   "outputs": [
    {
     "name": "stdout",
     "output_type": "stream",
     "text": [
      "isFraud\n",
      "[    201     864     877 ... 4599527 4599528 4599529]\n",
      "{amount, 1.2966257333755493}\n",
      "[      0       1       2 ... 4599523 4599526 4599529]\n",
      "{type_TRANSFER, 0.5}\n",
      "[      0       1       2 ... 4599525 4599528 4599529]\n",
      "{amount, 3.0788129568099976}\n",
      "[      0       1       2 ... 4599525 4599526 4599529]\n",
      "{oldbalanceDest, -0.0067258847411721945}\n",
      "[      0       1       2 ... 4599526 4599527 4599528]\n",
      "{external_dest, 0.5}\n",
      "[     11      12      14 ... 4599525 4599528 4599529]\n"
     ]
    }
   ],
   "source": [
    "def create_cart_predicates(cart_model, input_df):\n",
    "    \"\"\" Creates data frame with columns from decision tree features and thresholds feature<threshold\"\"\"\n",
    "    bool_filter         = cart_model.tree_.feature>=0\n",
    "    chosen_features_id  = cart_model.tree_.feature[bool_filter]\n",
    "    chosen_features     = cart_model.feature_names_in_[chosen_features_id]\n",
    "    thresholds          = cart_model.tree_.threshold[bool_filter]\n",
    "    features_thresholds = list(set(list(zip(chosen_features, thresholds))))\n",
    "    df = pd.DataFrame()\n",
    "    for ft in features_thresholds:\n",
    "        df[str(ft).replace('(','{').replace(')','}').replace('\\'','')] = input_df[ft[0]]<=ft[1]\n",
    "        \n",
    "    df['isFraud'] = input_df['isFraud']\n",
    "    predicates = df.columns[:-1]\n",
    "    return df, predicates\n",
    "\n",
    "train_predicates_cart, predicates = create_cart_predicates(dtc_model, df_train)\n",
    "test_predicates_cart,a = create_cart_predicates(dtc_model, df_test)\n",
    "\n",
    "create_facts_and_examples(df_=train_predicates_cart, target='isFraud', \\\n",
    "                          predicates=predicates, output_dir='examples/fraud-cart')\n",
    "\n",
    "test_predicates_cart.to_parquet(path='examples/fraud-cart/df_test.parquet')"
   ]
  },
  {
   "cell_type": "code",
   "execution_count": 20,
   "metadata": {},
   "outputs": [
    {
     "name": "stdout",
     "output_type": "stream",
     "text": [
      "isFraud\n",
      "[100 101 102 103 104 105 106 107 108 109 110 111 112 113 114 115 116 117\n",
      " 118 119 120 121 122 123 124 125 126 127 128 129 130 131 132 133 134 135\n",
      " 136 137 138 139 140 141 142 143 144 145 146 147 148 149 150 151 152 153\n",
      " 154 155 156 157 158 159 160 161 162 163 164 165 166 167 168 169 170 171\n",
      " 172 173 174 175 176 177 178 179 180 181 182 183 184 185 186 187 188 189\n",
      " 190 191 192 193 194 195 196 197 198 199]\n",
      "{amount, 1.2966257333755493}\n",
      "[  0   1   2   3   4   5   6   7   8   9  10  11  12  13  14  17  18  19\n",
      "  20  21  22  23  24  25  26  27  28  29  30  31  32  33  34  35  36  37\n",
      "  38  39  40  41  42  43  44  45  46  47  49  51  52  53  54  55  56  57\n",
      "  58  59  60  61  62  63  64  65  66  67  68  69  70  71  72  73  74  75\n",
      "  76  77  78  79  80  81  82  83  84  85  86  87  88  89  90  91  92  93\n",
      "  94  95  96  97  98  99 100 101 102 103 104 105 106 107 108 109 110 111\n",
      " 115 116 117 118 119 120 121 125 126 127 128 129 130 131 132 133 134 135\n",
      " 136 137 138 139 140 141 142 143 144 145 147 148 149 150 151 153 154 155\n",
      " 156 157 159 162 163 164 165 166 167 169 170 171 172 173 174 177 178 179\n",
      " 180 181 182 183 184 185 186 190 191 192 196 197]\n",
      "{type_TRANSFER, 0.5}\n",
      "[  0   1   2   3   4   5   6   7   8   9  10  11  13  21  22  23  24  25\n",
      "  26  28  29  30  31  32  33  34  35  36  37  38  39  40  41  42  43  44\n",
      "  45  46  47  55  56  57  58  59  61  62  63  64  65  66  67  68  69  70\n",
      "  71  72  73  74  75  76  77  78  79  80  81  82  83  84  85  86  87  88\n",
      "  89  90  92  93  94  95  96  97  98  99 101 104 106 108 110 113 115 117\n",
      " 120 122 125 130 133 134 136 139 140 143 144 148 149 151 153 154 156 157\n",
      " 159 161 162 163 166 168 169 171 173 175 177 178 181 183 185 189 190 192\n",
      " 193 195 196 199]\n",
      "{amount, 3.0788129568099976}\n",
      "[  0   1   2   3   4   5   6   7   8   9  10  11  12  13  14  15  16  17\n",
      "  18  19  20  21  22  23  24  25  26  27  28  29  30  31  32  33  34  35\n",
      "  36  37  38  39  40  41  42  43  44  45  46  47  49  51  52  53  54  55\n",
      "  56  57  58  59  60  61  62  63  64  65  66  67  68  69  70  71  72  73\n",
      "  74  75  76  77  78  79  80  81  82  83  84  85  86  87  88  89  90  91\n",
      "  92  93  94  95  96  97  98  99 100 101 102 103 104 105 106 107 108 109\n",
      " 110 111 112 113 114 115 116 117 118 119 120 121 125 126 127 128 129 130\n",
      " 131 132 133 134 135 136 137 138 139 140 141 142 143 144 145 147 148 149\n",
      " 150 151 152 153 154 155 156 157 158 159 160 161 162 163 164 165 166 167\n",
      " 169 170 171 172 173 174 177 178 179 180 181 182 183 184 185 186 187 190\n",
      " 191 192 193 194 196 197 198 199]\n",
      "{oldbalanceDest, -0.0067258847411721945}\n",
      "[  0   1   2   3   4   5   6   7   8   9  10  11  13  17  20  22  23  24\n",
      "  25  26  28  29  30  31  33  35  37  40  41  43  45  46  47  49  52  54\n",
      "  55  56  57  58  59  61  63  64  65  66  67  68  69  72  74  76  77  78\n",
      "  79  80  81  82  83  84  85  86  87  90  91  92  93  94  95  96  97  98\n",
      " 100 101 102 103 104 105 106 107 108 109 110 111 112 113 114 115 116 117\n",
      " 118 119 120 121 123 124 125 126 127 128 129 130 131 132 133 134 135 136\n",
      " 137 138 139 140 141 142 143 144 145 146 147 148 149 150 151 152 153 154\n",
      " 155 156 157 158 160 161 162 163 164 165 166 167 168 169 170 171 172 173\n",
      " 174 175 176 177 178 179 180 181 182 183 184 185 186 188 189 190 191 192\n",
      " 193 194 196 197 198 199]\n",
      "{external_dest, 0.5}\n",
      "[ 11  12  14  15  16  17  18  19  20  21  27  31  32  33  34  35  36  37\n",
      "  38  39  40  41  42  44  48  49  50  51  52  53  54  57  59  60  61  62\n",
      "  63  64  65  66  67  68  69  70  71  72  73  74  75  76  77  87  88  89\n",
      "  90  91  96  97  99 101 104 106 108 110 113 115 117 120 122 125 129 130\n",
      " 133 134 136 139 140 143 144 148 149 151 152 153 154 156 157 158 159 160\n",
      " 161 162 163 166 168 169 170 171 172 173 175 177 178 181 183 184 185 187\n",
      " 188 189 190 192 193 195 196 199]\n"
     ]
    }
   ],
   "source": [
    "#short version\n",
    "df_1 = train_predicates_cart[train_predicates_cart['isFraud']==0]\n",
    "df_2 = train_predicates_cart[train_predicates_cart['isFraud']==1]\n",
    "fraud_background = pd.concat([df_1.iloc[0:100], df_2.iloc[0:100]], ignore_index=True)\n",
    "create_facts_and_examples(df_=fraud_background, target='isFraud', \\\n",
    "                          predicates=predicates, output_dir='examples/fraud-cart-short')\n",
    "\n",
    "test_predicates_cart.to_parquet(path='examples/fraud-cart-short/df_test.parquet')"
   ]
  },
  {
   "cell_type": "markdown",
   "metadata": {},
   "source": [
    "## Prepare background knowledge, positive, and negative examples for DILP"
   ]
  },
  {
   "cell_type": "code",
   "execution_count": 19,
   "metadata": {},
   "outputs": [
    {
     "name": "stdout",
     "output_type": "stream",
     "text": [
      "isFraud\n",
      "[100 101 102 103 104 105 106 107 108 109 110 111 112 113 114 115 116 117\n",
      " 118 119 120 121 122 123 124 125 126 127 128 129 130 131 132 133 134 135\n",
      " 136 137 138 139 140 141 142 143 144 145 146 147 148 149 150 151 152 153\n",
      " 154 155 156 157 158 159 160 161 162 163 164 165 166 167 168 169 170 171\n",
      " 172 173 174 175 176 177 178 179 180 181 182 183 184 185 186 187 188 189\n",
      " 190 191 192 193 194 195 196 197 198 199]\n",
      "external_dest\n",
      "[  0   1   2   3   4   5   6   7   8   9  10  13  22  23  24  25  26  28\n",
      "  29  30  43  45  46  47  55  56  58  78  79  80  81  82  83  84  85  86\n",
      "  92  93  94  95  98 100 102 103 105 107 109 111 112 114 116 118 119 121\n",
      " 123 124 126 127 128 131 132 135 137 138 141 142 145 146 147 150 155 164\n",
      " 165 167 174 176 179 180 182 186 191 194 197 198]\n",
      "type_CASH_IN\n",
      "[61 62 63 64 65 66 67 68 69 70 71 72 73 74 75 76 77 87 88 89 90]\n",
      "type_CASH_OUT\n",
      "[ 31  32  33  34  35  36  37  38  39  40  41  42  44 101 104 106 108 110\n",
      " 113 115 117 120 122 125 130 133 134 136 139 140 143 144 148 149 151 153\n",
      " 154 156 157 159 161 162 163 166 168 169 171 173 175 177 178 181 183 185\n",
      " 189 190 192 193 195 196 199]\n",
      "type_DEBIT\n",
      "[11 21 57 59 96 97 99]\n",
      "type_PAYMENT\n",
      "[ 0  1  2  3  4  5  6  7  8  9 10 13 22 23 24 25 26 28 29 30 43 45 46 47\n",
      " 55 56 58 78 79 80 81 82 83 84 85 86 92 93 94 95 98]\n",
      "type_TRANSFER\n",
      "[ 12  14  15  16  17  18  19  20  27  48  49  50  51  52  53  54  60  91\n",
      " 100 102 103 105 107 109 111 112 114 116 118 119 121 123 124 126 127 128\n",
      " 129 131 132 135 137 138 141 142 145 146 147 150 152 155 158 160 164 165\n",
      " 167 170 172 174 176 179 180 182 184 186 187 188 191 194 197 198]\n",
      "deviation_from_max_7_days\n",
      "[  0   1   2   3   4   5   6   7   8   9  10  11  12  13  14  15  17  18\n",
      "  19  20  21  22  23  24  25  26  27  28  29  30  31  32  33  34  37  38\n",
      "  40  41  43  44  45  46  47  48  49  50  51  52  53  54  55  56  57  58\n",
      "  59  60  61  62  63  64  65  66  67  68  69  71  72  73  74  75  76  77\n",
      "  78  79  80  81  82  83  84  85  86  87  90  91  92  93  94  95  96  97\n",
      "  98  99 100 101 102 103 104 105 106 107 108 109 110 111 112 113 114 115\n",
      " 116 117 118 119 120 121 122 123 124 125 126 127 128 129 130 131 132 133\n",
      " 134 135 136 137 138 139 140 141 142 143 144 145 146 147 148 149 150 151\n",
      " 152 153 155 157 158 160 161 162 163 164 165 166 167 168 173 174 175 176\n",
      " 177 179 180 182 183 184 186 187 188 189 190 191 193 194 195 197 198 199]\n"
     ]
    }
   ],
   "source": [
    "df_1 = df_train[df_train['isFraud']==0]\n",
    "df_2 = df_train[df_train['isFraud']==1]\n",
    "fraud_background = pd.concat([df_1.iloc[0:100], df_2.iloc[0:100]], ignore_index=True)\n",
    "#  type = transfer, and\n",
    "# • externalDest = True, and\n",
    "# • amount - maxDest7 > -0.15\n",
    "fraud_background['deviation_from_max_7_days'] = fraud_background['deviation_from_max_7_days']>-0.15\n",
    "predicates=['external_dest', 'type_CASH_IN', 'type_CASH_OUT', 'type_DEBIT', 'type_PAYMENT',\n",
    "                                       'type_TRANSFER', 'deviation_from_max_7_days']\n",
    "\n",
    "create_facts_and_examples(df_=fraud_background, target='isFraud', \n",
    "                          predicates=predicates, output_dir='examples/fraud')\n",
    "\n",
    "df_test.to_parquet(path='examples/fraud/df_test.parquet')\n"
   ]
  },
  {
   "cell_type": "code",
   "execution_count": 20,
   "metadata": {},
   "outputs": [
    {
     "ename": "AssertionError",
     "evalue": "break before ripper",
     "output_type": "error",
     "traceback": [
      "\u001b[0;31m---------------------------------------------------------------------------\u001b[0m",
      "\u001b[0;31mAssertionError\u001b[0m                            Traceback (most recent call last)",
      "Cell \u001b[0;32mIn[20], line 1\u001b[0m\n\u001b[0;32m----> 1\u001b[0m \u001b[38;5;28;01massert\u001b[39;00m \u001b[38;5;241m0\u001b[39m, \u001b[38;5;124m\"\u001b[39m\u001b[38;5;124mbreak before ripper\u001b[39m\u001b[38;5;124m\"\u001b[39m\n",
      "\u001b[0;31mAssertionError\u001b[0m: break before ripper"
     ]
    }
   ],
   "source": [
    "assert 0, \"break before ripper\""
   ]
  },
  {
   "cell_type": "markdown",
   "metadata": {},
   "source": [
    "## RIPPER"
   ]
  },
  {
   "cell_type": "code",
   "execution_count": null,
   "metadata": {},
   "outputs": [],
   "source": [
    "import wittgenstein as lw"
   ]
  },
  {
   "cell_type": "code",
   "execution_count": null,
   "metadata": {},
   "outputs": [],
   "source": [
    "#https://pypi.org/project/wittgenstein/\n",
    "#https://www.geeksforgeeks.org/ripper-algorithm/\n",
    "#https://github.com/imoscovitz/wittgenstein#useful-references\n",
    "ripper_clf = lw.RIPPER() # Or irep_clf = lw.IREP() to build a model using IREP\n",
    "ripper_clf.fit(X_train,y_train) # Or pass X and y data to .fit\n",
    "ripper_clf"
   ]
  },
  {
   "cell_type": "code",
   "execution_count": null,
   "metadata": {},
   "outputs": [],
   "source": [
    "ripper_clf.out_model()"
   ]
  },
  {
   "cell_type": "code",
   "execution_count": null,
   "metadata": {},
   "outputs": [],
   "source": [
    "performance(ripper_clf, x_test=X_test, y_test=y_test)"
   ]
  },
  {
   "cell_type": "code",
   "execution_count": null,
   "metadata": {},
   "outputs": [],
   "source": []
  }
 ],
 "metadata": {
  "kaggle": {
   "accelerator": "none",
   "dataSources": [
    {
     "datasetId": 1069,
     "sourceId": 1940,
     "sourceType": "datasetVersion"
    }
   ],
   "dockerImageVersionId": 30646,
   "isGpuEnabled": false,
   "isInternetEnabled": false,
   "language": "python",
   "sourceType": "notebook"
  },
  "kernelspec": {
   "display_name": "Python 3 (ipykernel)",
   "language": "python",
   "name": "python3"
  },
  "language_info": {
   "codemirror_mode": {
    "name": "ipython",
    "version": 3
   },
   "file_extension": ".py",
   "mimetype": "text/x-python",
   "name": "python",
   "nbconvert_exporter": "python",
   "pygments_lexer": "ipython3",
   "version": "3.11.7"
  }
 },
 "nbformat": 4,
 "nbformat_minor": 4
}
