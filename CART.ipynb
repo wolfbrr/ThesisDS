{
 "cells": [
  {
   "cell_type": "code",
   "execution_count": 1,
   "metadata": {},
   "outputs": [],
   "source": [
    "#install dependencies\n",
    "# !pip install pyarrow\n",
    "# !pip install  duckdb --upgrade --pre\n",
    "# !pip install wittgenstein\n"
   ]
  },
  {
   "cell_type": "code",
   "execution_count": 2,
   "metadata": {
    "_cell_guid": "b1076dfc-b9ad-4769-8c92-a6c4dae69d19",
    "_uuid": "8f2839f25d086af736a60e9eeb907d3b93b6e0e5"
   },
   "outputs": [],
   "source": [
    "import numpy as np \n",
    "import pandas as pd \n",
    "import matplotlib.pyplot as plt \n",
    "\n",
    "from sklearn.model_selection import train_test_split,  GroupShuffleSplit\n",
    "from sklearn.metrics import precision_score, recall_score, accuracy_score, f1_score, matthews_corrcoef\n",
    "\n",
    "from sklearn.tree import DecisionTreeClassifier, plot_tree\n",
    "from sklearn.linear_model import LogisticRegression\n",
    "from sklearn.preprocessing import KBinsDiscretizer, StandardScaler\n",
    "from sklearn.model_selection import GridSearchCV\n",
    "\n",
    "import os\n",
    "import time\n",
    "\n",
    "## Duck Db imports\n",
    "import pyarrow.parquet as pq\n",
    "import duckdb\n",
    "\n",
    "# developed packages\n",
    "from utils import create_facts_and_examples, performance_metrics\n"
   ]
  },
  {
   "cell_type": "markdown",
   "metadata": {},
   "source": [
    "\n",
    "## Import Data¶\n"
   ]
  },
  {
   "cell_type": "markdown",
   "metadata": {},
   "source": [
    "#### create duck db connection"
   ]
  },
  {
   "cell_type": "code",
   "execution_count": 3,
   "metadata": {},
   "outputs": [
    {
     "data": {
      "text/plain": [
       "<duckdb.duckdb.DuckDBPyConnection at 0x7fe2a7bd6370>"
      ]
     },
     "execution_count": 3,
     "metadata": {},
     "output_type": "execute_result"
    }
   ],
   "source": [
    "con = duckdb.connect(':memory:')\n",
    "# enable automatic query parallelization\n",
    "con.execute(\"PRAGMA threads=2\")\n",
    "# enable caching of parquet metadata\n",
    "con.execute(\"PRAGMA enable_object_cache\")"
   ]
  },
  {
   "cell_type": "markdown",
   "metadata": {},
   "source": [
    "#### Reading PAYSIM1 data and creating parquet file"
   ]
  },
  {
   "cell_type": "code",
   "execution_count": 4,
   "metadata": {},
   "outputs": [
    {
     "data": {
      "application/vnd.jupyter.widget-view+json": {
       "model_id": "f908445756e64f5195a410d01342394a",
       "version_major": 2,
       "version_minor": 0
      },
      "text/plain": [
       "FloatProgress(value=0.0, layout=Layout(width='auto'), style=ProgressStyle(bar_color='black'))"
      ]
     },
     "metadata": {},
     "output_type": "display_data"
    }
   ],
   "source": [
    "try:\n",
    "    con.sql('DROP TABLE df_fraud_tbl')\n",
    "    print(\"previous table dropped\")\n",
    "except:\n",
    "    pass\n",
    "\n",
    "try:\n",
    "    con.sql(\"\"\"CREATE TABLE fraud_tbl AS SELECT * FROM 'fraud.parquet';\"\"\")\n",
    "except:\n",
    "    con.sql(\n",
    "    \"\"\"\n",
    "    copy 'DATA/paysim1/PS_20174392719_1491204439457_log.csv' to 'fraud.parquet';\n",
    "\"\"\")\n",
    "    con.sql(\"\"\"CREATE TABLE fraud_tbl AS SELECT * FROM 'fraud.parquet';\"\"\")"
   ]
  },
  {
   "cell_type": "markdown",
   "metadata": {},
   "source": [
    "#### Creating externarl origin and destination, Imputing zero values for external accounts"
   ]
  },
  {
   "cell_type": "code",
   "execution_count": 5,
   "metadata": {},
   "outputs": [],
   "source": [
    "df_fraud = con.sql(\"\"\" \n",
    "SELECT *,\n",
    "-- evaluating external accounts\n",
    "    oldbalanceOrg==0 and newbalanceOrig==0 as external_orig,\n",
    "    oldbalanceDest==0 and newbalanceDest==0 as external_dest,\n",
    "-- Imputing zero values for external accounts\n",
    "    CASE WHEN external_orig==True \n",
    "        THEN  amount\n",
    "        ELSE oldbalanceOrg\n",
    "    END AS oldbalanceOrg_imputed,\n",
    "    CASE WHEN external_dest==True \n",
    "        THEN  amount\n",
    "        ELSE newbalanceDest\n",
    "    END AS newbalanceDest_imputed, \n",
    "FROM fraud_tbl\n",
    "\"\"\").df()\n",
    "\n",
    "# testing\n",
    "slice_index = df_fraud['external_orig']==True\n",
    "\n",
    "assert np.sum(df_fraud[slice_index]['amount'] != df_fraud[slice_index]['oldbalanceOrg_imputed'] )==0, \"Wrong imputation for external origin\"\n",
    "\n",
    "slice_index = df_fraud['external_dest']==True\n",
    "\n",
    "assert np.sum(df_fraud[slice_index]['amount'] != df_fraud[slice_index]['newbalanceDest_imputed'] )==0, \"Wrong imputation for external destination\"\n"
   ]
  },
  {
   "cell_type": "markdown",
   "metadata": {},
   "source": [
    "## Split data to train/test/val "
   ]
  },
  {
   "cell_type": "markdown",
   "metadata": {},
   "source": [
    "#### train and test sets"
   ]
  },
  {
   "cell_type": "code",
   "execution_count": 6,
   "metadata": {},
   "outputs": [],
   "source": [
    "gss = GroupShuffleSplit(n_splits=1, test_size=0.15, random_state=42)\n",
    "for train_index, test_index in gss.split(df_fraud, groups=df_fraud['nameDest']):\n",
    "    df_train_total = df_fraud.loc[train_index]\n",
    "    df_test_       = df_fraud.loc[test_index]"
   ]
  },
  {
   "cell_type": "markdown",
   "metadata": {},
   "source": [
    "#### validation set is a part of train set"
   ]
  },
  {
   "cell_type": "code",
   "execution_count": 7,
   "metadata": {},
   "outputs": [],
   "source": [
    "df_train_total = df_train_total.reset_index(drop=True)\n",
    "\n",
    "gss = GroupShuffleSplit(n_splits=1, test_size=0.15, random_state=42)\n",
    "for train_index, val_index in gss.split(df_train_total, groups=df_train_total['nameDest']):\n",
    "    df_train_ = df_train_total.loc[train_index]\n",
    "    df_val_   = df_train_total.loc[val_index]"
   ]
  },
  {
   "cell_type": "markdown",
   "metadata": {},
   "source": [
    "# Preprocessing"
   ]
  },
  {
   "cell_type": "markdown",
   "metadata": {},
   "source": [
    "#### aggregation definition\n",
    "compute average, and maximum amount of transfer for the last 3, and 7 days for the destination "
   ]
  },
  {
   "cell_type": "code",
   "execution_count": 8,
   "metadata": {},
   "outputs": [],
   "source": [
    "def aggregates(df):\n",
    "    \"\"\" runs aggregations on pandas dataframe with help of duckdb\"\"\"\n",
    "    data = df.copy()\n",
    "\n",
    "    data = con.sql(\"\"\"\n",
    "        SELECT \n",
    "            *,\n",
    "\n",
    "-- calculate aggregetions (Average and Max) for last 7 including current row for each name Destination\n",
    "            AVG(amount) OVER (PARTITION BY nameDest ORDER BY step ROWS BETWEEN 6 PRECEDING AND CURRENT ROW) AS mean_last_7,\n",
    "            MAX(amount) OVER (PARTITION BY nameDest ORDER BY step ROWS BETWEEN 6 PRECEDING AND CURRENT ROW) AS max_last_7,\n",
    "       \n",
    "-- calculate aggregetions (Average and Max) for last 3 including current row for each name Destination\n",
    "            AVG(amount) OVER (PARTITION BY nameDest ORDER BY step ROWS BETWEEN 2 PRECEDING AND CURRENT ROW) AS mean_last_3,\n",
    "            MAX(amount) OVER (PARTITION BY nameDest ORDER BY step ROWS BETWEEN 2 PRECEDING AND CURRENT ROW) AS max_last_3,\n",
    "\n",
    "-- deviation from the aggregated values\n",
    "            amount-mean_last_7 as deviation_from_mean_7_days,\n",
    "            amount-mean_last_3 as deviation_from_mean_3_days,\n",
    "            amount-max_last_7 as deviation_from_max_7_days,\n",
    "            amount-max_last_3 as deviation_from_max_3_days,\n",
    "\n",
    "        FROM \n",
    "            data\n",
    "            ORDER BY step\n",
    "            \"\"\").df()\n",
    "    \n",
    "    return data"
   ]
  },
  {
   "cell_type": "markdown",
   "metadata": {},
   "source": [
    "#### Preprocessing class fit on train data and processes "
   ]
  },
  {
   "cell_type": "code",
   "execution_count": 9,
   "metadata": {},
   "outputs": [],
   "source": [
    "class Preprocess:\n",
    "    def __init__(self, scaler_columns):\n",
    "\n",
    "        self.scaler = StandardScaler()\n",
    "\n",
    "        self.scaler_columns = scaler_columns\n",
    "        \n",
    "    def fit(self, train_data_frame):\n",
    "        \n",
    "        self.scaler.fit(train_data_frame[self.scaler_columns])\n",
    "        \n",
    "    def transform(self, data_frame):\n",
    "        \n",
    "        df = data_frame.copy()\n",
    "        \n",
    "        #scale numerical columns \n",
    "        df[self.scaler_columns] = self.scaler.transform(df[self.scaler_columns])\n",
    "        \n",
    "        ### run aggregation\n",
    "        df = aggregates(df)\n",
    "        \n",
    "        # one hot encoding and drop columns \n",
    "        df['distType'] = df[\"nameDest\"].str[0]\n",
    "        df = pd.get_dummies(df, columns=['type', \"distType\"])\n",
    "        df.drop(columns=[\"step\", \"nameOrig\", \"nameDest\", \"isFlaggedFraud\"], inplace=True)\n",
    "\n",
    "        \n",
    "        return df\n",
    "\n",
    "    \n",
    "columns = ['amount', 'oldbalanceOrg_imputed', 'newbalanceOrig', 'oldbalanceDest',\n",
    "   'newbalanceDest_imputed']\n",
    "\n",
    "preprocessor = Preprocess(scaler_columns=columns)\n",
    "\n",
    "preprocessor.fit(df_train_)"
   ]
  },
  {
   "cell_type": "markdown",
   "metadata": {},
   "source": [
    "#### prerocessing "
   ]
  },
  {
   "cell_type": "code",
   "execution_count": 10,
   "metadata": {},
   "outputs": [
    {
     "data": {
      "application/vnd.jupyter.widget-view+json": {
       "model_id": "a253c5e4ab9e4ef6b99df4974f72f29f",
       "version_major": 2,
       "version_minor": 0
      },
      "text/plain": [
       "FloatProgress(value=0.0, layout=Layout(width='auto'), style=ProgressStyle(bar_color='black'))"
      ]
     },
     "metadata": {},
     "output_type": "display_data"
    }
   ],
   "source": [
    "df_train = preprocessor.transform(df_train_)\n",
    "df_test = preprocessor.transform(df_test_)\n",
    "df_val = preprocessor.transform(df_val_)"
   ]
  },
  {
   "cell_type": "markdown",
   "metadata": {},
   "source": [
    "#### performance"
   ]
  },
  {
   "cell_type": "code",
   "execution_count": 11,
   "metadata": {},
   "outputs": [],
   "source": [
    "def performance(model, x_test, y_test):\n",
    "    \"\"\" evaluetes performance of the model\"\"\"\n",
    "    y_pred = model.predict(x_test)\n",
    "    performance_metrics(y_pred, y_test, labels=model.classes_)"
   ]
  },
  {
   "cell_type": "code",
   "execution_count": 12,
   "metadata": {},
   "outputs": [
    {
     "data": {
      "text/html": [
       "<div>\n",
       "<style scoped>\n",
       "    .dataframe tbody tr th:only-of-type {\n",
       "        vertical-align: middle;\n",
       "    }\n",
       "\n",
       "    .dataframe tbody tr th {\n",
       "        vertical-align: top;\n",
       "    }\n",
       "\n",
       "    .dataframe thead th {\n",
       "        text-align: right;\n",
       "    }\n",
       "</style>\n",
       "<table border=\"1\" class=\"dataframe\">\n",
       "  <thead>\n",
       "    <tr style=\"text-align: right;\">\n",
       "      <th></th>\n",
       "      <th>amount</th>\n",
       "      <th>oldbalanceOrg</th>\n",
       "      <th>newbalanceOrig</th>\n",
       "      <th>oldbalanceDest</th>\n",
       "      <th>newbalanceDest</th>\n",
       "      <th>isFraud</th>\n",
       "      <th>external_orig</th>\n",
       "      <th>external_dest</th>\n",
       "      <th>oldbalanceOrg_imputed</th>\n",
       "      <th>newbalanceDest_imputed</th>\n",
       "      <th>...</th>\n",
       "      <th>deviation_from_mean_3_days</th>\n",
       "      <th>deviation_from_max_7_days</th>\n",
       "      <th>deviation_from_max_3_days</th>\n",
       "      <th>type_CASH_IN</th>\n",
       "      <th>type_CASH_OUT</th>\n",
       "      <th>type_DEBIT</th>\n",
       "      <th>type_PAYMENT</th>\n",
       "      <th>type_TRANSFER</th>\n",
       "      <th>distType_C</th>\n",
       "      <th>distType_M</th>\n",
       "    </tr>\n",
       "  </thead>\n",
       "  <tbody>\n",
       "    <tr>\n",
       "      <th>0</th>\n",
       "      <td>-0.198104</td>\n",
       "      <td>0.00</td>\n",
       "      <td>-0.292488</td>\n",
       "      <td>-0.297466</td>\n",
       "      <td>69756.86</td>\n",
       "      <td>0</td>\n",
       "      <td>True</td>\n",
       "      <td>False</td>\n",
       "      <td>-0.289831</td>\n",
       "      <td>-0.318581</td>\n",
       "      <td>...</td>\n",
       "      <td>0.000000</td>\n",
       "      <td>0.000000</td>\n",
       "      <td>0.000000</td>\n",
       "      <td>False</td>\n",
       "      <td>True</td>\n",
       "      <td>False</td>\n",
       "      <td>False</td>\n",
       "      <td>False</td>\n",
       "      <td>True</td>\n",
       "      <td>False</td>\n",
       "    </tr>\n",
       "    <tr>\n",
       "      <th>1</th>\n",
       "      <td>-0.281016</td>\n",
       "      <td>3799476.47</td>\n",
       "      <td>1.008352</td>\n",
       "      <td>-0.294444</td>\n",
       "      <td>69756.86</td>\n",
       "      <td>0</td>\n",
       "      <td>False</td>\n",
       "      <td>False</td>\n",
       "      <td>0.991981</td>\n",
       "      <td>-0.318581</td>\n",
       "      <td>...</td>\n",
       "      <td>-0.041456</td>\n",
       "      <td>-0.082912</td>\n",
       "      <td>-0.082912</td>\n",
       "      <td>True</td>\n",
       "      <td>False</td>\n",
       "      <td>False</td>\n",
       "      <td>False</td>\n",
       "      <td>False</td>\n",
       "      <td>True</td>\n",
       "      <td>False</td>\n",
       "    </tr>\n",
       "    <tr>\n",
       "      <th>2</th>\n",
       "      <td>-0.101456</td>\n",
       "      <td>0.00</td>\n",
       "      <td>-0.292488</td>\n",
       "      <td>-0.279695</td>\n",
       "      <td>69756.86</td>\n",
       "      <td>0</td>\n",
       "      <td>True</td>\n",
       "      <td>False</td>\n",
       "      <td>-0.269813</td>\n",
       "      <td>-0.318581</td>\n",
       "      <td>...</td>\n",
       "      <td>0.092069</td>\n",
       "      <td>0.000000</td>\n",
       "      <td>0.000000</td>\n",
       "      <td>False</td>\n",
       "      <td>True</td>\n",
       "      <td>False</td>\n",
       "      <td>False</td>\n",
       "      <td>False</td>\n",
       "      <td>True</td>\n",
       "      <td>False</td>\n",
       "    </tr>\n",
       "    <tr>\n",
       "      <th>3</th>\n",
       "      <td>-0.243841</td>\n",
       "      <td>1640596.99</td>\n",
       "      <td>0.278870</td>\n",
       "      <td>-0.294985</td>\n",
       "      <td>69756.86</td>\n",
       "      <td>0</td>\n",
       "      <td>False</td>\n",
       "      <td>False</td>\n",
       "      <td>0.251892</td>\n",
       "      <td>-0.318581</td>\n",
       "      <td>...</td>\n",
       "      <td>-0.035070</td>\n",
       "      <td>-0.142385</td>\n",
       "      <td>-0.142385</td>\n",
       "      <td>True</td>\n",
       "      <td>False</td>\n",
       "      <td>False</td>\n",
       "      <td>False</td>\n",
       "      <td>False</td>\n",
       "      <td>True</td>\n",
       "      <td>False</td>\n",
       "    </tr>\n",
       "    <tr>\n",
       "      <th>4</th>\n",
       "      <td>-0.015500</td>\n",
       "      <td>350501.24</td>\n",
       "      <td>-0.114528</td>\n",
       "      <td>-0.244730</td>\n",
       "      <td>69756.86</td>\n",
       "      <td>0</td>\n",
       "      <td>False</td>\n",
       "      <td>False</td>\n",
       "      <td>-0.190367</td>\n",
       "      <td>-0.318581</td>\n",
       "      <td>...</td>\n",
       "      <td>0.104766</td>\n",
       "      <td>0.000000</td>\n",
       "      <td>0.000000</td>\n",
       "      <td>True</td>\n",
       "      <td>False</td>\n",
       "      <td>False</td>\n",
       "      <td>False</td>\n",
       "      <td>False</td>\n",
       "      <td>True</td>\n",
       "      <td>False</td>\n",
       "    </tr>\n",
       "    <tr>\n",
       "      <th>...</th>\n",
       "      <td>...</td>\n",
       "      <td>...</td>\n",
       "      <td>...</td>\n",
       "      <td>...</td>\n",
       "      <td>...</td>\n",
       "      <td>...</td>\n",
       "      <td>...</td>\n",
       "      <td>...</td>\n",
       "      <td>...</td>\n",
       "      <td>...</td>\n",
       "      <td>...</td>\n",
       "      <td>...</td>\n",
       "      <td>...</td>\n",
       "      <td>...</td>\n",
       "      <td>...</td>\n",
       "      <td>...</td>\n",
       "      <td>...</td>\n",
       "      <td>...</td>\n",
       "      <td>...</td>\n",
       "      <td>...</td>\n",
       "      <td>...</td>\n",
       "    </tr>\n",
       "    <tr>\n",
       "      <th>4599525</th>\n",
       "      <td>1.785510</td>\n",
       "      <td>1258818.82</td>\n",
       "      <td>-0.292488</td>\n",
       "      <td>-0.176925</td>\n",
       "      <td>1762283.33</td>\n",
       "      <td>1</td>\n",
       "      <td>False</td>\n",
       "      <td>False</td>\n",
       "      <td>0.121014</td>\n",
       "      <td>0.142609</td>\n",
       "      <td>...</td>\n",
       "      <td>1.094290</td>\n",
       "      <td>0.000000</td>\n",
       "      <td>0.000000</td>\n",
       "      <td>False</td>\n",
       "      <td>True</td>\n",
       "      <td>False</td>\n",
       "      <td>False</td>\n",
       "      <td>False</td>\n",
       "      <td>True</td>\n",
       "      <td>False</td>\n",
       "    </tr>\n",
       "    <tr>\n",
       "      <th>4599526</th>\n",
       "      <td>10.148242</td>\n",
       "      <td>6311409.28</td>\n",
       "      <td>-0.292488</td>\n",
       "      <td>-0.304994</td>\n",
       "      <td>6379898.11</td>\n",
       "      <td>1</td>\n",
       "      <td>False</td>\n",
       "      <td>False</td>\n",
       "      <td>1.853100</td>\n",
       "      <td>1.400845</td>\n",
       "      <td>...</td>\n",
       "      <td>6.784307</td>\n",
       "      <td>0.000000</td>\n",
       "      <td>0.000000</td>\n",
       "      <td>False</td>\n",
       "      <td>True</td>\n",
       "      <td>False</td>\n",
       "      <td>False</td>\n",
       "      <td>False</td>\n",
       "      <td>True</td>\n",
       "      <td>False</td>\n",
       "    </tr>\n",
       "    <tr>\n",
       "      <th>4599527</th>\n",
       "      <td>10.148242</td>\n",
       "      <td>6311409.28</td>\n",
       "      <td>-0.292488</td>\n",
       "      <td>-0.325159</td>\n",
       "      <td>0.00</td>\n",
       "      <td>1</td>\n",
       "      <td>False</td>\n",
       "      <td>True</td>\n",
       "      <td>1.853100</td>\n",
       "      <td>1.382182</td>\n",
       "      <td>...</td>\n",
       "      <td>0.000000</td>\n",
       "      <td>0.000000</td>\n",
       "      <td>0.000000</td>\n",
       "      <td>False</td>\n",
       "      <td>False</td>\n",
       "      <td>False</td>\n",
       "      <td>False</td>\n",
       "      <td>True</td>\n",
       "      <td>True</td>\n",
       "      <td>False</td>\n",
       "    </tr>\n",
       "    <tr>\n",
       "      <th>4599528</th>\n",
       "      <td>0.264212</td>\n",
       "      <td>339682.13</td>\n",
       "      <td>-0.292488</td>\n",
       "      <td>-0.325159</td>\n",
       "      <td>0.00</td>\n",
       "      <td>1</td>\n",
       "      <td>False</td>\n",
       "      <td>True</td>\n",
       "      <td>-0.194076</td>\n",
       "      <td>-0.245030</td>\n",
       "      <td>...</td>\n",
       "      <td>0.000000</td>\n",
       "      <td>0.000000</td>\n",
       "      <td>0.000000</td>\n",
       "      <td>False</td>\n",
       "      <td>False</td>\n",
       "      <td>False</td>\n",
       "      <td>False</td>\n",
       "      <td>True</td>\n",
       "      <td>True</td>\n",
       "      <td>False</td>\n",
       "    </tr>\n",
       "    <tr>\n",
       "      <th>4599529</th>\n",
       "      <td>1.108862</td>\n",
       "      <td>850002.52</td>\n",
       "      <td>-0.292488</td>\n",
       "      <td>1.591606</td>\n",
       "      <td>7360101.63</td>\n",
       "      <td>1</td>\n",
       "      <td>False</td>\n",
       "      <td>False</td>\n",
       "      <td>-0.019132</td>\n",
       "      <td>1.667936</td>\n",
       "      <td>...</td>\n",
       "      <td>0.762928</td>\n",
       "      <td>0.000000</td>\n",
       "      <td>0.000000</td>\n",
       "      <td>False</td>\n",
       "      <td>True</td>\n",
       "      <td>False</td>\n",
       "      <td>False</td>\n",
       "      <td>False</td>\n",
       "      <td>True</td>\n",
       "      <td>False</td>\n",
       "    </tr>\n",
       "  </tbody>\n",
       "</table>\n",
       "<p>4599530 rows × 25 columns</p>\n",
       "</div>"
      ],
      "text/plain": [
       "            amount  oldbalanceOrg  newbalanceOrig  oldbalanceDest  \\\n",
       "0        -0.198104           0.00       -0.292488       -0.297466   \n",
       "1        -0.281016     3799476.47        1.008352       -0.294444   \n",
       "2        -0.101456           0.00       -0.292488       -0.279695   \n",
       "3        -0.243841     1640596.99        0.278870       -0.294985   \n",
       "4        -0.015500      350501.24       -0.114528       -0.244730   \n",
       "...            ...            ...             ...             ...   \n",
       "4599525   1.785510     1258818.82       -0.292488       -0.176925   \n",
       "4599526  10.148242     6311409.28       -0.292488       -0.304994   \n",
       "4599527  10.148242     6311409.28       -0.292488       -0.325159   \n",
       "4599528   0.264212      339682.13       -0.292488       -0.325159   \n",
       "4599529   1.108862      850002.52       -0.292488        1.591606   \n",
       "\n",
       "         newbalanceDest  isFraud  external_orig  external_dest  \\\n",
       "0              69756.86        0           True          False   \n",
       "1              69756.86        0          False          False   \n",
       "2              69756.86        0           True          False   \n",
       "3              69756.86        0          False          False   \n",
       "4              69756.86        0          False          False   \n",
       "...                 ...      ...            ...            ...   \n",
       "4599525      1762283.33        1          False          False   \n",
       "4599526      6379898.11        1          False          False   \n",
       "4599527            0.00        1          False           True   \n",
       "4599528            0.00        1          False           True   \n",
       "4599529      7360101.63        1          False          False   \n",
       "\n",
       "         oldbalanceOrg_imputed  newbalanceDest_imputed  ...  \\\n",
       "0                    -0.289831               -0.318581  ...   \n",
       "1                     0.991981               -0.318581  ...   \n",
       "2                    -0.269813               -0.318581  ...   \n",
       "3                     0.251892               -0.318581  ...   \n",
       "4                    -0.190367               -0.318581  ...   \n",
       "...                        ...                     ...  ...   \n",
       "4599525               0.121014                0.142609  ...   \n",
       "4599526               1.853100                1.400845  ...   \n",
       "4599527               1.853100                1.382182  ...   \n",
       "4599528              -0.194076               -0.245030  ...   \n",
       "4599529              -0.019132                1.667936  ...   \n",
       "\n",
       "         deviation_from_mean_3_days  deviation_from_max_7_days  \\\n",
       "0                          0.000000                   0.000000   \n",
       "1                         -0.041456                  -0.082912   \n",
       "2                          0.092069                   0.000000   \n",
       "3                         -0.035070                  -0.142385   \n",
       "4                          0.104766                   0.000000   \n",
       "...                             ...                        ...   \n",
       "4599525                    1.094290                   0.000000   \n",
       "4599526                    6.784307                   0.000000   \n",
       "4599527                    0.000000                   0.000000   \n",
       "4599528                    0.000000                   0.000000   \n",
       "4599529                    0.762928                   0.000000   \n",
       "\n",
       "         deviation_from_max_3_days  type_CASH_IN  type_CASH_OUT  type_DEBIT  \\\n",
       "0                         0.000000         False           True       False   \n",
       "1                        -0.082912          True          False       False   \n",
       "2                         0.000000         False           True       False   \n",
       "3                        -0.142385          True          False       False   \n",
       "4                         0.000000          True          False       False   \n",
       "...                            ...           ...            ...         ...   \n",
       "4599525                   0.000000         False           True       False   \n",
       "4599526                   0.000000         False           True       False   \n",
       "4599527                   0.000000         False          False       False   \n",
       "4599528                   0.000000         False          False       False   \n",
       "4599529                   0.000000         False           True       False   \n",
       "\n",
       "         type_PAYMENT  type_TRANSFER  distType_C  distType_M  \n",
       "0               False          False        True       False  \n",
       "1               False          False        True       False  \n",
       "2               False          False        True       False  \n",
       "3               False          False        True       False  \n",
       "4               False          False        True       False  \n",
       "...               ...            ...         ...         ...  \n",
       "4599525         False          False        True       False  \n",
       "4599526         False          False        True       False  \n",
       "4599527         False           True        True       False  \n",
       "4599528         False           True        True       False  \n",
       "4599529         False          False        True       False  \n",
       "\n",
       "[4599530 rows x 25 columns]"
      ]
     },
     "execution_count": 12,
     "metadata": {},
     "output_type": "execute_result"
    }
   ],
   "source": [
    "df_train"
   ]
  },
  {
   "cell_type": "markdown",
   "metadata": {},
   "source": [
    "## Decision Tree"
   ]
  },
  {
   "cell_type": "code",
   "execution_count": 13,
   "metadata": {},
   "outputs": [],
   "source": [
    "X_train = df_train.drop(columns=['isFraud'])\n",
    "y_train = df_train['isFraud']\n",
    "X_test = df_test.drop(columns=['isFraud'])\n",
    "y_test = df_test['isFraud']\n",
    "\n",
    "X_val = df_val.drop(columns=['isFraud'])\n",
    "y_val = df_val['isFraud']"
   ]
  },
  {
   "cell_type": "code",
   "execution_count": 14,
   "metadata": {
    "scrolled": true
   },
   "outputs": [
    {
     "data": {
      "text/html": [
       "<style>#sk-container-id-1 {color: black;background-color: white;}#sk-container-id-1 pre{padding: 0;}#sk-container-id-1 div.sk-toggleable {background-color: white;}#sk-container-id-1 label.sk-toggleable__label {cursor: pointer;display: block;width: 100%;margin-bottom: 0;padding: 0.3em;box-sizing: border-box;text-align: center;}#sk-container-id-1 label.sk-toggleable__label-arrow:before {content: \"▸\";float: left;margin-right: 0.25em;color: #696969;}#sk-container-id-1 label.sk-toggleable__label-arrow:hover:before {color: black;}#sk-container-id-1 div.sk-estimator:hover label.sk-toggleable__label-arrow:before {color: black;}#sk-container-id-1 div.sk-toggleable__content {max-height: 0;max-width: 0;overflow: hidden;text-align: left;background-color: #f0f8ff;}#sk-container-id-1 div.sk-toggleable__content pre {margin: 0.2em;color: black;border-radius: 0.25em;background-color: #f0f8ff;}#sk-container-id-1 input.sk-toggleable__control:checked~div.sk-toggleable__content {max-height: 200px;max-width: 100%;overflow: auto;}#sk-container-id-1 input.sk-toggleable__control:checked~label.sk-toggleable__label-arrow:before {content: \"▾\";}#sk-container-id-1 div.sk-estimator input.sk-toggleable__control:checked~label.sk-toggleable__label {background-color: #d4ebff;}#sk-container-id-1 div.sk-label input.sk-toggleable__control:checked~label.sk-toggleable__label {background-color: #d4ebff;}#sk-container-id-1 input.sk-hidden--visually {border: 0;clip: rect(1px 1px 1px 1px);clip: rect(1px, 1px, 1px, 1px);height: 1px;margin: -1px;overflow: hidden;padding: 0;position: absolute;width: 1px;}#sk-container-id-1 div.sk-estimator {font-family: monospace;background-color: #f0f8ff;border: 1px dotted black;border-radius: 0.25em;box-sizing: border-box;margin-bottom: 0.5em;}#sk-container-id-1 div.sk-estimator:hover {background-color: #d4ebff;}#sk-container-id-1 div.sk-parallel-item::after {content: \"\";width: 100%;border-bottom: 1px solid gray;flex-grow: 1;}#sk-container-id-1 div.sk-label:hover label.sk-toggleable__label {background-color: #d4ebff;}#sk-container-id-1 div.sk-serial::before {content: \"\";position: absolute;border-left: 1px solid gray;box-sizing: border-box;top: 0;bottom: 0;left: 50%;z-index: 0;}#sk-container-id-1 div.sk-serial {display: flex;flex-direction: column;align-items: center;background-color: white;padding-right: 0.2em;padding-left: 0.2em;position: relative;}#sk-container-id-1 div.sk-item {position: relative;z-index: 1;}#sk-container-id-1 div.sk-parallel {display: flex;align-items: stretch;justify-content: center;background-color: white;position: relative;}#sk-container-id-1 div.sk-item::before, #sk-container-id-1 div.sk-parallel-item::before {content: \"\";position: absolute;border-left: 1px solid gray;box-sizing: border-box;top: 0;bottom: 0;left: 50%;z-index: -1;}#sk-container-id-1 div.sk-parallel-item {display: flex;flex-direction: column;z-index: 1;position: relative;background-color: white;}#sk-container-id-1 div.sk-parallel-item:first-child::after {align-self: flex-end;width: 50%;}#sk-container-id-1 div.sk-parallel-item:last-child::after {align-self: flex-start;width: 50%;}#sk-container-id-1 div.sk-parallel-item:only-child::after {width: 0;}#sk-container-id-1 div.sk-dashed-wrapped {border: 1px dashed gray;margin: 0 0.4em 0.5em 0.4em;box-sizing: border-box;padding-bottom: 0.4em;background-color: white;}#sk-container-id-1 div.sk-label label {font-family: monospace;font-weight: bold;display: inline-block;line-height: 1.2em;}#sk-container-id-1 div.sk-label-container {text-align: center;}#sk-container-id-1 div.sk-container {/* jupyter's `normalize.less` sets `[hidden] { display: none; }` but bootstrap.min.css set `[hidden] { display: none !important; }` so we also need the `!important` here to be able to override the default hidden behavior on the sphinx rendered scikit-learn.org. See: https://github.com/scikit-learn/scikit-learn/issues/21755 */display: inline-block !important;position: relative;}#sk-container-id-1 div.sk-text-repr-fallback {display: none;}</style><div id=\"sk-container-id-1\" class=\"sk-top-container\"><div class=\"sk-text-repr-fallback\"><pre>GridSearchCV(cv=5, estimator=DecisionTreeClassifier(random_state=42),\n",
       "             param_grid={&#x27;max_leaf_nodes&#x27;: range(3, 9)},\n",
       "             scoring=&#x27;matthews_corrcoef&#x27;)</pre><b>In a Jupyter environment, please rerun this cell to show the HTML representation or trust the notebook. <br />On GitHub, the HTML representation is unable to render, please try loading this page with nbviewer.org.</b></div><div class=\"sk-container\" hidden><div class=\"sk-item sk-dashed-wrapped\"><div class=\"sk-label-container\"><div class=\"sk-label sk-toggleable\"><input class=\"sk-toggleable__control sk-hidden--visually\" id=\"sk-estimator-id-1\" type=\"checkbox\" ><label for=\"sk-estimator-id-1\" class=\"sk-toggleable__label sk-toggleable__label-arrow\">GridSearchCV</label><div class=\"sk-toggleable__content\"><pre>GridSearchCV(cv=5, estimator=DecisionTreeClassifier(random_state=42),\n",
       "             param_grid={&#x27;max_leaf_nodes&#x27;: range(3, 9)},\n",
       "             scoring=&#x27;matthews_corrcoef&#x27;)</pre></div></div></div><div class=\"sk-parallel\"><div class=\"sk-parallel-item\"><div class=\"sk-item\"><div class=\"sk-label-container\"><div class=\"sk-label sk-toggleable\"><input class=\"sk-toggleable__control sk-hidden--visually\" id=\"sk-estimator-id-2\" type=\"checkbox\" ><label for=\"sk-estimator-id-2\" class=\"sk-toggleable__label sk-toggleable__label-arrow\">estimator: DecisionTreeClassifier</label><div class=\"sk-toggleable__content\"><pre>DecisionTreeClassifier(random_state=42)</pre></div></div></div><div class=\"sk-serial\"><div class=\"sk-item\"><div class=\"sk-estimator sk-toggleable\"><input class=\"sk-toggleable__control sk-hidden--visually\" id=\"sk-estimator-id-3\" type=\"checkbox\" ><label for=\"sk-estimator-id-3\" class=\"sk-toggleable__label sk-toggleable__label-arrow\">DecisionTreeClassifier</label><div class=\"sk-toggleable__content\"><pre>DecisionTreeClassifier(random_state=42)</pre></div></div></div></div></div></div></div></div></div></div>"
      ],
      "text/plain": [
       "GridSearchCV(cv=5, estimator=DecisionTreeClassifier(random_state=42),\n",
       "             param_grid={'max_leaf_nodes': range(3, 9)},\n",
       "             scoring='matthews_corrcoef')"
      ]
     },
     "execution_count": 14,
     "metadata": {},
     "output_type": "execute_result"
    }
   ],
   "source": [
    "# hyper parameter tuning\n",
    "\n",
    "dtc_model=DecisionTreeClassifier(random_state=42)\n",
    "\n",
    "parameters = {'max_leaf_nodes': range(3,9,1)}\n",
    "gs_clf = GridSearchCV(dtc_model, parameters, cv=5, scoring='matthews_corrcoef')\n",
    "\n",
    "features = ['amount', 'external_dest', 'oldbalanceOrg_imputed', 'newbalanceOrig', 'oldbalanceDest',\n",
    "       'newbalanceDest_imputed', 'deviation_from_max_7_days',\n",
    "       'deviation_from_max_3_days', 'type_CASH_IN', 'type_CASH_OUT', 'type_DEBIT',\n",
    "       'type_PAYMENT', 'type_TRANSFER']\n",
    "\n",
    "gs_clf.fit(X_val[features], y_val)"
   ]
  },
  {
   "cell_type": "code",
   "execution_count": 15,
   "metadata": {},
   "outputs": [
    {
     "name": "stdout",
     "output_type": "stream",
     "text": [
      "max_leaf_nodes: 8\n",
      "grid search score, cv=5, 0.5061408455889455\n"
     ]
    }
   ],
   "source": [
    "for param_name in sorted(parameters.keys()):\n",
    "    print(\"%s: %r\" % (param_name, gs_clf.best_params_[param_name]))\n",
    "print('grid search score, cv=5,', gs_clf.best_score_)"
   ]
  },
  {
   "cell_type": "code",
   "execution_count": 16,
   "metadata": {},
   "outputs": [],
   "source": [
    "dtc_model=gs_clf.best_estimator_\n",
    "dtc_model.fit(X_train[features],y_train)\n",
    "dtc_prediction=dtc_model.predict(X_test[features])"
   ]
  },
  {
   "cell_type": "code",
   "execution_count": 17,
   "metadata": {},
   "outputs": [],
   "source": [
    "predicates = dtc_model.feature_names_in_[dtc_model.feature_importances_!=0]"
   ]
  },
  {
   "cell_type": "code",
   "execution_count": 18,
   "metadata": {},
   "outputs": [
    {
     "data": {
      "text/plain": [
       "array(['amount', 'external_dest', 'oldbalanceOrg_imputed',\n",
       "       'newbalanceOrig', 'oldbalanceDest', 'newbalanceDest_imputed',\n",
       "       'deviation_from_max_7_days', 'deviation_from_max_3_days',\n",
       "       'type_CASH_IN', 'type_CASH_OUT', 'type_DEBIT', 'type_PAYMENT',\n",
       "       'type_TRANSFER'], dtype=object)"
      ]
     },
     "execution_count": 18,
     "metadata": {},
     "output_type": "execute_result"
    }
   ],
   "source": [
    "dtc_model.feature_names_in_"
   ]
  },
  {
   "cell_type": "code",
   "execution_count": 19,
   "metadata": {},
   "outputs": [
    {
     "name": "stdout",
     "output_type": "stream",
     "text": [
      "Accuracy: 0.999528\n",
      "Precision TP/(TP+FP): 0.971098\n",
      "Recall TP/(TP+FN): 0.665083\n",
      "F1 Score: 0.789474\n",
      "MCC Score: 0.803454\n"
     ]
    },
    {
     "data": {
      "image/png": "[encoded data removed]",
      "text/plain": [
       "<Figure size 640x480 with 2 Axes>"
      ]
     },
     "metadata": {},
     "output_type": "display_data"
    }
   ],
   "source": [
    "performance(dtc_model, x_test=X_test[features], y_test=y_test)"
   ]
  },
  {
   "cell_type": "code",
   "execution_count": 20,
   "metadata": {},
   "outputs": [
    {
     "data": {
      "text/plain": [
       "[Text(0.5769230769230769, 0.9, 'amount <= 3.079\\ngini = 0.003\\nsamples = 4599530\\nvalue = [4593585, 5945]\\nclass = y[0]'),\n",
       " Text(0.3076923076923077, 0.7, 'max_last_3 <= 0.5\\ngini = 0.002\\nsamples = 4568369\\nvalue = [4563640, 4729]\\nclass = y[0]'),\n",
       " Text(0.15384615384615385, 0.5, 'amount <= 1.297\\ngini = 0.001\\nsamples = 4213050\\nvalue = [4210651, 2399]\\nclass = y[0]'),\n",
       " Text(0.07692307692307693, 0.3, 'gini = 0.001\\nsamples = 4212296\\nvalue = [4210301, 1995]\\nclass = y[0]'),\n",
       " Text(0.23076923076923078, 0.3, 'newbalanceDest <= -0.007\\ngini = 0.497\\nsamples = 754\\nvalue = [350, 404]\\nclass = y[1]'),\n",
       " Text(0.15384615384615385, 0.1, 'gini = 0.138\\nsamples = 348\\nvalue = [26, 322]\\nclass = y[1]'),\n",
       " Text(0.3076923076923077, 0.1, 'gini = 0.322\\nsamples = 406\\nvalue = [324, 82]\\nclass = y[0]'),\n",
       " Text(0.46153846153846156, 0.5, 'oldbalanceOrg <= 0.5\\ngini = 0.013\\nsamples = 355319\\nvalue = [352989, 2330]\\nclass = y[0]'),\n",
       " Text(0.38461538461538464, 0.3, 'gini = 0.0\\nsamples = 352934\\nvalue = [352914, 20]\\nclass = y[0]'),\n",
       " Text(0.5384615384615384, 0.3, 'gini = 0.061\\nsamples = 2385\\nvalue = [75, 2310]\\nclass = y[1]'),\n",
       " Text(0.8461538461538461, 0.7, 'oldbalanceOrg <= 0.5\\ngini = 0.075\\nsamples = 31161\\nvalue = [29945, 1216]\\nclass = y[0]'),\n",
       " Text(0.7692307692307693, 0.5, 'max_last_3 <= 0.5\\ngini = 0.038\\nsamples = 30536\\nvalue = [29945, 591]\\nclass = y[0]'),\n",
       " Text(0.6923076923076923, 0.3, 'gini = 0.069\\nsamples = 612\\nvalue = [22, 590]\\nclass = y[1]'),\n",
       " Text(0.8461538461538461, 0.3, 'gini = 0.0\\nsamples = 29924\\nvalue = [29923, 1]\\nclass = y[0]'),\n",
       " Text(0.9230769230769231, 0.5, 'gini = 0.0\\nsamples = 625\\nvalue = [0, 625]\\nclass = y[1]')]"
      ]
     },
     "execution_count": 20,
     "metadata": {},
     "output_type": "execute_result"
    },
    {
     "data": {
      "image/png": "[encoded data removed]",
      "text/plain": [
       "<Figure size 640x480 with 1 Axes>"
      ]
     },
     "metadata": {},
     "output_type": "display_data"
    }
   ],
   "source": [
    "plot_tree(dtc_model, feature_names=X_test.columns, filled=True, fontsize=4, class_names=True)"
   ]
  },
  {
   "cell_type": "code",
   "execution_count": 22,
   "metadata": {},
   "outputs": [
    {
     "name": "stdout",
     "output_type": "stream",
     "text": [
      "isFraud\n",
      "[    591     608     707 ... 4599525 4599528 4599529]\n",
      "('max_last_3', 0.5)\n",
      "[      0       1       2 ... 4599518 4599521 4599528]\n",
      "('newbalanceDest', -0.0067258847411721945)\n",
      "[]\n",
      "('amount', 1.2966257333755493)\n",
      "[      0       1       2 ... 4599524 4599528 4599529]\n",
      "('amount', 3.0788129568099976)\n",
      "[      0       1       2 ... 4599525 4599528 4599529]\n",
      "('oldbalanceOrg', 0.5)\n",
      "[      0       2       7 ... 4594930 4599398 4599399]\n"
     ]
    }
   ],
   "source": [
    "def create_cart_predicates(cart_model, input_df):\n",
    "    \"\"\" Creates data frame with columns from decision tree features and thresholds feature<threshold\"\"\"\n",
    "    features_thresholds = list(set(list(zip(X_test.columns[dtc_model.tree_.feature[dtc_model.tree_.feature>=0]], \n",
    "                  dtc_model.tree_.threshold[dtc_model.tree_.feature>=0]))))\n",
    "    df = pd.DataFrame()\n",
    "    for ft in features_thresholds:\n",
    "        df[str(ft)] = input_df[ft[0]]<=ft[1]\n",
    "        \n",
    "    df['isFraud'] = input_df['isFraud']\n",
    "    predicates = df.columns[:-1]\n",
    "    return df, predicates\n",
    "\n",
    "train_predicates_cart, predicates = create_cart_predicates(dtc_model, df_train)\n",
    "test_predicates_cart,a = create_cart_predicates(dtc_model, df_test)\n",
    "\n",
    "create_facts_and_examples(df_=train_predicates_cart, target='isFraud', \\\n",
    "                          predicates=predicates, output_dir='examples/fraud-cart')\n",
    "\n",
    "test_predicates_cart.to_parquet(path='examples/fraud-cart/df_test.parquet')"
   ]
  },
  {
   "cell_type": "markdown",
   "metadata": {},
   "source": [
    "## Prepare background knowledge, positive, and negative examples for DILP"
   ]
  },
  {
   "cell_type": "code",
   "execution_count": 23,
   "metadata": {},
   "outputs": [
    {
     "name": "stdout",
     "output_type": "stream",
     "text": [
      "isFraud\n",
      "[100 101 102 103 104 105 106 107 108 109 110 111 112 113 114 115 116 117\n",
      " 118 119 120 121 122 123 124 125 126 127 128 129 130 131 132 133 134 135\n",
      " 136 137 138 139 140 141 142 143 144 145 146 147 148 149 150 151 152 153\n",
      " 154 155 156 157 158 159 160 161 162 163 164 165 166 167 168 169 170 171\n",
      " 172 173 174 175 176 177 178 179 180 181 182 183 184 185 186 187 188 189\n",
      " 190 191 192 193 194 195 196 197 198 199]\n",
      "external_dest\n",
      "[  7   8   9  10  11  12  13  14  15  16  17  18  19  20  21  22  23  24\n",
      "  25  26  28  46  47  48  49  50  51  52  53  54  55  56  57  58  59  60\n",
      "  61  70  71  72  73  74  75  76  77  78 100 102 105 106 107 108 110 111\n",
      " 112 116 117 118 119 120 121 126 127 128 130 131 134 137 138 142 143 146\n",
      " 148 149 156 157 160 163 165 175 176 177 178 181 187 189 191 197 199]\n",
      "type_CASH_IN\n",
      "[ 1  3  4  6 27 28 29 32 33 34 37 39 41 42 64 69 81 82 84 85 86 89 90 98\n",
      " 99]\n",
      "type_CASH_OUT\n",
      "[  0   2  31  35  43  44  45  63  66  68  79  83  88  93  96  97 101 103\n",
      " 104 109 113 114 115 122 123 124 125 129 132 133 135 136 140 141 144 145\n",
      " 147 151 152 153 154 155 158 159 161 162 168 169 170 171 173 174 179 180\n",
      " 182 184 186 190 192 193 194 195 196 198]\n",
      "type_DEBIT\n",
      "[ 5 30 36 40 67 91 92 94 95]\n",
      "type_PAYMENT\n",
      "[ 7  8  9 10 11 12 13 14 15 16 17 18 19 20 21 22 23 24 25 46 47 48 49 50\n",
      " 51 52 53 54 55 56 57 58 59 60 61 70 71 72 73 74 75 76 77 78]\n",
      "type_TRANSFER\n",
      "[ 26  38  62  65  80  87 100 102 105 106 107 108 110 111 112 116 117 118\n",
      " 119 120 121 126 127 128 130 131 134 137 138 139 142 143 146 148 149 150\n",
      " 156 157 160 163 164 165 166 167 172 175 176 177 178 181 183 185 187 188\n",
      " 189 191 197 199]\n",
      "deviation_from_max_7_days\n",
      "[  0   1   2   3   4   5   6   7   8   9  10  11  12  13  14  15  16  17\n",
      "  18  19  20  21  22  23  24  25  26  29  31  32  34  37  39  40  41  42\n",
      "  43  44  45  46  47  48  49  50  51  52  53  54  55  56  57  58  59  60\n",
      "  61  62  63  69  70  71  72  73  74  75  76  77  78  79  80  81  83  85\n",
      "  87  88  90  94  95  96  99 100 101 102 103 104 105 106 107 108 109 110\n",
      " 111 112 113 114 115 116 117 118 119 120 121 122 123 124 125 126 127 128\n",
      " 129 130 131 132 133 134 135 136 137 138 139 140 141 142 143 144 145 146\n",
      " 147 148 149 150 151 152 154 156 157 159 160 161 163 164 165 166 167 168\n",
      " 169 170 171 172 173 175 176 177 178 179 180 181 182 183 185 187 188 190\n",
      " 191 192 194 196 197 199]\n"
     ]
    }
   ],
   "source": [
    "df_1 = df_train[df_train['isFraud']==0]\n",
    "df_2 = df_train[df_train['isFraud']==1]\n",
    "fraud_background = pd.concat([df_1.iloc[0:100], df_2.iloc[0:100]], ignore_index=True)\n",
    "#  type = transfer, and\n",
    "# • externalDest = True, and\n",
    "# • amount - maxDest7 > -0.15\n",
    "fraud_background['deviation_from_max_7_days'] = fraud_background['deviation_from_max_7_days']>-0.15\n",
    "predicates=['external_dest', 'type_CASH_IN', 'type_CASH_OUT', 'type_DEBIT', 'type_PAYMENT',\n",
    "                                       'type_TRANSFER', 'deviation_from_max_7_days']\n",
    "\n",
    "create_facts_and_examples(df_=fraud_background, target='isFraud', \n",
    "                          predicates=predicates, output_dir='examples/fraud')\n",
    "\n",
    "df_test.to_parquet(path='examples/fraud/df_test.parquet')\n"
   ]
  },
  {
   "cell_type": "code",
   "execution_count": null,
   "metadata": {},
   "outputs": [],
   "source": [
    "assert 0, \"break before ripper\""
   ]
  },
  {
   "cell_type": "markdown",
   "metadata": {},
   "source": [
    "## RIPPER"
   ]
  },
  {
   "cell_type": "code",
   "execution_count": null,
   "metadata": {},
   "outputs": [],
   "source": [
    "import wittgenstein as lw"
   ]
  },
  {
   "cell_type": "code",
   "execution_count": null,
   "metadata": {},
   "outputs": [],
   "source": [
    "#https://pypi.org/project/wittgenstein/\n",
    "#https://www.geeksforgeeks.org/ripper-algorithm/\n",
    "#https://github.com/imoscovitz/wittgenstein#useful-references\n",
    "ripper_clf = lw.RIPPER() # Or irep_clf = lw.IREP() to build a model using IREP\n",
    "ripper_clf.fit(X_train,y_train) # Or pass X and y data to .fit\n",
    "ripper_clf"
   ]
  },
  {
   "cell_type": "code",
   "execution_count": null,
   "metadata": {},
   "outputs": [],
   "source": [
    "ripper_clf.out_model()"
   ]
  },
  {
   "cell_type": "code",
   "execution_count": null,
   "metadata": {},
   "outputs": [],
   "source": [
    "performance(ripper_clf, x_test=X_test, y_test=y_test)"
   ]
  },
  {
   "cell_type": "code",
   "execution_count": null,
   "metadata": {},
   "outputs": [],
   "source": []
  }
 ],
 "metadata": {
  "kaggle": {
   "accelerator": "none",
   "dataSources": [
    {
     "datasetId": 1069,
     "sourceId": 1940,
     "sourceType": "datasetVersion"
    }
   ],
   "dockerImageVersionId": 30646,
   "isGpuEnabled": false,
   "isInternetEnabled": false,
   "language": "python",
   "sourceType": "notebook"
  },
  "kernelspec": {
   "display_name": "Python 3 (ipykernel)",
   "language": "python",
   "name": "python3"
  },
  "language_info": {
   "codemirror_mode": {
    "name": "ipython",
    "version": 3
   },
   "file_extension": ".py",
   "mimetype": "text/x-python",
   "name": "python",
   "nbconvert_exporter": "python",
   "pygments_lexer": "ipython3",
   "version": "3.11.7"
  }
 },
 "nbformat": 4,
 "nbformat_minor": 4
}
