{
 "cells": [
  {
   "cell_type": "code",
   "execution_count": 1,
   "metadata": {},
   "outputs": [],
   "source": [
    "#install dependencies\n",
    "# !pip install pyarrow\n",
    "# !pip install  duckdb --upgrade --pre\n",
    "# !pip install wittgenstein\n"
   ]
  },
  {
   "cell_type": "code",
   "execution_count": 2,
   "metadata": {
    "_cell_guid": "b1076dfc-b9ad-4769-8c92-a6c4dae69d19",
    "_uuid": "8f2839f25d086af736a60e9eeb907d3b93b6e0e5"
   },
   "outputs": [],
   "source": [
    "import numpy as np \n",
    "import pandas as pd \n",
    "import matplotlib.pyplot as plt \n",
    "\n",
    "from sklearn.model_selection import train_test_split,  GroupShuffleSplit\n",
    "from sklearn.metrics import precision_score, recall_score, accuracy_score, f1_score, matthews_corrcoef\n",
    "\n",
    "from sklearn.tree import DecisionTreeClassifier, plot_tree\n",
    "from sklearn.linear_model import LogisticRegression\n",
    "from sklearn.preprocessing import KBinsDiscretizer, StandardScaler\n",
    "from sklearn.model_selection import GridSearchCV\n",
    "\n",
    "import os\n",
    "import time\n",
    "\n",
    "## Duck Db imports\n",
    "import pyarrow.parquet as pq\n",
    "import duckdb\n",
    "\n",
    "# developed packages\n",
    "from utils import create_facts_and_examples, performance_metrics\n"
   ]
  },
  {
   "cell_type": "markdown",
   "metadata": {},
   "source": [
    "\n",
    "## Import Data¶\n"
   ]
  },
  {
   "cell_type": "markdown",
   "metadata": {},
   "source": [
    "#### create duck db connection"
   ]
  },
  {
   "cell_type": "code",
   "execution_count": 3,
   "metadata": {},
   "outputs": [
    {
     "data": {
      "text/plain": [
       "<duckdb.duckdb.DuckDBPyConnection at 0x7f77bc30bc30>"
      ]
     },
     "execution_count": 3,
     "metadata": {},
     "output_type": "execute_result"
    }
   ],
   "source": [
    "con = duckdb.connect(':memory:')\n",
    "# enable automatic query parallelization\n",
    "con.execute(\"PRAGMA threads=2\")\n",
    "# enable caching of parquet metadata\n",
    "con.execute(\"PRAGMA enable_object_cache\")"
   ]
  },
  {
   "cell_type": "markdown",
   "metadata": {},
   "source": [
    "#### Reading PAYSIM1 data and creating parquet file"
   ]
  },
  {
   "cell_type": "code",
   "execution_count": 4,
   "metadata": {},
   "outputs": [],
   "source": [
    "try:\n",
    "    con.sql('DROP TABLE df_fraud_tbl')\n",
    "    print(\"previous table dropped\")\n",
    "except:\n",
    "    pass\n",
    "\n",
    "try:\n",
    "    con.sql(\"\"\"CREATE TABLE fraud_tbl AS SELECT * FROM 'fraud.parquet';\"\"\")\n",
    "except:\n",
    "    con.sql(\n",
    "    \"\"\"\n",
    "    copy 'DATA/paysim1/PS_20174392719_1491204439457_log.csv' to 'fraud.parquet';\n",
    "\"\"\")\n",
    "    con.sql(\"\"\"CREATE TABLE fraud_tbl AS SELECT * FROM 'fraud.parquet';\"\"\")"
   ]
  },
  {
   "cell_type": "markdown",
   "metadata": {},
   "source": [
    "#### Creating externarl origin and destination, Imputing zero values for external accounts"
   ]
  },
  {
   "cell_type": "code",
   "execution_count": 5,
   "metadata": {},
   "outputs": [],
   "source": [
    "df_fraud = con.sql(\"\"\" \n",
    "SELECT *,\n",
    "-- evaluating external accounts\n",
    "    oldbalanceOrg==0 and newbalanceOrig==0 as external_orig,\n",
    "    oldbalanceDest==0 and newbalanceDest==0 as external_dest,\n",
    "-- Imputing zero values for external accounts\n",
    "    CASE WHEN external_orig==True \n",
    "        THEN  amount\n",
    "        ELSE oldbalanceOrg\n",
    "    END AS oldbalanceOrg_imputed,\n",
    "    CASE WHEN external_dest==True \n",
    "        THEN  amount\n",
    "        ELSE newbalanceDest\n",
    "    END AS newbalanceDest_imputed, \n",
    "FROM fraud_tbl\n",
    "\"\"\").df()\n",
    "\n",
    "# testing\n",
    "slice_index = df_fraud['external_orig']==True\n",
    "\n",
    "assert np.sum(df_fraud[slice_index]['amount'] != df_fraud[slice_index]['oldbalanceOrg_imputed'] )==0, \"Wrong imputation for external origin\"\n",
    "\n",
    "slice_index = df_fraud['external_dest']==True\n",
    "\n",
    "assert np.sum(df_fraud[slice_index]['amount'] != df_fraud[slice_index]['newbalanceDest_imputed'] )==0, \"Wrong imputation for external destination\"\n"
   ]
  },
  {
   "cell_type": "markdown",
   "metadata": {},
   "source": [
    "## Split data to train/test/val "
   ]
  },
  {
   "cell_type": "markdown",
   "metadata": {},
   "source": [
    "#### train and test sets"
   ]
  },
  {
   "cell_type": "code",
   "execution_count": 6,
   "metadata": {},
   "outputs": [],
   "source": [
    "gss = GroupShuffleSplit(n_splits=1, test_size=0.15, random_state=42)\n",
    "for train_index, test_index in gss.split(df_fraud, groups=df_fraud['nameDest']):\n",
    "    df_train_total = df_fraud.loc[train_index]\n",
    "    df_test_       = df_fraud.loc[test_index]"
   ]
  },
  {
   "cell_type": "markdown",
   "metadata": {},
   "source": [
    "#### validation set is a part of train set"
   ]
  },
  {
   "cell_type": "code",
   "execution_count": 7,
   "metadata": {},
   "outputs": [],
   "source": [
    "df_train_total = df_train_total.reset_index(drop=True)\n",
    "\n",
    "gss = GroupShuffleSplit(n_splits=1, test_size=0.15, random_state=42)\n",
    "for train_index, val_index in gss.split(df_train_total, groups=df_train_total['nameDest']):\n",
    "    df_train_ = df_train_total.loc[train_index]\n",
    "    df_val_   = df_train_total.loc[val_index]"
   ]
  },
  {
   "cell_type": "markdown",
   "metadata": {},
   "source": [
    "# Preprocessing"
   ]
  },
  {
   "cell_type": "markdown",
   "metadata": {},
   "source": [
    "#### aggregation definition\n",
    "compute average, and maximum amount of transfer for the last 3, and 7 days for the destination "
   ]
  },
  {
   "cell_type": "code",
   "execution_count": 8,
   "metadata": {},
   "outputs": [],
   "source": [
    "def aggregates(df):\n",
    "    \"\"\" runs aggregations on pandas dataframe with help of duckdb\"\"\"\n",
    "    data = df.copy()\n",
    "    data = data.sort_values(by='step')\n",
    "    data=data.reset_index(drop=True).reset_index()\n",
    "    data = con.sql(\"\"\"\n",
    "        SELECT \n",
    "            *,\n",
    "\n",
    "-- calculate aggregetions (Average and Max) for last 7 including the current row for each name Destination\n",
    "            AVG(amount) OVER (PARTITION BY nameDest ORDER BY index ROWS BETWEEN 6 PRECEDING AND CURRENT ROW) AS mean_last_7,\n",
    "            MAX(amount) OVER (PARTITION BY nameDest ORDER BY index ROWS BETWEEN 6 PRECEDING AND CURRENT ROW) AS max_last_7,\n",
    "       \n",
    "-- calculate aggregetions (Average and Max) for last 3 including the current row for each name Destination\n",
    "            AVG(amount) OVER (PARTITION BY nameDest ORDER BY index ROWS BETWEEN 2 PRECEDING AND CURRENT ROW) AS mean_last_3,\n",
    "            MAX(amount) OVER (PARTITION BY nameDest ORDER BY index ROWS BETWEEN 2 PRECEDING AND CURRENT ROW) AS max_last_3,\n",
    "\n",
    "-- deviation from the aggregated values\n",
    "            amount-mean_last_7 as deviation_from_mean_7_days,\n",
    "            amount-mean_last_3 as deviation_from_mean_3_days,\n",
    "            amount-max_last_7 as deviation_from_max_7_days,\n",
    "            amount-max_last_3 as deviation_from_max_3_days,\n",
    "\n",
    "        FROM \n",
    "            data\n",
    "            ORDER BY index\n",
    "            \"\"\").df()\n",
    "    \n",
    "    return data"
   ]
  },
  {
   "cell_type": "markdown",
   "metadata": {},
   "source": [
    "#### Preprocessing class fit on train data and processes "
   ]
  },
  {
   "cell_type": "code",
   "execution_count": 9,
   "metadata": {},
   "outputs": [],
   "source": [
    "class Preprocess:\n",
    "    def __init__(self, scaler_columns):\n",
    "\n",
    "        self.scaler = StandardScaler()\n",
    "\n",
    "        self.scaler_columns = scaler_columns\n",
    "        \n",
    "    def fit(self, train_data_frame):\n",
    "        \n",
    "        self.scaler.fit(train_data_frame[self.scaler_columns])\n",
    "        \n",
    "    def transform(self, data_frame):\n",
    "        \n",
    "        df = data_frame.copy()\n",
    "        \n",
    "        #scale numerical columns \n",
    "        df[self.scaler_columns] = self.scaler.transform(df[self.scaler_columns])\n",
    "        \n",
    "        ### run aggregation\n",
    "        df = aggregates(df)\n",
    "        \n",
    "        # one hot encoding and drop columns \n",
    "        df['distType'] = df[\"nameDest\"].str[0]\n",
    "        df = pd.get_dummies(df, columns=['type', \"distType\"])\n",
    "        df.drop(columns=[\"step\", \"nameOrig\", \"nameDest\", \"isFlaggedFraud\"], inplace=True)\n",
    "\n",
    "        \n",
    "        return df\n",
    "\n",
    "    \n",
    "columns = ['amount', 'oldbalanceOrg_imputed', 'newbalanceOrig', 'oldbalanceDest',\n",
    "   'newbalanceDest_imputed']\n",
    "\n",
    "preprocessor = Preprocess(scaler_columns=columns)\n",
    "\n",
    "preprocessor.fit(df_train_)"
   ]
  },
  {
   "cell_type": "markdown",
   "metadata": {},
   "source": [
    "#### prerocessing "
   ]
  },
  {
   "cell_type": "code",
   "execution_count": 10,
   "metadata": {
    "scrolled": true
   },
   "outputs": [
    {
     "data": {
      "application/vnd.jupyter.widget-view+json": {
       "model_id": "f1e9478bbb86435bbb2102efe13c9bf8",
       "version_major": 2,
       "version_minor": 0
      },
      "text/plain": [
       "FloatProgress(value=0.0, layout=Layout(width='auto'), style=ProgressStyle(bar_color='black'))"
      ]
     },
     "metadata": {},
     "output_type": "display_data"
    }
   ],
   "source": [
    "df_train = preprocessor.transform(df_train_)\n",
    "df_test = preprocessor.transform(df_test_)\n",
    "df_val = preprocessor.transform(df_val_)"
   ]
  },
  {
   "cell_type": "markdown",
   "metadata": {},
   "source": [
    "#### performance"
   ]
  },
  {
   "cell_type": "code",
   "execution_count": 11,
   "metadata": {},
   "outputs": [],
   "source": [
    "def performance(model, x_test, y_test):\n",
    "    \"\"\" evaluetes performance of the model\"\"\"\n",
    "    y_pred = model.predict(x_test)\n",
    "    performance_metrics(y_pred, y_test, labels=[True, False])"
   ]
  },
  {
   "cell_type": "markdown",
   "metadata": {},
   "source": [
    "## Decision Tree"
   ]
  },
  {
   "cell_type": "code",
   "execution_count": 12,
   "metadata": {},
   "outputs": [],
   "source": [
    "X_train = df_train.drop(columns=['isFraud'])\n",
    "y_train = df_train['isFraud']\n",
    "X_test = df_test.drop(columns=['isFraud'])\n",
    "y_test = df_test['isFraud']\n",
    "\n",
    "X_val = df_val.drop(columns=['isFraud'])\n",
    "y_val = df_val['isFraud']"
   ]
  },
  {
   "cell_type": "code",
   "execution_count": 13,
   "metadata": {
    "scrolled": true
   },
   "outputs": [
    {
     "data": {
      "text/html": [
       "<style>#sk-container-id-1 {color: black;background-color: white;}#sk-container-id-1 pre{padding: 0;}#sk-container-id-1 div.sk-toggleable {background-color: white;}#sk-container-id-1 label.sk-toggleable__label {cursor: pointer;display: block;width: 100%;margin-bottom: 0;padding: 0.3em;box-sizing: border-box;text-align: center;}#sk-container-id-1 label.sk-toggleable__label-arrow:before {content: \"▸\";float: left;margin-right: 0.25em;color: #696969;}#sk-container-id-1 label.sk-toggleable__label-arrow:hover:before {color: black;}#sk-container-id-1 div.sk-estimator:hover label.sk-toggleable__label-arrow:before {color: black;}#sk-container-id-1 div.sk-toggleable__content {max-height: 0;max-width: 0;overflow: hidden;text-align: left;background-color: #f0f8ff;}#sk-container-id-1 div.sk-toggleable__content pre {margin: 0.2em;color: black;border-radius: 0.25em;background-color: #f0f8ff;}#sk-container-id-1 input.sk-toggleable__control:checked~div.sk-toggleable__content {max-height: 200px;max-width: 100%;overflow: auto;}#sk-container-id-1 input.sk-toggleable__control:checked~label.sk-toggleable__label-arrow:before {content: \"▾\";}#sk-container-id-1 div.sk-estimator input.sk-toggleable__control:checked~label.sk-toggleable__label {background-color: #d4ebff;}#sk-container-id-1 div.sk-label input.sk-toggleable__control:checked~label.sk-toggleable__label {background-color: #d4ebff;}#sk-container-id-1 input.sk-hidden--visually {border: 0;clip: rect(1px 1px 1px 1px);clip: rect(1px, 1px, 1px, 1px);height: 1px;margin: -1px;overflow: hidden;padding: 0;position: absolute;width: 1px;}#sk-container-id-1 div.sk-estimator {font-family: monospace;background-color: #f0f8ff;border: 1px dotted black;border-radius: 0.25em;box-sizing: border-box;margin-bottom: 0.5em;}#sk-container-id-1 div.sk-estimator:hover {background-color: #d4ebff;}#sk-container-id-1 div.sk-parallel-item::after {content: \"\";width: 100%;border-bottom: 1px solid gray;flex-grow: 1;}#sk-container-id-1 div.sk-label:hover label.sk-toggleable__label {background-color: #d4ebff;}#sk-container-id-1 div.sk-serial::before {content: \"\";position: absolute;border-left: 1px solid gray;box-sizing: border-box;top: 0;bottom: 0;left: 50%;z-index: 0;}#sk-container-id-1 div.sk-serial {display: flex;flex-direction: column;align-items: center;background-color: white;padding-right: 0.2em;padding-left: 0.2em;position: relative;}#sk-container-id-1 div.sk-item {position: relative;z-index: 1;}#sk-container-id-1 div.sk-parallel {display: flex;align-items: stretch;justify-content: center;background-color: white;position: relative;}#sk-container-id-1 div.sk-item::before, #sk-container-id-1 div.sk-parallel-item::before {content: \"\";position: absolute;border-left: 1px solid gray;box-sizing: border-box;top: 0;bottom: 0;left: 50%;z-index: -1;}#sk-container-id-1 div.sk-parallel-item {display: flex;flex-direction: column;z-index: 1;position: relative;background-color: white;}#sk-container-id-1 div.sk-parallel-item:first-child::after {align-self: flex-end;width: 50%;}#sk-container-id-1 div.sk-parallel-item:last-child::after {align-self: flex-start;width: 50%;}#sk-container-id-1 div.sk-parallel-item:only-child::after {width: 0;}#sk-container-id-1 div.sk-dashed-wrapped {border: 1px dashed gray;margin: 0 0.4em 0.5em 0.4em;box-sizing: border-box;padding-bottom: 0.4em;background-color: white;}#sk-container-id-1 div.sk-label label {font-family: monospace;font-weight: bold;display: inline-block;line-height: 1.2em;}#sk-container-id-1 div.sk-label-container {text-align: center;}#sk-container-id-1 div.sk-container {/* jupyter's `normalize.less` sets `[hidden] { display: none; }` but bootstrap.min.css set `[hidden] { display: none !important; }` so we also need the `!important` here to be able to override the default hidden behavior on the sphinx rendered scikit-learn.org. See: https://github.com/scikit-learn/scikit-learn/issues/21755 */display: inline-block !important;position: relative;}#sk-container-id-1 div.sk-text-repr-fallback {display: none;}</style><div id=\"sk-container-id-1\" class=\"sk-top-container\"><div class=\"sk-text-repr-fallback\"><pre>GridSearchCV(cv=5, estimator=DecisionTreeClassifier(random_state=42),\n",
       "             param_grid={&#x27;max_leaf_nodes&#x27;: range(3, 9)},\n",
       "             scoring=&#x27;matthews_corrcoef&#x27;)</pre><b>In a Jupyter environment, please rerun this cell to show the HTML representation or trust the notebook. <br />On GitHub, the HTML representation is unable to render, please try loading this page with nbviewer.org.</b></div><div class=\"sk-container\" hidden><div class=\"sk-item sk-dashed-wrapped\"><div class=\"sk-label-container\"><div class=\"sk-label sk-toggleable\"><input class=\"sk-toggleable__control sk-hidden--visually\" id=\"sk-estimator-id-1\" type=\"checkbox\" ><label for=\"sk-estimator-id-1\" class=\"sk-toggleable__label sk-toggleable__label-arrow\">GridSearchCV</label><div class=\"sk-toggleable__content\"><pre>GridSearchCV(cv=5, estimator=DecisionTreeClassifier(random_state=42),\n",
       "             param_grid={&#x27;max_leaf_nodes&#x27;: range(3, 9)},\n",
       "             scoring=&#x27;matthews_corrcoef&#x27;)</pre></div></div></div><div class=\"sk-parallel\"><div class=\"sk-parallel-item\"><div class=\"sk-item\"><div class=\"sk-label-container\"><div class=\"sk-label sk-toggleable\"><input class=\"sk-toggleable__control sk-hidden--visually\" id=\"sk-estimator-id-2\" type=\"checkbox\" ><label for=\"sk-estimator-id-2\" class=\"sk-toggleable__label sk-toggleable__label-arrow\">estimator: DecisionTreeClassifier</label><div class=\"sk-toggleable__content\"><pre>DecisionTreeClassifier(random_state=42)</pre></div></div></div><div class=\"sk-serial\"><div class=\"sk-item\"><div class=\"sk-estimator sk-toggleable\"><input class=\"sk-toggleable__control sk-hidden--visually\" id=\"sk-estimator-id-3\" type=\"checkbox\" ><label for=\"sk-estimator-id-3\" class=\"sk-toggleable__label sk-toggleable__label-arrow\">DecisionTreeClassifier</label><div class=\"sk-toggleable__content\"><pre>DecisionTreeClassifier(random_state=42)</pre></div></div></div></div></div></div></div></div></div></div>"
      ],
      "text/plain": [
       "GridSearchCV(cv=5, estimator=DecisionTreeClassifier(random_state=42),\n",
       "             param_grid={'max_leaf_nodes': range(3, 9)},\n",
       "             scoring='matthews_corrcoef')"
      ]
     },
     "execution_count": 13,
     "metadata": {},
     "output_type": "execute_result"
    }
   ],
   "source": [
    "# hyper parameter tuning\n",
    "\n",
    "dtc_model=DecisionTreeClassifier(random_state=42)\n",
    "\n",
    "parameters = {'max_leaf_nodes': range(3,9,1)}\n",
    "gs_clf = GridSearchCV(dtc_model, parameters, cv=5, scoring='matthews_corrcoef')\n",
    "\n",
    "features = ['amount', 'external_dest', 'oldbalanceOrg_imputed', 'newbalanceOrig', 'oldbalanceDest',\n",
    "       'newbalanceDest_imputed', 'deviation_from_max_7_days',\n",
    "       'deviation_from_max_3_days', 'type_CASH_IN', 'type_CASH_OUT', 'type_DEBIT',\n",
    "       'type_PAYMENT', 'type_TRANSFER']\n",
    "\n",
    "gs_clf.fit(X_val[features], y_val)"
   ]
  },
  {
   "cell_type": "code",
   "execution_count": 14,
   "metadata": {},
   "outputs": [
    {
     "name": "stdout",
     "output_type": "stream",
     "text": [
      "max_leaf_nodes: 8\n",
      "grid search score, cv=5, 0.5061408455889455\n"
     ]
    }
   ],
   "source": [
    "for param_name in sorted(parameters.keys()):\n",
    "    print(\"%s: %r\" % (param_name, gs_clf.best_params_[param_name]))\n",
    "print('grid search score, cv=5,', gs_clf.best_score_)"
   ]
  },
  {
   "cell_type": "code",
   "execution_count": 15,
   "metadata": {},
   "outputs": [],
   "source": [
    "dtc_model=gs_clf.best_estimator_\n",
    "dtc_model.fit(X_train[features],y_train)\n",
    "dtc_prediction=dtc_model.predict(X_test[features])"
   ]
  },
  {
   "cell_type": "code",
   "execution_count": 16,
   "metadata": {},
   "outputs": [
    {
     "name": "stdout",
     "output_type": "stream",
     "text": [
      "Accuracy: 0.999528\n",
      "Precision TP/(TP+FP): 0.971098\n",
      "Recall TP/(TP+FN): 0.665083\n",
      "F1 Score: 0.789474\n",
      "MCC Score: 0.803454\n"
     ]
    },
    {
     "data": {
      "image/png": "[encoded data removed]",
      "text/plain": [
       "<Figure size 640x480 with 2 Axes>"
      ]
     },
     "metadata": {},
     "output_type": "display_data"
    }
   ],
   "source": [
    "performance(dtc_model, x_test=X_test[features], y_test=y_test)"
   ]
  },
  {
   "cell_type": "code",
   "execution_count": 17,
   "metadata": {},
   "outputs": [
    {
     "data": {
      "text/plain": [
       "[Text(0.5769230769230769, 0.9, 'amount <= 3.079\\ngini = 0.003\\nsamples = 4599530\\nvalue = [4593585, 5945]\\nclass = y[0]'),\n",
       " Text(0.3076923076923077, 0.7, 'type_TRANSFER <= 0.5\\ngini = 0.002\\nsamples = 4568369\\nvalue = [4563640, 4729]\\nclass = y[0]'),\n",
       " Text(0.15384615384615385, 0.5, 'amount <= 1.297\\ngini = 0.001\\nsamples = 4213050\\nvalue = [4210651, 2399]\\nclass = y[0]'),\n",
       " Text(0.07692307692307693, 0.3, 'gini = 0.001\\nsamples = 4212296\\nvalue = [4210301, 1995]\\nclass = y[0]'),\n",
       " Text(0.23076923076923078, 0.3, 'oldbalanceDest <= -0.007\\ngini = 0.497\\nsamples = 754\\nvalue = [350, 404]\\nclass = y[1]'),\n",
       " Text(0.15384615384615385, 0.1, 'gini = 0.138\\nsamples = 348\\nvalue = [26, 322]\\nclass = y[1]'),\n",
       " Text(0.3076923076923077, 0.1, 'gini = 0.322\\nsamples = 406\\nvalue = [324, 82]\\nclass = y[0]'),\n",
       " Text(0.46153846153846156, 0.5, 'external_dest <= 0.5\\ngini = 0.013\\nsamples = 355319\\nvalue = [352989, 2330]\\nclass = y[0]'),\n",
       " Text(0.38461538461538464, 0.3, 'gini = 0.0\\nsamples = 352934\\nvalue = [352914, 20]\\nclass = y[0]'),\n",
       " Text(0.5384615384615384, 0.3, 'gini = 0.061\\nsamples = 2385\\nvalue = [75, 2310]\\nclass = y[1]'),\n",
       " Text(0.8461538461538461, 0.7, 'external_dest <= 0.5\\ngini = 0.075\\nsamples = 31161\\nvalue = [29945, 1216]\\nclass = y[0]'),\n",
       " Text(0.7692307692307693, 0.5, 'type_TRANSFER <= 0.5\\ngini = 0.038\\nsamples = 30536\\nvalue = [29945, 591]\\nclass = y[0]'),\n",
       " Text(0.6923076923076923, 0.3, 'gini = 0.069\\nsamples = 612\\nvalue = [22, 590]\\nclass = y[1]'),\n",
       " Text(0.8461538461538461, 0.3, 'gini = 0.0\\nsamples = 29924\\nvalue = [29923, 1]\\nclass = y[0]'),\n",
       " Text(0.9230769230769231, 0.5, 'gini = 0.0\\nsamples = 625\\nvalue = [0, 625]\\nclass = y[1]')]"
      ]
     },
     "execution_count": 17,
     "metadata": {},
     "output_type": "execute_result"
    },
    {
     "data": {
      "image/png": "[encoded data removed]",
      "text/plain": [
       "<Figure size 640x480 with 1 Axes>"
      ]
     },
     "metadata": {},
     "output_type": "display_data"
    }
   ],
   "source": [
    "plot_tree(dtc_model, feature_names=dtc_model.feature_names_in_, filled=True, fontsize=4, class_names=True)"
   ]
  },
  {
   "cell_type": "code",
   "execution_count": 18,
   "metadata": {},
   "outputs": [
    {
     "name": "stdout",
     "output_type": "stream",
     "text": [
      "isFraud\n",
      "[    201     864     877 ... 4599527 4599528 4599529]\n",
      "{type_TRANSFER, 0.5}\n",
      "[      0       1       2 ... 4599525 4599528 4599529]\n",
      "{external_dest, 0.5}\n",
      "[     11      12      14 ... 4599525 4599528 4599529]\n",
      "{oldbalanceDest, -0.0067258847411721945}\n",
      "[      0       1       2 ... 4599526 4599527 4599528]\n",
      "{amount, 1.2966257333755493}\n",
      "[      0       1       2 ... 4599523 4599526 4599529]\n",
      "{amount, 3.0788129568099976}\n",
      "[      0       1       2 ... 4599525 4599526 4599529]\n"
     ]
    }
   ],
   "source": [
    "def create_cart_predicates(cart_model, input_df):\n",
    "    \"\"\" Creates data frame with columns from decision tree features and thresholds feature<threshold\"\"\"\n",
    "    bool_filter         = cart_model.tree_.feature>=0\n",
    "    chosen_features_id  = cart_model.tree_.feature[bool_filter]\n",
    "    chosen_features     = cart_model.feature_names_in_[chosen_features_id]\n",
    "    thresholds          = cart_model.tree_.threshold[bool_filter]\n",
    "    features_thresholds = list(set(list(zip(chosen_features, thresholds))))\n",
    "    df = pd.DataFrame()\n",
    "    for ft in features_thresholds:\n",
    "        df[str(ft).replace('(','{').replace(')','}').replace('\\'','')] = input_df[ft[0]]<=ft[1]\n",
    "        \n",
    "    df['isFraud'] = input_df['isFraud']\n",
    "    predicates = df.columns[:-1]\n",
    "    return df, predicates\n",
    "\n",
    "train_predicates_cart, predicates = create_cart_predicates(dtc_model, df_train)\n",
    "test_predicates_cart,a = create_cart_predicates(dtc_model, df_test)\n",
    "\n",
    "create_facts_and_examples(df_=train_predicates_cart, target='isFraud', \\\n",
    "                          predicates=predicates, output_dir='examples/fraud-cart')\n",
    "\n",
    "test_predicates_cart.to_parquet(path='examples/fraud-cart/df_test.parquet')"
   ]
  },
  {
   "cell_type": "code",
   "execution_count": 19,
   "metadata": {
    "scrolled": true
   },
   "outputs": [
    {
     "name": "stdout",
     "output_type": "stream",
     "text": [
      "isFraud\n",
      "[100 101 102 103 104 105 106 107 108 109 110 111 112 113 114 115 116 117\n",
      " 118 119 120 121 122 123 124 125 126 127 128 129 130 131 132 133 134 135\n",
      " 136 137 138 139 140 141 142 143 144 145 146 147 148 149 150 151 152 153\n",
      " 154 155 156 157 158 159 160 161 162 163 164 165 166 167 168 169 170 171\n",
      " 172 173 174 175 176 177 178 179 180 181 182 183 184 185 186 187 188 189\n",
      " 190 191 192 193 194 195 196 197 198 199]\n",
      "{type_TRANSFER, 0.5}\n",
      "[  0   1   2   3   4   5   6   7   8   9  10  11  13  21  22  23  24  25\n",
      "  26  28  29  30  31  32  33  34  35  36  37  38  39  40  41  42  43  44\n",
      "  45  46  47  55  56  57  58  59  61  62  63  64  65  66  67  68  69  70\n",
      "  71  72  73  74  75  76  77  78  79  80  81  82  83  84  85  86  87  88\n",
      "  89  90  92  93  94  95  96  97  98  99 101 104 106 108 110 113 115 117\n",
      " 120 122 125 130 133 134 136 139 140 143 144 148 149 151 153 154 156 157\n",
      " 159 161 162 163 166 168 169 171 173 175 177 178 181 183 185 189 190 192\n",
      " 193 195 196 199]\n",
      "{external_dest, 0.5}\n",
      "[ 11  12  14  15  16  17  18  19  20  21  27  31  32  33  34  35  36  37\n",
      "  38  39  40  41  42  44  48  49  50  51  52  53  54  57  59  60  61  62\n",
      "  63  64  65  66  67  68  69  70  71  72  73  74  75  76  77  87  88  89\n",
      "  90  91  96  97  99 101 104 106 108 110 113 115 117 120 122 125 129 130\n",
      " 133 134 136 139 140 143 144 148 149 151 152 153 154 156 157 158 159 160\n",
      " 161 162 163 166 168 169 170 171 172 173 175 177 178 181 183 184 185 187\n",
      " 188 189 190 192 193 195 196 199]\n",
      "{oldbalanceDest, -0.0067258847411721945}\n",
      "[  0   1   2   3   4   5   6   7   8   9  10  11  13  17  20  22  23  24\n",
      "  25  26  28  29  30  31  33  35  37  40  41  43  45  46  47  49  52  54\n",
      "  55  56  57  58  59  61  63  64  65  66  67  68  69  72  74  76  77  78\n",
      "  79  80  81  82  83  84  85  86  87  90  91  92  93  94  95  96  97  98\n",
      " 100 101 102 103 104 105 106 107 108 109 110 111 112 113 114 115 116 117\n",
      " 118 119 120 121 123 124 125 126 127 128 129 130 131 132 133 134 135 136\n",
      " 137 138 139 140 141 142 143 144 145 146 147 148 149 150 151 152 153 154\n",
      " 155 156 157 158 160 161 162 163 164 165 166 167 168 169 170 171 172 173\n",
      " 174 175 176 177 178 179 180 181 182 183 184 185 186 188 189 190 191 192\n",
      " 193 194 196 197 198 199]\n",
      "{amount, 1.2966257333755493}\n",
      "[  0   1   2   3   4   5   6   7   8   9  10  11  12  13  14  17  18  19\n",
      "  20  21  22  23  24  25  26  27  28  29  30  31  32  33  34  35  36  37\n",
      "  38  39  40  41  42  43  44  45  46  47  49  51  52  53  54  55  56  57\n",
      "  58  59  60  61  62  63  64  65  66  67  68  69  70  71  72  73  74  75\n",
      "  76  77  78  79  80  81  82  83  84  85  86  87  88  89  90  91  92  93\n",
      "  94  95  96  97  98  99 100 101 102 103 104 105 106 107 108 109 110 111\n",
      " 115 116 117 118 119 120 121 125 126 127 128 129 130 131 132 133 134 135\n",
      " 136 137 138 139 140 141 142 143 144 145 147 148 149 150 151 153 154 155\n",
      " 156 157 159 162 163 164 165 166 167 169 170 171 172 173 174 177 178 179\n",
      " 180 181 182 183 184 185 186 190 191 192 196 197]\n",
      "{amount, 3.0788129568099976}\n",
      "[  0   1   2   3   4   5   6   7   8   9  10  11  12  13  14  15  16  17\n",
      "  18  19  20  21  22  23  24  25  26  27  28  29  30  31  32  33  34  35\n",
      "  36  37  38  39  40  41  42  43  44  45  46  47  49  51  52  53  54  55\n",
      "  56  57  58  59  60  61  62  63  64  65  66  67  68  69  70  71  72  73\n",
      "  74  75  76  77  78  79  80  81  82  83  84  85  86  87  88  89  90  91\n",
      "  92  93  94  95  96  97  98  99 100 101 102 103 104 105 106 107 108 109\n",
      " 110 111 112 113 114 115 116 117 118 119 120 121 125 126 127 128 129 130\n",
      " 131 132 133 134 135 136 137 138 139 140 141 142 143 144 145 147 148 149\n",
      " 150 151 152 153 154 155 156 157 158 159 160 161 162 163 164 165 166 167\n",
      " 169 170 171 172 173 174 177 178 179 180 181 182 183 184 185 186 187 190\n",
      " 191 192 193 194 196 197 198 199]\n"
     ]
    }
   ],
   "source": [
    "#short version\n",
    "df_1 = train_predicates_cart[train_predicates_cart['isFraud']==0]\n",
    "df_2 = train_predicates_cart[train_predicates_cart['isFraud']==1]\n",
    "fraud_background = pd.concat([df_1.iloc[0:100], df_2.iloc[0:100]], ignore_index=True)\n",
    "create_facts_and_examples(df_=fraud_background, target='isFraud', \\\n",
    "                          predicates=predicates, output_dir='examples/fraud-cart-short')\n",
    "\n",
    "test_predicates_cart.to_parquet(path='examples/fraud-cart-short/df_test.parquet')"
   ]
  },
  {
   "cell_type": "code",
   "execution_count": 20,
   "metadata": {
    "scrolled": true
   },
   "outputs": [
    {
     "name": "stdout",
     "output_type": "stream",
     "text": [
      "isFraud\n",
      "[1000 1001 1002 1003 1004 1005 1006 1007 1008 1009]\n",
      "{type_TRANSFER, 0.5}\n",
      "[   0    1    2    3    4    5    6    7    8    9   10   11   13   21\n",
      "   22   23   24   25   26   28   29   30   31   32   33   34   35   36\n",
      "   37   38   39   40   41   42   43   44   45   46   47   55   56   57\n",
      "   58   59   61   62   63   64   65   66   67   68   69   70   71   72\n",
      "   73   74   75   76   77   78   79   80   81   82   83   84   85   86\n",
      "   87   88   89   90   92   93   94   95   96   97   98   99  100  101\n",
      "  102  103  104  105  106  107  108  109  110  111  112  113  114  115\n",
      "  116  117  118  119  120  121  122  123  124  125  126  127  128  129\n",
      "  130  131  132  133  134  135  136  137  139  140  141  142  143  144\n",
      "  145  146  148  149  150  151  152  153  154  155  156  157  158  159\n",
      "  160  161  162  163  164  165  166  167  168  169  170  171  172  173\n",
      "  174  175  176  177  178  180  181  182  183  184  185  186  187  188\n",
      "  189  190  191  192  193  194  195  196  197  198  199  200  201  203\n",
      "  204  205  206  207  208  209  210  211  212  213  214  215  216  217\n",
      "  218  219  220  221  222  223  224  225  226  227  228  229  230  231\n",
      "  232  233  234  235  236  237  238  239  240  241  242  243  244  246\n",
      "  247  248  249  250  251  252  253  254  255  256  257  258  259  260\n",
      "  263  264  265  266  267  269  270  271  272  273  274  275  276  277\n",
      "  278  279  280  281  282  283  284  285  286  287  288  289  290  291\n",
      "  292  293  294  295  296  297  298  299  300  301  302  303  304  305\n",
      "  308  309  310  311  312  313  314  315  316  317  318  319  320  321\n",
      "  322  323  324  325  326  327  328  329  330  331  333  334  335  336\n",
      "  337  338  341  343  344  345  346  347  348  349  351  352  353  354\n",
      "  356  357  358  359  360  361  362  363  364  365  366  367  368  369\n",
      "  370  371  372  373  374  375  376  377  378  379  380  381  382  383\n",
      "  384  385  386  387  389  390  391  392  393  394  395  396  397  398\n",
      "  399  400  401  402  403  404  405  406  407  408  409  410  411  412\n",
      "  416  417  418  419  420  421  422  423  424  425  426  427  428  429\n",
      "  430  433  434  435  436  437  438  440  441  442  443  444  445  446\n",
      "  447  448  449  450  451  452  453  454  455  456  457  458  459  460\n",
      "  461  462  463  464  465  466  467  468  469  470  471  472  473  474\n",
      "  475  476  477  478  479  480  481  482  483  484  485  486  487  488\n",
      "  489  490  491  492  493  494  495  496  498  499  500  501  502  503\n",
      "  504  505  506  507  508  509  510  511  512  513  514  515  516  517\n",
      "  518  519  520  521  522  523  524  525  526  527  528  529  530  531\n",
      "  532  533  534  535  536  537  538  539  540  541  542  543  544  545\n",
      "  546  547  549  550  551  552  553  554  555  556  557  558  559  560\n",
      "  561  562  563  564  565  566  567  569  571  572  573  575  576  577\n",
      "  578  579  580  581  582  583  584  585  586  587  588  589  590  591\n",
      "  592  593  594  595  596  597  598  599  600  601  602  603  604  605\n",
      "  606  607  608  609  610  611  612  613  614  615  616  617  618  619\n",
      "  620  621  622  623  624  625  626  627  628  629  630  631  632  633\n",
      "  634  635  636  637  638  639  640  641  642  643  644  645  646  647\n",
      "  648  649  650  651  652  653  654  655  656  657  658  659  660  661\n",
      "  662  663  664  665  666  667  668  669  670  671  672  673  674  675\n",
      "  676  677  678  679  680  681  682  683  684  685  686  687  688  689\n",
      "  690  691  692  693  694  698  699  700  701  702  703  704  705  706\n",
      "  707  708  709  710  711  712  714  715  725  726  727  728  729  730\n",
      "  731  732  733  734  735  736  737  738  739  740  741  742  743  744\n",
      "  745  746  747  748  750  751  752  753  754  755  756  757  758  759\n",
      "  760  761  762  763  764  765  766  767  768  769  770  771  772  773\n",
      "  774  775  776  777  778  779  780  781  782  783  784  785  786  787\n",
      "  789  790  791  792  793  794  795  796  797  798  799  800  801  802\n",
      "  803  804  805  806  807  808  809  811  812  813  814  815  816  817\n",
      "  818  819  820  821  822  823  824  826  827  828  829  830  831  832\n",
      "  833  834  835  836  837  838  839  840  841  842  843  844  845  846\n",
      "  847  848  849  850  851  852  853  854  855  856  857  858  859  860\n",
      "  861  862  863  864  865  866  867  868  869  870  871  872  873  874\n",
      "  875  876  877  878  879  880  881  882  883  884  885  887  888  889\n",
      "  891  892  893  896  897  898  899  900  904  905  906  907  908  909\n",
      "  910  911  912  913  914  915  916  917  918  919  920  924  925  926\n",
      "  927  928  929  930  931  932  933  934  936  937  938  939  940  941\n",
      "  942  943  944  945  946  947  948  949  950  951  952  953  954  955\n",
      "  956  957  958  959  960  962  964  965  966  967  968  969  970  971\n",
      "  972  973  974  975  976  977  978  979  980  981  982  983  984  985\n",
      "  986  987  988  989  990  991  992  993  994  995  996  997  998  999\n",
      " 1001 1004 1006 1008]\n",
      "{external_dest, 0.5}\n",
      "[  11   12   14   15   16   17   18   19   20   21   27   31   32   33\n",
      "   34   35   36   37   38   39   40   41   42   44   48   49   50   51\n",
      "   52   53   54   57   59   60   61   62   63   64   65   66   67   68\n",
      "   69   70   71   72   73   74   75   76   77   87   88   89   90   91\n",
      "   96   97   99  100  102  104  111  113  114  115  116  117  118  119\n",
      "  120  121  122  123  124  125  126  134  138  141  145  147  148  149\n",
      "  150  151  158  172  173  177  178  179  183  184  185  194  195  198\n",
      "  202  203  204  205  206  207  208  209  210  211  236  237  238  239\n",
      "  245  246  249  257  261  262  263  265  268  274  281  286  300  303\n",
      "  306  307  310  320  322  329  332  333  338  339  340  341  342  349\n",
      "  350  351  353  355  361  362  378  379  380  381  388  390  392  399\n",
      "  402  407  409  413  414  415  428  431  432  439  451  459  462  464\n",
      "  466  488  489  490  491  492  493  494  497  498  499  501  507  508\n",
      "  509  510  511  513  514  515  528  529  530  531  532  533  534  535\n",
      "  536  537  538  539  540  541  542  546  548  550  555  556  559  562\n",
      "  568  570  573  574  582  584  586  607  608  609  610  611  612  613\n",
      "  614  615  616  617  618  619  620  621  624  626  627  633  634  635\n",
      "  636  639  640  641  642  643  644  645  646  647  648  649  650  651\n",
      "  652  653  654  655  656  657  658  659  660  661  662  663  670  673\n",
      "  677  681  686  695  696  697  699  712  713  716  717  718  719  720\n",
      "  721  722  723  724  729  730  731  732  733  734  735  736  737  738\n",
      "  739  740  741  742  743  744  745  746  747  749  755  757  758  759\n",
      "  760  761  762  763  764  765  766  767  768  769  770  771  772  773\n",
      "  774  775  776  777  778  779  780  781  782  783  784  785  788  798\n",
      "  804  808  809  810  820  821  824  825  843  846  863  865  866  867\n",
      "  868  869  870  871  872  873  874  886  890  891  892  894  895  901\n",
      "  902  903  904  905  907  908  910  912  915  920  921  922  923  928\n",
      "  934  935  936  939  940  941  943  944  945  946  947  948  949  950\n",
      "  951  952  953  954  955  956  957  960  961  963  964  966  970  971\n",
      "  972  973  974  975  976  977  978  979  980  981  982  984  985  986\n",
      "  987  988  989  990  991  992  993  994  995  996  997  998  999 1001\n",
      " 1004 1006 1008]\n",
      "{oldbalanceDest, -0.0067258847411721945}\n",
      "[   0    1    2    3    4    5    6    7    8    9   10   11   13   17\n",
      "   20   22   23   24   25   26   28   29   30   31   33   35   37   40\n",
      "   41   43   45   46   47   49   52   54   55   56   57   58   59   61\n",
      "   63   64   65   66   67   68   69   72   74   76   77   78   79   80\n",
      "   81   82   83   84   85   86   87   90   91   92   93   94   95   96\n",
      "   97   98  100  101  102  103  104  105  106  107  108  109  110  111\n",
      "  112  114  115  116  118  119  120  121  122  123  124  125  126  127\n",
      "  128  129  130  131  132  133  134  135  136  137  139  140  141  142\n",
      "  143  144  145  146  147  148  150  152  153  154  155  156  157  159\n",
      "  160  161  162  163  164  165  166  167  168  169  170  171  172  174\n",
      "  175  176  179  180  181  182  183  184  186  187  188  189  190  191\n",
      "  192  193  194  196  197  198  199  200  201  202  204  205  209  211\n",
      "  212  213  214  215  216  217  218  219  220  221  222  223  224  225\n",
      "  226  227  228  229  230  231  232  233  234  235  238  239  240  241\n",
      "  242  243  244  245  246  247  248  250  251  252  253  254  255  256\n",
      "  258  259  260  261  262  263  264  265  266  267  268  269  270  271\n",
      "  272  273  275  276  277  278  279  280  281  282  283  284  285  287\n",
      "  288  289  290  291  292  293  294  295  296  297  298  299  301  302\n",
      "  303  304  305  307  308  309  311  312  313  314  315  316  317  318\n",
      "  319  320  321  323  324  325  326  327  328  329  330  331  332  333\n",
      "  334  335  336  337  338  339  341  343  344  345  346  347  348  349\n",
      "  350  351  352  353  354  355  356  357  358  359  360  361  362  363\n",
      "  364  365  366  367  368  369  370  371  372  373  374  375  376  377\n",
      "  380  381  382  383  384  385  386  387  388  389  391  392  393  394\n",
      "  395  396  397  398  399  400  401  402  403  404  405  406  407  408\n",
      "  409  410  411  412  413  414  415  416  417  418  419  420  421  422\n",
      "  423  424  425  426  427  428  429  430  432  433  434  435  436  437\n",
      "  438  439  440  441  442  443  444  445  446  447  448  449  450  452\n",
      "  453  454  455  456  457  458  459  460  461  463  464  465  466  467\n",
      "  468  469  470  471  472  473  474  475  476  477  478  479  480  481\n",
      "  482  483  484  485  486  487  489  492  493  495  496  497  498  499\n",
      "  500  501  502  503  504  505  506  507  508  509  510  512  513  514\n",
      "  516  517  518  519  520  521  522  523  524  525  526  527  529  530\n",
      "  531  533  534  535  536  540  541  542  543  544  545  546  547  548\n",
      "  549  550  551  552  553  554  555  557  558  559  560  561  562  563\n",
      "  564  565  566  567  568  569  570  571  572  575  576  577  578  579\n",
      "  580  581  582  583  585  587  588  589  590  591  592  593  594  595\n",
      "  596  597  598  599  600  601  602  603  604  605  606  609  610  612\n",
      "  616  618  619  620  621  622  623  625  626  627  628  629  630  631\n",
      "  632  634  635  636  637  638  639  641  643  644  645  647  648  649\n",
      "  650  651  654  656  659  661  662  664  665  666  667  668  669  670\n",
      "  671  672  673  674  675  676  677  678  679  680  681  682  683  684\n",
      "  685  686  687  688  689  690  691  692  693  694  695  696  697  698\n",
      "  699  700  701  702  703  704  705  706  707  708  709  710  711  713\n",
      "  714  715  717  719  721  724  725  726  727  728  730  732  733  735\n",
      "  736  738  740  741  742  744  745  747  748  749  750  751  752  753\n",
      "  754  755  756  757  760  762  763  764  765  766  767  769  770  771\n",
      "  772  773  774  776  777  778  780  781  782  783  784  786  787  788\n",
      "  789  790  791  792  793  794  795  796  797  799  800  801  802  803\n",
      "  804  805  806  807  808  811  812  813  814  815  816  817  818  819\n",
      "  820  821  822  823  824  826  827  828  829  830  831  832  833  834\n",
      "  835  836  837  838  839  840  841  842  843  844  845  846  847  848\n",
      "  849  850  851  852  853  854  855  856  857  858  859  860  861  862\n",
      "  863  864  865  867  869  871  872  873  875  876  877  878  879  880\n",
      "  881  882  883  884  885  886  887  888  889  890  891  893  896  897\n",
      "  898  899  900  901  902  903  906  907  909  910  911  912  913  914\n",
      "  915  916  917  918  919  923  924  925  926  927  929  930  931  932\n",
      "  933  935  936  937  938  942  943  944  945  947  948  950  951  952\n",
      "  953  954  955  956  957  958  959  960  961  962  963  964  965  967\n",
      "  968  969  970  972  973  975  976  978  980  983  984  985  987  990\n",
      "  991  992  993  995  996  997 1000 1001 1002 1003 1004 1005 1006 1007\n",
      " 1008 1009]\n",
      "{amount, 1.2966257333755493}\n",
      "[   0    1    2 ... 1007 1008 1009]\n",
      "{amount, 3.0788129568099976}\n",
      "[   0    1    2 ... 1007 1008 1009]\n"
     ]
    }
   ],
   "source": [
    "#short version 10-1000\n",
    "df_1 = train_predicates_cart[train_predicates_cart['isFraud']==0]\n",
    "df_2 = train_predicates_cart[train_predicates_cart['isFraud']==1]\n",
    "fraud_background = pd.concat([df_1.iloc[0:1000], df_2.iloc[0:10]], ignore_index=True)\n",
    "create_facts_and_examples(df_=fraud_background, target='isFraud', \\\n",
    "                          predicates=predicates, output_dir='examples/fraud-cart-short-1000-10')\n",
    "\n",
    "test_predicates_cart.to_parquet(path='examples/fraud-cart-short-1000-10/df_test.parquet')"
   ]
  },
  {
   "cell_type": "markdown",
   "metadata": {},
   "source": [
    "## Prepare background knowledge, positive, and negative examples for DILP based on symbolic regression rule "
   ]
  },
  {
   "cell_type": "code",
   "execution_count": 26,
   "metadata": {},
   "outputs": [],
   "source": [
    "def create_symbolic_predicates(input_df):\n",
    "    \"\"\" Creates data frame with columns from decision tree features and thresholds feature<threshold\"\"\"\n",
    "    #  type = transfer, and\n",
    "    # • externalDest = True, and\n",
    "    # • amount - maxDest7 > -0.15\n",
    "    fraud_background=input_df.copy()\n",
    "    fraud_background['deviation_from_max_7_days'] = fraud_background['deviation_from_max_7_days']>-0.15\n",
    "\n",
    "    predicates=['external_dest', 'type_CASH_IN', 'type_CASH_OUT', 'type_DEBIT', 'type_PAYMENT',\n",
    "                                       'type_TRANSFER', 'deviation_from_max_7_days']\n",
    "\n",
    "    return fraud_background, predicates"
   ]
  },
  {
   "cell_type": "code",
   "execution_count": 29,
   "metadata": {
    "scrolled": true
   },
   "outputs": [
    {
     "name": "stdout",
     "output_type": "stream",
     "text": [
      "isFraud\n",
      "[100 101 102 103 104 105 106 107 108 109 110 111 112 113 114 115 116 117\n",
      " 118 119 120 121 122 123 124 125 126 127 128 129 130 131 132 133 134 135\n",
      " 136 137 138 139 140 141 142 143 144 145 146 147 148 149 150 151 152 153\n",
      " 154 155 156 157 158 159 160 161 162 163 164 165 166 167 168 169 170 171\n",
      " 172 173 174 175 176 177 178 179 180 181 182 183 184 185 186 187 188 189\n",
      " 190 191 192 193 194 195 196 197 198 199]\n",
      "external_dest\n",
      "[  0   1   2   3   4   5   6   7   8   9  10  13  22  23  24  25  26  28\n",
      "  29  30  43  45  46  47  55  56  58  78  79  80  81  82  83  84  85  86\n",
      "  92  93  94  95  98 100 102 103 105 107 109 111 112 114 116 118 119 121\n",
      " 123 124 126 127 128 131 132 135 137 138 141 142 145 146 147 150 155 164\n",
      " 165 167 174 176 179 180 182 186 191 194 197 198]\n",
      "type_CASH_IN\n",
      "[61 62 63 64 65 66 67 68 69 70 71 72 73 74 75 76 77 87 88 89 90]\n",
      "type_CASH_OUT\n",
      "[ 31  32  33  34  35  36  37  38  39  40  41  42  44 101 104 106 108 110\n",
      " 113 115 117 120 122 125 130 133 134 136 139 140 143 144 148 149 151 153\n",
      " 154 156 157 159 161 162 163 166 168 169 171 173 175 177 178 181 183 185\n",
      " 189 190 192 193 195 196 199]\n",
      "type_DEBIT\n",
      "[11 21 57 59 96 97 99]\n",
      "type_PAYMENT\n",
      "[ 0  1  2  3  4  5  6  7  8  9 10 13 22 23 24 25 26 28 29 30 43 45 46 47\n",
      " 55 56 58 78 79 80 81 82 83 84 85 86 92 93 94 95 98]\n",
      "type_TRANSFER\n",
      "[ 12  14  15  16  17  18  19  20  27  48  49  50  51  52  53  54  60  91\n",
      " 100 102 103 105 107 109 111 112 114 116 118 119 121 123 124 126 127 128\n",
      " 129 131 132 135 137 138 141 142 145 146 147 150 152 155 158 160 164 165\n",
      " 167 170 172 174 176 179 180 182 184 186 187 188 191 194 197 198]\n",
      "deviation_from_max_7_days\n",
      "[  0   1   2   3   4   5   6   7   8   9  10  11  12  13  14  15  17  18\n",
      "  19  20  21  22  23  24  25  26  27  28  29  30  31  32  33  34  37  38\n",
      "  40  41  43  44  45  46  47  48  49  50  51  52  53  54  55  56  57  58\n",
      "  59  60  61  62  63  64  65  66  67  68  69  71  72  73  74  75  76  77\n",
      "  78  79  80  81  82  83  84  85  86  87  90  91  92  93  94  95  96  97\n",
      "  98  99 100 101 102 103 104 105 106 107 108 109 110 111 112 113 114 115\n",
      " 116 117 118 119 120 121 122 123 124 125 126 127 128 129 130 131 132 133\n",
      " 134 135 136 137 138 139 140 141 142 143 144 145 146 147 148 149 150 151\n",
      " 152 153 155 157 158 160 161 162 163 164 165 166 167 168 173 174 175 176\n",
      " 177 179 180 182 183 184 186 187 188 189 190 191 193 194 195 197 198 199]\n"
     ]
    }
   ],
   "source": [
    "train_predicates_symb, predicates_symb = create_symbolic_predicates(df_train)\n",
    "test_predicates_symb, a = create_symbolic_predicates(df_test)\n",
    "\n",
    "\n",
    "df_1 = train_predicates_symb[train_predicates_symb['isFraud']==0]\n",
    "df_2 = train_predicates_symb[train_predicates_symb['isFraud']==1]\n",
    "fraud_background = pd.concat([df_1.iloc[0:100], df_2.iloc[0:100]], ignore_index=True)\n",
    "\n",
    "\n",
    "create_facts_and_examples(df_=fraud_background, target='isFraud', \n",
    "                          predicates=predicates_symb, output_dir='examples/fraud-symb')\n",
    "\n",
    "test_predicates_symb.to_parquet(path='examples/fraud-symb/df_test.parquet')\n"
   ]
  },
  {
   "cell_type": "code",
   "execution_count": 32,
   "metadata": {},
   "outputs": [
    {
     "name": "stdout",
     "output_type": "stream",
     "text": [
      "isFraud\n",
      "[1000 1001 1002 1003 1004 1005 1006 1007 1008 1009]\n",
      "external_dest\n",
      "[   0    1    2    3    4    5    6    7    8    9   10   13   22   23\n",
      "   24   25   26   28   29   30   43   45   46   47   55   56   58   78\n",
      "   79   80   81   82   83   84   85   86   92   93   94   95   98  101\n",
      "  103  105  106  107  108  109  110  112  127  128  129  130  131  132\n",
      "  133  135  136  137  139  140  142  143  144  146  152  153  154  155\n",
      "  156  157  159  160  161  162  163  164  165  166  167  168  169  170\n",
      "  171  174  175  176  180  181  182  186  187  188  189  190  191  192\n",
      "  193  196  197  199  200  201  212  213  214  215  216  217  218  219\n",
      "  220  221  222  223  224  225  226  227  228  229  230  231  232  233\n",
      "  234  235  240  241  242  243  244  247  248  250  251  252  253  254\n",
      "  255  256  258  259  260  264  266  267  269  270  271  272  273  275\n",
      "  276  277  278  279  280  282  283  284  285  287  288  289  290  291\n",
      "  292  293  294  295  296  297  298  299  301  302  304  305  308  309\n",
      "  311  312  313  314  315  316  317  318  319  321  323  324  325  326\n",
      "  327  328  330  331  334  335  336  337  343  344  345  346  347  348\n",
      "  352  354  356  357  358  359  360  363  364  365  366  367  368  369\n",
      "  370  371  372  373  374  375  376  377  382  383  384  385  386  387\n",
      "  389  391  393  394  395  396  397  398  400  401  403  404  405  406\n",
      "  408  410  411  412  416  417  418  419  420  421  422  423  424  425\n",
      "  426  427  429  430  433  434  435  436  437  438  440  441  442  443\n",
      "  444  445  446  447  448  449  450  452  453  454  455  456  457  458\n",
      "  460  461  463  465  467  468  469  470  471  472  473  474  475  476\n",
      "  477  478  479  480  481  482  483  484  485  486  487  495  496  500\n",
      "  502  503  504  505  506  512  516  517  518  519  520  521  522  523\n",
      "  524  525  526  527  543  544  545  547  549  551  552  553  554  557\n",
      "  558  560  561  563  564  565  566  567  569  571  572  575  576  577\n",
      "  578  579  580  581  583  585  587  588  589  590  591  592  593  594\n",
      "  595  596  597  598  599  600  601  602  603  604  605  606  622  623\n",
      "  625  628  629  630  631  632  637  638  664  665  666  667  668  669\n",
      "  671  672  674  675  676  678  679  680  682  683  684  685  687  688\n",
      "  689  690  691  692  693  694  698  700  701  702  703  704  705  706\n",
      "  707  708  709  710  711  714  715  725  726  727  728  748  750  751\n",
      "  752  753  754  756  786  787  789  790  791  792  793  794  795  796\n",
      "  797  799  800  801  802  803  805  806  807  811  812  813  814  815\n",
      "  816  817  818  819  822  823  826  827  828  829  830  831  832  833\n",
      "  834  835  836  837  838  839  840  841  842  844  845  847  848  849\n",
      "  850  851  852  853  854  855  856  857  858  859  860  861  862  864\n",
      "  875  876  877  878  879  880  881  882  883  884  885  887  888  889\n",
      "  893  896  897  898  899  900  906  909  911  913  914  916  917  918\n",
      "  919  924  925  926  927  929  930  931  932  933  937  938  942  958\n",
      "  959  962  965  967  968  969  983 1000 1002 1003 1005 1007 1009]\n",
      "type_CASH_IN\n",
      "[ 61  62  63  64  65  66  67  68  69  70  71  72  73  74  75  76  77  87\n",
      "  88  89  90 113 114 115 116 117 252 351 378 379 380 381 390 409 462 464\n",
      " 466 488 489 490 491 492 493 494 514 515 528 529 530 531 532 533 534 535\n",
      " 536 537 538 539 540 541 542 545 607 608 609 610 611 612 613 614 615 616\n",
      " 617 618 619 620 621 633 634 635 636 639 640 641 642 643 644 645 646 647\n",
      " 648 649 650 651 652 653 654 655 656 657 658 659 660 661 662 663 729 730\n",
      " 731 732 733 734 735 736 737 738 739 740 741 742 743 744 745 746 747 755\n",
      " 757 758 759 760 761 762 763 764 765 766 767 768 769 770 771 772 773 774\n",
      " 775 776 777 778 779 780 781 782 783 784 785 846 866 867 868 869 870 871\n",
      " 872 873 874 905 907 908 939 940 941 943 944 945 946 947 948 949 950 951\n",
      " 952 953 954 955 956 957 966 968 970 971 972 973 974 975 976 977 978 979\n",
      " 980 981 982 984 985 986 987 988 989 990 991 992 993 994 995 996 997 998\n",
      " 999]\n",
      "type_CASH_OUT\n",
      "[  31   32   33   34   35   36   37   38   39   40   41   42   44  104\n",
      "  118  119  120  121  122  123  124  125  134  141  149  150  151  172\n",
      "  177  178  183  184  185  194  195  198  203  204  205  206  207  208\n",
      "  209  210  211  236  237  238  239  249  257  265  274  281  286  310\n",
      "  322  338  353  402  407  451  459  499  507  508  509  510  511  513\n",
      "  546  556  559  584  586  624  626  627  677  686  712  798  804  821\n",
      "  891  892  912  915  920  934  964 1001 1004 1006 1008]\n",
      "type_DEBIT\n",
      "[ 11  21  57  59  96  97  99 100 102 111 126 145 148 158 173 246 263 300\n",
      " 303 320 329 333 341 349 361 362 392 399 428 498 501 550 555 562 573 582\n",
      " 670 673 681 699 808 809 820 824 843 863 865 904 910 928 936 960]\n",
      "type_PAYMENT\n",
      "[  0   1   2   3   4   5   6   7   8   9  10  13  22  23  24  25  26  28\n",
      "  29  30  43  45  46  47  55  56  58  78  79  80  81  82  83  84  85  86\n",
      "  92  93  94  95  98 101 103 105 106 107 108 109 110 112 127 128 129 130\n",
      " 131 132 133 135 136 137 139 140 142 143 144 146 152 153 154 155 156 157\n",
      " 159 160 161 162 163 164 165 166 167 168 169 170 171 174 175 176 180 181\n",
      " 182 186 187 188 189 190 191 192 193 196 197 199 200 201 212 213 214 215\n",
      " 216 217 218 219 220 221 222 223 224 225 226 227 228 229 230 231 232 233\n",
      " 234 235 240 241 242 243 244 247 248 250 251 253 254 255 256 258 259 260\n",
      " 264 266 267 269 270 271 272 273 275 276 277 278 279 280 282 283 284 285\n",
      " 287 288 289 290 291 292 293 294 295 296 297 298 299 301 302 304 305 308\n",
      " 309 311 312 313 314 315 316 317 318 319 321 323 324 325 326 327 328 330\n",
      " 331 334 335 336 337 343 344 345 346 347 348 352 354 356 357 358 359 360\n",
      " 363 364 365 366 367 368 369 370 371 372 373 374 375 376 377 382 383 384\n",
      " 385 386 387 389 391 393 394 395 396 397 398 400 401 403 404 405 406 408\n",
      " 410 411 412 416 417 418 419 420 421 422 423 424 425 426 427 429 430 433\n",
      " 434 435 436 437 438 440 441 442 443 444 445 446 447 448 449 450 452 453\n",
      " 454 455 456 457 458 460 461 463 465 467 468 469 470 471 472 473 474 475\n",
      " 476 477 478 479 480 481 482 483 484 485 486 487 495 496 500 502 503 504\n",
      " 505 506 512 516 517 518 519 520 521 522 523 524 525 526 527 543 544 547\n",
      " 549 551 552 553 554 557 558 560 561 563 564 565 566 567 569 571 572 575\n",
      " 576 577 578 579 580 581 583 585 587 588 589 590 591 592 593 594 595 596\n",
      " 597 598 599 600 601 602 603 604 605 606 622 623 625 628 629 630 631 632\n",
      " 637 638 664 665 666 667 668 669 671 672 674 675 676 678 679 680 682 683\n",
      " 684 685 687 688 689 690 691 692 693 694 698 700 701 702 703 704 705 706\n",
      " 707 708 709 710 711 714 715 725 726 727 728 748 750 751 752 753 754 756\n",
      " 786 787 789 790 791 792 793 794 795 796 797 799 800 801 802 803 805 806\n",
      " 807 811 812 813 814 815 816 817 818 819 822 823 826 827 828 829 830 831\n",
      " 832 833 834 835 836 837 838 839 840 841 842 844 845 847 848 849 850 851\n",
      " 852 853 854 855 856 857 858 859 860 861 862 864 875 876 877 878 879 880\n",
      " 881 882 883 884 885 887 888 889 893 896 897 898 899 900 906 909 911 913\n",
      " 914 916 917 918 919 924 925 926 927 929 930 931 932 933 937 938 942 958\n",
      " 959 962 965 967 969 983]\n",
      "type_TRANSFER\n",
      "[  12   14   15   16   17   18   19   20   27   48   49   50   51   52\n",
      "   53   54   60   91  138  147  179  202  245  261  262  268  306  307\n",
      "  332  339  340  342  350  355  388  413  414  415  431  432  439  497\n",
      "  548  568  570  574  695  696  697  713  716  717  718  719  720  721\n",
      "  722  723  724  749  788  810  825  886  890  894  895  901  902  903\n",
      "  921  922  923  935  961  963 1000 1002 1003 1005 1007 1009]\n",
      "deviation_from_max_7_days\n",
      "[   0    1    2    3    4    5    6    7    8    9   10   11   12   13\n",
      "   14   15   17   18   19   20   21   22   23   24   25   26   27   28\n",
      "   29   30   31   32   33   34   37   38   40   41   43   44   45   46\n",
      "   47   48   49   50   51   52   53   54   55   56   57   58   59   60\n",
      "   61   62   63   64   65   66   67   68   69   71   72   73   74   75\n",
      "   76   77   78   79   80   81   82   83   84   85   86   87   90   91\n",
      "   92   93   94   95   96   97   98   99  100  101  102  103  104  105\n",
      "  106  107  108  109  110  111  112  113  114  115  116  118  119  120\n",
      "  121  122  123  125  126  127  128  129  130  131  132  133  134  135\n",
      "  136  137  139  140  141  142  143  144  145  146  147  148  150  152\n",
      "  153  154  155  156  157  158  159  160  161  162  163  164  165  166\n",
      "  167  168  169  170  171  172  173  174  175  176  177  178  179  180\n",
      "  181  182  183  184  186  187  188  189  190  191  192  193  194  195\n",
      "  196  197  199  200  201  202  203  204  206  208  209  211  212  213\n",
      "  214  215  216  217  218  219  220  221  222  223  224  225  226  227\n",
      "  228  229  230  231  232  233  234  235  239  240  241  242  243  244\n",
      "  245  247  248  250  251  252  253  254  255  256  257  258  259  260\n",
      "  261  262  263  264  265  266  267  268  269  270  271  272  273  274\n",
      "  275  276  277  278  279  280  281  282  283  284  285  286  287  288\n",
      "  289  290  291  292  293  294  295  296  297  298  299  301  302  303\n",
      "  304  305  306  307  308  309  311  312  313  314  315  316  317  318\n",
      "  319  320  321  322  323  324  325  326  327  328  329  330  331  332\n",
      "  333  334  335  336  337  339  341  343  344  345  346  347  348  349\n",
      "  350  351  352  354  355  356  357  358  359  360  361  362  363  364\n",
      "  365  366  367  368  369  370  371  372  373  374  375  376  377  379\n",
      "  380  381  382  383  384  385  386  387  388  389  391  393  394  395\n",
      "  396  397  398  399  400  401  402  403  404  405  406  407  408  409\n",
      "  410  411  412  413  415  416  417  418  419  420  421  422  423  424\n",
      "  425  426  427  428  429  430  432  433  434  435  436  437  438  439\n",
      "  440  441  442  443  444  445  446  447  448  449  450  452  453  454\n",
      "  455  456  457  458  459  460  461  462  463  464  465  466  467  468\n",
      "  469  470  471  472  473  474  475  476  477  478  479  480  481  482\n",
      "  483  484  485  486  487  490  492  493  494  495  496  497  498  499\n",
      "  500  502  503  504  505  506  508  509  512  515  516  517  518  519\n",
      "  520  521  522  523  524  525  526  527  529  530  531  534  537  540\n",
      "  542  543  544  545  547  548  549  550  551  552  553  554  555  557\n",
      "  558  559  560  561  562  563  564  565  566  567  568  569  571  572\n",
      "  575  576  577  578  579  580  581  583  585  587  588  589  590  591\n",
      "  592  593  594  595  596  597  598  599  600  601  602  603  604  605\n",
      "  606  607  608  610  612  615  616  618  619  620  621  622  623  625\n",
      "  626  628  629  630  631  632  633  634  635  636  637  638  639  641\n",
      "  642  643  645  646  647  648  650  654  657  659  661  664  665  666\n",
      "  667  668  669  670  671  672  674  675  676  677  678  679  680  681\n",
      "  682  683  684  685  686  687  688  689  690  691  692  693  694  696\n",
      "  697  698  699  700  701  702  703  704  705  706  707  708  709  710\n",
      "  711  713  714  715  716  717  718  719  720  722  723  724  725  726\n",
      "  727  728  729  730  735  738  740  741  742  744  748  749  750  751\n",
      "  752  753  754  756  757  763  764  765  767  769  770  773  774  777\n",
      "  780  781  782  786  787  788  789  790  791  792  793  794  795  796\n",
      "  797  799  800  801  802  803  804  805  806  807  811  812  813  814\n",
      "  815  816  817  818  819  822  823  826  827  828  829  830  831  832\n",
      "  833  834  835  836  837  838  839  840  841  842  844  845  846  847\n",
      "  848  849  850  851  852  853  854  855  856  857  858  859  860  861\n",
      "  862  864  866  869  872  873  875  876  877  878  879  880  881  882\n",
      "  883  884  885  886  887  888  889  890  893  896  897  898  899  900\n",
      "  905  906  907  909  911  912  913  914  915  916  917  918  919  923\n",
      "  924  925  926  927  929  930  931  932  933  936  937  938  942  945\n",
      "  947  951  953  955  956  958  959  960  961  962  965  967  968  969\n",
      "  970  975  978  980  981  983  984  986  987  988  991  992  993  995\n",
      "  997 1000 1001 1002 1003 1004 1005 1006 1007 1008 1009]\n"
     ]
    }
   ],
   "source": [
    "train_predicates_symb, predicates_symb = create_symbolic_predicates(df_train)\n",
    "test_predicates_symb,a = create_symbolic_predicates(df_test)\n",
    "\n",
    "\n",
    "df_1 = train_predicates_symb[train_predicates_symb['isFraud']==0]\n",
    "df_2 = train_predicates_symb[train_predicates_symb['isFraud']==1]\n",
    "fraud_background = pd.concat([df_1.iloc[0:1000], df_2.iloc[0:10]], ignore_index=True)\n",
    "\n",
    "\n",
    "create_facts_and_examples(df_=fraud_background, target='isFraud', \n",
    "                          predicates=predicates_symb, output_dir='examples/fraud-symb-10-1000')\n",
    "\n",
    "test_predicates_symb.to_parquet(path='examples/fraud-symb-10-1000/df_test.parquet')"
   ]
  },
  {
   "cell_type": "code",
   "execution_count": 22,
   "metadata": {},
   "outputs": [
    {
     "ename": "AssertionError",
     "evalue": "break before ripper",
     "output_type": "error",
     "traceback": [
      "\u001b[0;31m---------------------------------------------------------------------------\u001b[0m",
      "\u001b[0;31mAssertionError\u001b[0m                            Traceback (most recent call last)",
      "Cell \u001b[0;32mIn[22], line 1\u001b[0m\n\u001b[0;32m----> 1\u001b[0m \u001b[38;5;28;01massert\u001b[39;00m \u001b[38;5;241m0\u001b[39m, \u001b[38;5;124m\"\u001b[39m\u001b[38;5;124mbreak before ripper\u001b[39m\u001b[38;5;124m\"\u001b[39m\n",
      "\u001b[0;31mAssertionError\u001b[0m: break before ripper"
     ]
    }
   ],
   "source": [
    "assert 0, \"break before ripper\""
   ]
  },
  {
   "cell_type": "code",
   "execution_count": 39,
   "metadata": {},
   "outputs": [
    {
     "data": {
      "text/plain": [
       "0"
      ]
     },
     "execution_count": 39,
     "metadata": {},
     "output_type": "execute_result"
    }
   ],
   "source": [
    "np.sum(test_predicates_symb['type_TRANSFER']&test_predicates_symb['type_CASH_OUT'])"
   ]
  },
  {
   "cell_type": "markdown",
   "metadata": {},
   "source": [
    "## RIPPER"
   ]
  },
  {
   "cell_type": "code",
   "execution_count": null,
   "metadata": {},
   "outputs": [],
   "source": [
    "import wittgenstein as lw"
   ]
  },
  {
   "cell_type": "code",
   "execution_count": null,
   "metadata": {},
   "outputs": [],
   "source": [
    "#https://pypi.org/project/wittgenstein/\n",
    "#https://www.geeksforgeeks.org/ripper-algorithm/\n",
    "#https://github.com/imoscovitz/wittgenstein#useful-references\n",
    "ripper_clf = lw.RIPPER() # Or irep_clf = lw.IREP() to build a model using IREP\n",
    "ripper_clf.fit(X_train,y_train) # Or pass X and y data to .fit\n",
    "ripper_clf"
   ]
  },
  {
   "cell_type": "code",
   "execution_count": null,
   "metadata": {},
   "outputs": [],
   "source": [
    "ripper_clf.out_model()"
   ]
  },
  {
   "cell_type": "code",
   "execution_count": null,
   "metadata": {},
   "outputs": [],
   "source": [
    "performance(ripper_clf, x_test=X_test, y_test=y_test)"
   ]
  },
  {
   "cell_type": "code",
   "execution_count": null,
   "metadata": {},
   "outputs": [],
   "source": []
  }
 ],
 "metadata": {
  "kaggle": {
   "accelerator": "none",
   "dataSources": [
    {
     "datasetId": 1069,
     "sourceId": 1940,
     "sourceType": "datasetVersion"
    }
   ],
   "dockerImageVersionId": 30646,
   "isGpuEnabled": false,
   "isInternetEnabled": false,
   "language": "python",
   "sourceType": "notebook"
  },
  "kernelspec": {
   "display_name": "Python 3 (ipykernel)",
   "language": "python",
   "name": "python3"
  },
  "language_info": {
   "codemirror_mode": {
    "name": "ipython",
    "version": 3
   },
   "file_extension": ".py",
   "mimetype": "text/x-python",
   "name": "python",
   "nbconvert_exporter": "python",
   "pygments_lexer": "ipython3",
   "version": "3.11.7"
  }
 },
 "nbformat": 4,
 "nbformat_minor": 4
}
