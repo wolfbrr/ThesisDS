{
 "cells": [
  {
   "cell_type": "code",
   "execution_count": 1,
   "id": "cb25b2ed-b000-42b3-8358-8e092f82f6c6",
   "metadata": {},
   "outputs": [
    {
     "name": "stderr",
     "output_type": "stream",
     "text": [
      "2024-05-20 14:22:27.377564: I tensorflow/core/platform/cpu_feature_guard.cc:210] This TensorFlow binary is optimized to use available CPU instructions in performance-critical operations.\n",
      "To enable the following instructions: AVX2 FMA, in other operations, rebuild TensorFlow with the appropriate compiler flags.\n",
      "2024-05-20 14:22:28.542177: W tensorflow/compiler/tf2tensorrt/utils/py_utils.cc:38] TF-TRT Warning: Could not find TensorRT\n"
     ]
    }
   ],
   "source": [
    "import sys\n",
    "sys.path.append(\"utils/\") \n",
    "sys.path.append(\"DILP\")\n",
    "from utilities import performance_metrics\n",
    "import time\n",
    "\n",
    "from src.core import Term, Atom\n",
    "from src.ilp import Language_Frame, Program_Template, Rule_Template\n",
    "from src.dilp import DILP\n",
    "import tensorflow as tf\n",
    "import numpy as np\n",
    "from src.utils import process_file, process_dir, output_rules, test_rule, create_table\n",
    "from src.generate_template import create_templates\n",
    "import dill\n"
   ]
  },
  {
   "cell_type": "code",
   "execution_count": 2,
   "id": "61dac8d8-c785-469c-934a-cc9249c78828",
   "metadata": {},
   "outputs": [],
   "source": [
    "dill.load_session('DILP/notebook_chain_recursion.db')"
   ]
  },
  {
   "cell_type": "code",
   "execution_count": 3,
   "id": "74ad62f0-11cf-483c-8ebc-431af611b450",
   "metadata": {},
   "outputs": [
    {
     "name": "stdout",
     "output_type": "stream",
     "text": [
      "----------------------------\n",
      "Target(X_0)\n",
      "Target(X_0) -> pred1(X_0),B(X_0)\n",
      "Target(X_0) -> Cons_orig(X_0,X_1),Target(X_1)\n",
      "----------------------------\n",
      "----------------------------\n",
      "pred1(X_0)\n",
      "pred1(X_0) -> B(X_0),pred4(X_0)\n",
      "None\n",
      "----------------------------\n",
      "----------------------------\n",
      "pred2(X_0)\n",
      "pred2(X_0) -> B(X_0),pred4(X_0)\n",
      "None\n",
      "----------------------------\n",
      "----------------------------\n",
      "pred3(X_0)\n",
      "pred3(X_0) -> pred2(X_0),C(X_0)\n",
      "None\n",
      "----------------------------\n",
      "----------------------------\n",
      "pred4(X_0)\n",
      "pred4(X_0) -> A(X_0),C(X_0)\n",
      "None\n",
      "----------------------------\n"
     ]
    },
    {
     "data": {
      "text/plain": [
       "[(Target(X_0) -> pred1(X_0),B(X_0),\n",
       "  Target(X_0) -> Cons_orig(X_0,X_1),Target(X_1)),\n",
       " (pred1(X_0) -> B(X_0),pred4(X_0), None),\n",
       " (pred2(X_0) -> B(X_0),pred4(X_0), None),\n",
       " (pred3(X_0) -> pred2(X_0),C(X_0), None),\n",
       " (pred4(X_0) -> A(X_0),C(X_0), None)]"
      ]
     },
     "execution_count": 3,
     "metadata": {},
     "output_type": "execute_result"
    }
   ],
   "source": [
    "dilp.show_definition()"
   ]
  },
  {
   "cell_type": "code",
   "execution_count": null,
   "id": "6ea4dbb3-ca80-4d32-ab82-8859b84a2de1",
   "metadata": {},
   "outputs": [],
   "source": []
  }
 ],
 "metadata": {
  "kernelspec": {
   "display_name": "Python 3 (ipykernel)",
   "language": "python",
   "name": "python3"
  },
  "language_info": {
   "codemirror_mode": {
    "name": "ipython",
    "version": 3
   },
   "file_extension": ".py",
   "mimetype": "text/x-python",
   "name": "python",
   "nbconvert_exporter": "python",
   "pygments_lexer": "ipython3",
   "version": "3.11.7"
  }
 },
 "nbformat": 4,
 "nbformat_minor": 5
}
