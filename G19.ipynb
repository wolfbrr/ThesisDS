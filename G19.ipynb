{
 "cells": [
  {
   "cell_type": "code",
   "execution_count": 1,
   "id": "24fda3c2",
   "metadata": {},
   "outputs": [],
   "source": [
    "from utils import create_facts_and_examples\n",
    "import numpy as np\n",
    "import pandas as pd\n",
    "import random, os\n",
    "np.random.seed(0) #Code B"
   ]
  },
  {
   "cell_type": "markdown",
   "id": "f018b0bf-6ee8-4a6f-930f-243a6a47f970",
   "metadata": {},
   "source": [
    "### create G.19\n"
   ]
  },
  {
   "cell_type": "code",
   "execution_count": 2,
   "id": "2f456a01-f5c2-4b43-aa44-bc1c5b75b75d",
   "metadata": {},
   "outputs": [],
   "source": [
    "a=1\n",
    "b=2\n",
    "c=3\n",
    "d=4\n",
    "df = pd.DataFrame({'X':[a,b,c,b,a,a,a,b,b], \n",
    "                   'Y':[b,c,d,a,c,d,a,d,b]})\n",
    "df['Fraudster--X--Y'] = True\n",
    "# df['Fraud_Transaction--X--Y'] = df['X']!=df['Y']\n",
    "df['Transaction--X--Y'] = False\n",
    "df.loc[(df['X'] ==a)& (df['Y']==b),'Transaction--X--Y'] =True\n",
    "df.loc[(df['X'] ==b)& (df['Y']==c),'Transaction--X--Y'] =True\n",
    "df.loc[(df['X'] ==c)& (df['Y']==d),'Transaction--X--Y'] =True\n",
    "df.loc[(df['X'] ==b)& (df['Y']==a),'Transaction--X--Y'] =True"
   ]
  },
  {
   "cell_type": "code",
   "execution_count": 3,
   "id": "7be0cc94-ecbe-4724-9cea-8379cc08c373",
   "metadata": {},
   "outputs": [
    {
     "data": {
      "text/html": [
       "<div>\n",
       "<style scoped>\n",
       "    .dataframe tbody tr th:only-of-type {\n",
       "        vertical-align: middle;\n",
       "    }\n",
       "\n",
       "    .dataframe tbody tr th {\n",
       "        vertical-align: top;\n",
       "    }\n",
       "\n",
       "    .dataframe thead th {\n",
       "        text-align: right;\n",
       "    }\n",
       "</style>\n",
       "<table border=\"1\" class=\"dataframe\">\n",
       "  <thead>\n",
       "    <tr style=\"text-align: right;\">\n",
       "      <th></th>\n",
       "      <th>X</th>\n",
       "      <th>Y</th>\n",
       "      <th>Fraudster--X--Y</th>\n",
       "      <th>Transaction--X--Y</th>\n",
       "    </tr>\n",
       "  </thead>\n",
       "  <tbody>\n",
       "    <tr>\n",
       "      <th>0</th>\n",
       "      <td>1</td>\n",
       "      <td>2</td>\n",
       "      <td>True</td>\n",
       "      <td>True</td>\n",
       "    </tr>\n",
       "    <tr>\n",
       "      <th>1</th>\n",
       "      <td>2</td>\n",
       "      <td>3</td>\n",
       "      <td>True</td>\n",
       "      <td>True</td>\n",
       "    </tr>\n",
       "    <tr>\n",
       "      <th>2</th>\n",
       "      <td>3</td>\n",
       "      <td>4</td>\n",
       "      <td>True</td>\n",
       "      <td>True</td>\n",
       "    </tr>\n",
       "    <tr>\n",
       "      <th>3</th>\n",
       "      <td>2</td>\n",
       "      <td>1</td>\n",
       "      <td>True</td>\n",
       "      <td>True</td>\n",
       "    </tr>\n",
       "    <tr>\n",
       "      <th>4</th>\n",
       "      <td>1</td>\n",
       "      <td>3</td>\n",
       "      <td>True</td>\n",
       "      <td>False</td>\n",
       "    </tr>\n",
       "    <tr>\n",
       "      <th>5</th>\n",
       "      <td>1</td>\n",
       "      <td>4</td>\n",
       "      <td>True</td>\n",
       "      <td>False</td>\n",
       "    </tr>\n",
       "    <tr>\n",
       "      <th>6</th>\n",
       "      <td>1</td>\n",
       "      <td>1</td>\n",
       "      <td>True</td>\n",
       "      <td>False</td>\n",
       "    </tr>\n",
       "    <tr>\n",
       "      <th>7</th>\n",
       "      <td>2</td>\n",
       "      <td>4</td>\n",
       "      <td>True</td>\n",
       "      <td>False</td>\n",
       "    </tr>\n",
       "    <tr>\n",
       "      <th>8</th>\n",
       "      <td>2</td>\n",
       "      <td>2</td>\n",
       "      <td>True</td>\n",
       "      <td>False</td>\n",
       "    </tr>\n",
       "  </tbody>\n",
       "</table>\n",
       "</div>"
      ],
      "text/plain": [
       "   X  Y  Fraudster--X--Y  Transaction--X--Y\n",
       "0  1  2             True               True\n",
       "1  2  3             True               True\n",
       "2  3  4             True               True\n",
       "3  2  1             True               True\n",
       "4  1  3             True              False\n",
       "5  1  4             True              False\n",
       "6  1  1             True              False\n",
       "7  2  4             True              False\n",
       "8  2  2             True              False"
      ]
     },
     "execution_count": 3,
     "metadata": {},
     "output_type": "execute_result"
    }
   ],
   "source": [
    "df[df['Fraudster--X--Y']==True]\n"
   ]
  },
  {
   "cell_type": "code",
   "execution_count": 4,
   "id": "e9cecdab-640b-431e-93f0-834daa4eeeb8",
   "metadata": {},
   "outputs": [
    {
     "ename": "SyntaxError",
     "evalue": "unmatched ')' (3725361740.py, line 3)",
     "output_type": "error",
     "traceback": [
      "\u001b[0;36m  Cell \u001b[0;32mIn[4], line 3\u001b[0;36m\u001b[0m\n\u001b[0;31m    output_dir=\"examples/G.19\", filter_null_columns=False))\u001b[0m\n\u001b[0m                                                          ^\u001b[0m\n\u001b[0;31mSyntaxError\u001b[0m\u001b[0;31m:\u001b[0m unmatched ')'\n"
     ]
    }
   ],
   "source": [
    "create_facts_and_examples(df_= df, target='Fraudster--X--Y', \n",
    "                          predicates=['Transaction--X--Y'], \n",
    "                          output_dir=\"examples/G.19\", filter_null_columns=False))"
   ]
  },
  {
   "cell_type": "code",
   "execution_count": null,
   "id": "2460891f-01ae-4e8c-a14f-eac658c92707",
   "metadata": {},
   "outputs": [],
   "source": [
    "df"
   ]
  },
  {
   "cell_type": "markdown",
   "id": "ad0903c7-4e67-4eef-ae8d-2877d33594d5",
   "metadata": {},
   "source": [
    "### Transitivity"
   ]
  },
  {
   "cell_type": "code",
   "execution_count": null,
   "id": "53c1a4af-d057-4a0e-a2d8-a2d9c988bf19",
   "metadata": {},
   "outputs": [],
   "source": [
    "Fraud = np.full(2, False)\n",
    "Fraud"
   ]
  },
  {
   "cell_type": "code",
   "execution_count": null,
   "id": "8bd75e63",
   "metadata": {
    "scrolled": true
   },
   "outputs": [],
   "source": [
    "N = 10\n",
    "\n",
    "customer = ['c'+str(i) for i in range(100)]\n",
    "\n",
    "Fraud = np.full(int(N/2)+1, int(0))\n",
    "Fraud[-2:]=int(1)\n",
    "df = pd.DataFrame({'orig': customer[0:N:2]+[customer[N-1]], \n",
    "                   'destination':customer[1:N:2]+[customer[N]],\\\n",
    "                   \"Fraud\":Fraud})\n"
   ]
  },
  {
   "cell_type": "code",
   "execution_count": null,
   "id": "87b76756-e180-4112-bfdb-949c8bb29ba5",
   "metadata": {},
   "outputs": [],
   "source": [
    "df"
   ]
  },
  {
   "cell_type": "code",
   "execution_count": null,
   "id": "51bf569b-0e58-4e63-90e1-0ad61089c1cd",
   "metadata": {},
   "outputs": [],
   "source": [
    "df.drop(df[df['orig']==df['destination']].index, inplace=True)"
   ]
  },
  {
   "cell_type": "code",
   "execution_count": null,
   "id": "1cf87a6e-b03b-4446-94e9-c20ad327d952",
   "metadata": {},
   "outputs": [],
   "source": [
    "fraudsters = df[df['Fraud']==True]"
   ]
  },
  {
   "cell_type": "code",
   "execution_count": null,
   "id": "7624b3ff-4ca7-452b-b012-8646cae9d191",
   "metadata": {},
   "outputs": [],
   "source": [
    "fraudsters[['orig','destination']]"
   ]
  },
  {
   "cell_type": "code",
   "execution_count": null,
   "id": "eb217b0f-9f0b-4843-b699-bed8e255177d",
   "metadata": {},
   "outputs": [],
   "source": [
    "index_from_merge = pd.merge(df.reset_index(), fraudsters[['destination']].drop_duplicates(), how='inner', left_on='orig', right_on='destination')"
   ]
  },
  {
   "cell_type": "code",
   "execution_count": null,
   "id": "8e6ad193-e2a5-4e7b-9370-eba24038d439",
   "metadata": {},
   "outputs": [],
   "source": [
    "index_from_merge"
   ]
  },
  {
   "cell_type": "code",
   "execution_count": null,
   "id": "742a26d6-256e-45a4-8043-820a7a8cfc1d",
   "metadata": {},
   "outputs": [],
   "source": [
    "df['Fraud_chain--orig--destination']=0\n",
    "df.loc[index_from_merge['index'],'Fraud']=1\n",
    "df.loc[index_from_merge['index'],'Fraud_chain--orig--destination']=1\n",
    "df['From--orig']=1\n",
    "df['To--destination']=1"
   ]
  },
  {
   "cell_type": "code",
   "execution_count": null,
   "id": "f7ae37aa-3536-4f6d-af91-e373151b9ced",
   "metadata": {},
   "outputs": [],
   "source": [
    "df.loc[index_from_merge['index'],:]"
   ]
  },
  {
   "cell_type": "code",
   "execution_count": null,
   "id": "02f83d12-ef74-4120-8db8-49be66fcf669",
   "metadata": {},
   "outputs": [],
   "source": [
    "df"
   ]
  },
  {
   "cell_type": "markdown",
   "id": "9b8b01fe-e6b3-4ee3-92ba-db45b0fa7841",
   "metadata": {},
   "source": [
    "### creating fact, positive and negative examples"
   ]
  },
  {
   "cell_type": "code",
   "execution_count": null,
   "id": "d537e190-7149-41b3-b4e1-bbd07e3b6879",
   "metadata": {},
   "outputs": [],
   "source": [
    "#drop first letter and convert to int\n",
    "df['orig'] = df['orig'].str[1:].astype('int')\n",
    "df['destination'] = df['destination'].str[1:].astype('int')"
   ]
  },
  {
   "cell_type": "code",
   "execution_count": null,
   "id": "08ec819f-fe4f-4c61-a277-478ccb6f806e",
   "metadata": {},
   "outputs": [],
   "source": [
    "%%script active\n",
    "df['Fraud--orig--destination']=df['Fraud']\n",
    "df['Transfer--orig--destination']=1\n",
    "create_facts_and_examples(df_= df, target='Fraud_chain--orig--destination', \n",
    "                          predicates=['Fraud--orig--destination', 'Transfer--orig--destination'], \n",
    "                          output_dir=\"examples/debug-simple-transitivity\")"
   ]
  },
  {
   "cell_type": "code",
   "execution_count": null,
   "id": "6a37cf22-734a-446d-b2b6-d7e6f31f97ac",
   "metadata": {},
   "outputs": [],
   "source": [
    "df"
   ]
  },
  {
   "cell_type": "code",
   "execution_count": null,
   "id": "82e2d2b4-f44a-4e3f-8aa2-46254b6968a1",
   "metadata": {},
   "outputs": [],
   "source": []
  }
 ],
 "metadata": {
  "kernelspec": {
   "display_name": "Python 3 (ipykernel)",
   "language": "python",
   "name": "python3"
  },
  "language_info": {
   "codemirror_mode": {
    "name": "ipython",
    "version": 3
   },
   "file_extension": ".py",
   "mimetype": "text/x-python",
   "name": "python",
   "nbconvert_exporter": "python",
   "pygments_lexer": "ipython3",
   "version": "3.11.7"
  }
 },
 "nbformat": 4,
 "nbformat_minor": 5
}
